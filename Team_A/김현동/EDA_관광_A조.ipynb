{
  "cells": [
    {
      "cell_type": "code",
      "execution_count": 7,
      "id": "907f7d87",
      "metadata": {
        "id": "907f7d87"
      },
      "outputs": [],
      "source": [
        "import pandas as pd\n",
        "import numpy as np\n",
        "import matplotlib.pyplot as plt"
      ]
    },
    {
      "cell_type": "code",
      "execution_count": 8,
      "id": "b9385799",
      "metadata": {
        "id": "b9385799"
      },
      "outputs": [],
      "source": [
        "import matplotlib as mpl\n",
        "import matplotlib.font_manager as fm"
      ]
    },
    {
      "cell_type": "markdown",
      "source": [
        "# 관광지의 요소에 따른 방문자 수 차이"
      ],
      "metadata": {
        "id": "TGbj2BBigazD"
      },
      "id": "TGbj2BBigazD"
    },
    {
      "cell_type": "markdown",
      "id": "673fce34",
      "metadata": {
        "id": "673fce34"
      },
      "source": [
        "## 한글 폰트 설정"
      ]
    },
    {
      "cell_type": "code",
      "execution_count": 2,
      "id": "f6538334",
      "metadata": {
        "colab": {
          "base_uri": "https://localhost:8080/",
          "height": 258
        },
        "id": "f6538334",
        "outputId": "abee0868-56cf-42f9-f07f-b8419baa84b9"
      },
      "outputs": [
        {
          "output_type": "error",
          "ename": "NameError",
          "evalue": "ignored",
          "traceback": [
            "\u001b[0;31m---------------------------------------------------------------------------\u001b[0m",
            "\u001b[0;31mNameError\u001b[0m                                 Traceback (most recent call last)",
            "\u001b[0;32m<ipython-input-2-c87f52188c2b>\u001b[0m in \u001b[0;36m<cell line: 2>\u001b[0;34m()\u001b[0m\n\u001b[1;32m      1\u001b[0m \u001b[0;31m# 한글 폰트 설정\u001b[0m\u001b[0;34m\u001b[0m\u001b[0;34m\u001b[0m\u001b[0m\n\u001b[0;32m----> 2\u001b[0;31m \u001b[0mplt\u001b[0m\u001b[0;34m.\u001b[0m\u001b[0mrcParams\u001b[0m\u001b[0;34m[\u001b[0m\u001b[0;34m'font.family'\u001b[0m\u001b[0;34m]\u001b[0m \u001b[0;34m=\u001b[0m \u001b[0;34m'Malgun Gothic'\u001b[0m  \u001b[0;31m# 사용할 폰트 설정\u001b[0m\u001b[0;34m\u001b[0m\u001b[0;34m\u001b[0m\u001b[0m\n\u001b[0m\u001b[1;32m      3\u001b[0m \u001b[0;34m\u001b[0m\u001b[0m\n\u001b[1;32m      4\u001b[0m \u001b[0;31m# 기본적인 폰트 설정(옵션)\u001b[0m\u001b[0;34m\u001b[0m\u001b[0;34m\u001b[0m\u001b[0m\n\u001b[1;32m      5\u001b[0m \u001b[0mplt\u001b[0m\u001b[0;34m.\u001b[0m\u001b[0mrcParams\u001b[0m\u001b[0;34m[\u001b[0m\u001b[0;34m'font.size'\u001b[0m\u001b[0;34m]\u001b[0m \u001b[0;34m=\u001b[0m \u001b[0;36m12\u001b[0m            \u001b[0;31m# 기본 폰트 크기\u001b[0m\u001b[0;34m\u001b[0m\u001b[0;34m\u001b[0m\u001b[0m\n",
            "\u001b[0;31mNameError\u001b[0m: name 'plt' is not defined"
          ]
        }
      ],
      "source": [
        "# 한글 폰트 설정\n",
        "plt.rcParams['font.family'] = 'Malgun Gothic'  # 사용할 폰트 설정\n",
        "\n",
        "# 기본적인 폰트 설정(옵션)\n",
        "plt.rcParams['font.size'] = 12            # 기본 폰트 크기\n",
        "plt.rcParams['axes.unicode_minus'] = False  # 마이너스 기호 깨짐 방지"
      ]
    },
    {
      "cell_type": "markdown",
      "id": "e4fa8a79",
      "metadata": {
        "id": "e4fa8a79"
      },
      "source": [
        "## A. 전국관광지정보표준데이터 (공공데이터포털)"
      ]
    },
    {
      "cell_type": "code",
      "execution_count": 3,
      "id": "cf44134e",
      "metadata": {
        "colab": {
          "base_uri": "https://localhost:8080/",
          "height": 239
        },
        "id": "cf44134e",
        "outputId": "fdeecb01-d8a0-4d33-d572-fdd6b580bcb1"
      },
      "outputs": [
        {
          "output_type": "error",
          "ename": "NameError",
          "evalue": "ignored",
          "traceback": [
            "\u001b[0;31m---------------------------------------------------------------------------\u001b[0m",
            "\u001b[0;31mNameError\u001b[0m                                 Traceback (most recent call last)",
            "\u001b[0;32m<ipython-input-3-fc1c489845d6>\u001b[0m in \u001b[0;36m<cell line: 3>\u001b[0;34m()\u001b[0m\n\u001b[1;32m      1\u001b[0m \u001b[0;31m# \"전국관광지정보표준데이터.csv\" 불러오기\u001b[0m\u001b[0;34m\u001b[0m\u001b[0;34m\u001b[0m\u001b[0m\n\u001b[1;32m      2\u001b[0m \u001b[0;34m\u001b[0m\u001b[0m\n\u001b[0;32m----> 3\u001b[0;31m \u001b[0mwhole_tour\u001b[0m \u001b[0;34m=\u001b[0m \u001b[0mpd\u001b[0m\u001b[0;34m.\u001b[0m\u001b[0mread_csv\u001b[0m\u001b[0;34m(\u001b[0m\u001b[0;34m\"전국관광지정보표준데이터.csv\"\u001b[0m\u001b[0;34m,\u001b[0m \u001b[0mencoding\u001b[0m \u001b[0;34m=\u001b[0m \u001b[0;34m'cp949'\u001b[0m\u001b[0;34m)\u001b[0m\u001b[0;34m\u001b[0m\u001b[0;34m\u001b[0m\u001b[0m\n\u001b[0m\u001b[1;32m      4\u001b[0m \u001b[0mwhole_tour\u001b[0m\u001b[0;34m.\u001b[0m\u001b[0mhead\u001b[0m\u001b[0;34m(\u001b[0m\u001b[0;36m1\u001b[0m\u001b[0;34m)\u001b[0m\u001b[0;34m\u001b[0m\u001b[0;34m\u001b[0m\u001b[0m\n",
            "\u001b[0;31mNameError\u001b[0m: name 'pd' is not defined"
          ]
        }
      ],
      "source": [
        "# \"전국관광지정보표준데이터.csv\" 불러오기\n",
        "\n",
        "whole_tour = pd.read_csv(\"전국관광지정보표준데이터.csv\", encoding = 'cp949')\n",
        "whole_tour.head(1)"
      ]
    },
    {
      "cell_type": "markdown",
      "id": "3a741c0d",
      "metadata": {
        "id": "3a741c0d"
      },
      "source": [
        "### (0) 데이터 전처리"
      ]
    },
    {
      "cell_type": "markdown",
      "id": "4905e7b9",
      "metadata": {
        "id": "4905e7b9"
      },
      "source": [
        "#### (0-1) 해당 데이터셋에 '세종'이 없음을 확인"
      ]
    },
    {
      "cell_type": "code",
      "execution_count": null,
      "id": "de4f9eae",
      "metadata": {
        "id": "de4f9eae"
      },
      "outputs": [],
      "source": [
        "# '소재지도로명주소' 컬럼에 '세종' 키워드가 있는지 확인\n",
        "contains_세종_도로명주소 = whole_tour['소재지도로명주소'].str.contains('세종')\n",
        "\n",
        "# '소재지지번주소' 컬럼에 '세종' 키워드가 있는지 확인\n",
        "contains_세종_지번주소 = whole_tour['소재지지번주소'].str.contains('세종')\n",
        "\n",
        "# '소재지도로명주소' 또는 '소재지지번주소' 컬럼 중 하나라도 '세종' 키워드가 들어간 행 선택\n",
        "result = whole_tour[contains_세종_도로명주소 | contains_세종_지번주소]\n",
        "\n",
        "# '결과 확인\n",
        "print(result[['소재지도로명주소', '소재지지번주소']])"
      ]
    },
    {
      "cell_type": "markdown",
      "id": "057f5018",
      "metadata": {
        "id": "057f5018"
      },
      "source": [
        "#### (0-2) 필요 없는 컬럼 삭제하기"
      ]
    },
    {
      "cell_type": "code",
      "execution_count": null,
      "id": "37858de3",
      "metadata": {
        "scrolled": true,
        "id": "37858de3"
      },
      "outputs": [],
      "source": [
        "whole_tour = whole_tour.drop(columns = ['관광지구분','면적','지정일자','관리기관전화번호','관리기관명','제공기관코드','제공기관명','데이터기준일자'], axis=1)\n",
        "whole_tour.head(2)"
      ]
    },
    {
      "cell_type": "markdown",
      "id": "b16257ec",
      "metadata": {
        "id": "b16257ec"
      },
      "source": [
        "#### (0-3) '시도명' & '시군구명' 컬럼으로 변환"
      ]
    },
    {
      "cell_type": "code",
      "execution_count": null,
      "id": "6999dcfa",
      "metadata": {
        "id": "6999dcfa"
      },
      "outputs": [],
      "source": [
        "# '소재지도로명주소'or'소재지지번주소' 중 하나라도 값이 있으면, 해당 값을 '시도명'과 '시군구명'으로 설정\n",
        "whole_tour['시도명'] = whole_tour['소재지도로명주소'].str.split(' ', n=1).str[0].fillna(whole_tour['소재지지번주소'].str.split(' ', n=1).str[0])\n",
        "whole_tour['시군구명'] = whole_tour['소재지도로명주소'].str.split(' ', n=2).str[1].fillna(whole_tour['소재지지번주소'].str.split(' ', n=2).str[1])\n",
        "\n",
        "# 기존의 '소재지도로명주소'와 '소재지지번주소' 컬럼은 삭제\n",
        "whole_tour.drop(['소재지도로명주소', '소재지지번주소'], axis=1, inplace=True)\n",
        "\n",
        "# '시도명'과 '시군구명' 컬럼을 가장 앞쪽 열로 위치\n",
        "whole_tour.insert(0, '시군구명', whole_tour.pop('시군구명'))\n",
        "whole_tour.insert(0, '시도명', whole_tour.pop('시도명'))"
      ]
    },
    {
      "cell_type": "markdown",
      "id": "761e9a97",
      "metadata": {
        "id": "761e9a97"
      },
      "source": [
        "#### (0-4) '시도명' 값 정리하기"
      ]
    },
    {
      "cell_type": "code",
      "execution_count": null,
      "id": "91476d8b",
      "metadata": {
        "id": "91476d8b"
      },
      "outputs": [],
      "source": [
        "whole_tour['시도명'].unique()"
      ]
    },
    {
      "cell_type": "markdown",
      "id": "753c5b0d",
      "metadata": {
        "id": "753c5b0d"
      },
      "source": [
        "##### ① '시도명' 중 동일한 지역 일치시키기"
      ]
    },
    {
      "cell_type": "code",
      "execution_count": null,
      "id": "93e6f4bf",
      "metadata": {
        "id": "93e6f4bf"
      },
      "outputs": [],
      "source": [
        "whole_tour['시도명'].replace({\n",
        "    '강원도': '강원특별자치도',\n",
        "    '전남': '전라남도',\n",
        "    '경남': '경상남도'\n",
        "}, inplace=True)"
      ]
    },
    {
      "cell_type": "markdown",
      "id": "28ff04fc",
      "metadata": {
        "id": "28ff04fc"
      },
      "source": [
        "##### ② '경기도 연천군' 정리하기"
      ]
    },
    {
      "cell_type": "code",
      "execution_count": null,
      "id": "2ecae8fe",
      "metadata": {
        "id": "2ecae8fe"
      },
      "outputs": [],
      "source": [
        "whole_tour.loc[whole_tour['시도명'].str.contains('경기도'), '시도명'] = '경기도'\n",
        "whole_tour.loc[whole_tour['시도명'].str.contains('연천군'), '시군구명'] = '연천군'"
      ]
    },
    {
      "cell_type": "markdown",
      "id": "066a019d",
      "metadata": {
        "id": "066a019d"
      },
      "source": [
        "##### ③ '경기도 안성시' 정리하기"
      ]
    },
    {
      "cell_type": "code",
      "execution_count": null,
      "id": "79c173ba",
      "metadata": {
        "id": "79c173ba"
      },
      "outputs": [],
      "source": [
        "whole_tour.loc[whole_tour['시도명'].str.contains('안성시', na=False), '시도명'] = '경기도'\n",
        "whole_tour.loc[whole_tour['시도명'].str.contains('안성시', na=False), '시군구명'] = '안성시'"
      ]
    },
    {
      "cell_type": "code",
      "execution_count": null,
      "id": "2410427d",
      "metadata": {
        "id": "2410427d"
      },
      "outputs": [],
      "source": [
        "whole_tour['시도명'].unique()  # '세종' 없어서 총 16개"
      ]
    },
    {
      "cell_type": "markdown",
      "id": "7cefe0bc",
      "metadata": {
        "id": "7cefe0bc"
      },
      "source": [
        "#### ※ 데이터 전처리 후 확인"
      ]
    },
    {
      "cell_type": "code",
      "execution_count": null,
      "id": "a0e7de02",
      "metadata": {
        "scrolled": true,
        "id": "a0e7de02"
      },
      "outputs": [],
      "source": [
        "whole_tour.tail(2)"
      ]
    },
    {
      "cell_type": "markdown",
      "id": "a4cf8ed6",
      "metadata": {
        "id": "a4cf8ed6"
      },
      "source": [
        "### (1) '공공편익시설정보' 컬럼"
      ]
    },
    {
      "cell_type": "code",
      "execution_count": null,
      "id": "a9f86451",
      "metadata": {
        "id": "a9f86451"
      },
      "outputs": [],
      "source": [
        "# '공공편익시설정보' 컬럼 확인하기\n",
        "\n",
        "# whole_tour['공공편익시설정보'].unique()"
      ]
    },
    {
      "cell_type": "code",
      "execution_count": null,
      "id": "3494825e",
      "metadata": {
        "scrolled": true,
        "id": "3494825e"
      },
      "outputs": [],
      "source": [
        "# '공공편익시설정보' 컬럼에 있는 모든 키워드 확인\n",
        "\n",
        "whole_tour['공공편익시설정보'].str.split('+').explode().str.strip().unique()"
      ]
    },
    {
      "cell_type": "markdown",
      "id": "9c27286d",
      "metadata": {
        "id": "9c27286d"
      },
      "source": [
        "#### (1-0) 요소들 선정 (by 언급 많이 되는 키워드 기준)"
      ]
    },
    {
      "cell_type": "code",
      "execution_count": null,
      "id": "accd2cc2",
      "metadata": {
        "id": "accd2cc2"
      },
      "outputs": [],
      "source": [
        "from wordcloud import WordCloud\n",
        "from wordcloud import ImageColorGenerator"
      ]
    },
    {
      "cell_type": "code",
      "execution_count": null,
      "id": "c63198a1",
      "metadata": {
        "id": "c63198a1"
      },
      "outputs": [],
      "source": [
        "keywords = whole_tour['공공편익시설정보'].str.split('+').explode().str.strip()"
      ]
    },
    {
      "cell_type": "code",
      "execution_count": null,
      "id": "612b30c9",
      "metadata": {
        "scrolled": false,
        "id": "612b30c9"
      },
      "outputs": [],
      "source": [
        "# 많이 언급되는 키워드를 수치로 확인하기\n",
        "keywords.value_counts(sort=True, ascending=False)"
      ]
    },
    {
      "cell_type": "code",
      "execution_count": null,
      "id": "f4fab0b0",
      "metadata": {
        "id": "f4fab0b0"
      },
      "outputs": [],
      "source": [
        "# 폰트 경로 설정\n",
        "font_path = r'C:/Windows/Fonts/malgun.ttf'\n",
        "\n",
        "# 키워드 빈도수 계산\n",
        "keyword_counts = keywords.value_counts()\n",
        "\n",
        "# 워드클라우드 생성\n",
        "wordcloud = WordCloud(font_path=font_path, width=800, height=400, background_color='white').generate_from_frequencies(keyword_counts)\n",
        "\n",
        "# 시각화\n",
        "plt.figure(figsize=(10, 5))\n",
        "plt.imshow(wordcloud, interpolation='bilinear')\n",
        "plt.axis('off')\n",
        "plt.show()"
      ]
    },
    {
      "cell_type": "markdown",
      "id": "ffdaf5f3",
      "metadata": {
        "id": "ffdaf5f3"
      },
      "source": [
        "### ※ 요소들 선정 (10개)\n",
        " → '화장실', '주차장', '관리사무소', '안내소',  '샤워장', '광장', '수유실', '휴게/쉼터', '공원', '카페/커피'\n",
        "- c.f.) 도로, 배수시설 등 관광지와 상관없는 일반적인 요소들은 제외"
      ]
    },
    {
      "cell_type": "markdown",
      "id": "748e454f",
      "metadata": {
        "id": "748e454f"
      },
      "source": [
        "#### (1-1) '화장실' 컬럼 추가"
      ]
    },
    {
      "cell_type": "code",
      "execution_count": null,
      "id": "171da107",
      "metadata": {
        "id": "171da107"
      },
      "outputs": [],
      "source": [
        "# '공공편익시설정보' 컬럼 안에 '화장실'이라는 키워드 포함 여부\n",
        "def has_toilet(info):\n",
        "    return 1 if '화장실' in info else 0\n",
        "\n",
        "# '화장실' 컬럼 추가하여 기본값 0으로 설정\n",
        "whole_tour.insert(6, '화장실', 0)\n",
        "\n",
        "# '공공편익시설정보' 컬럼을 기반으로 '화장실' 컬럼의 값 입력\n",
        "whole_tour['화장실'] = whole_tour['공공편익시설정보'].apply(has_toilet)"
      ]
    },
    {
      "cell_type": "markdown",
      "id": "6e744779",
      "metadata": {
        "id": "6e744779"
      },
      "source": [
        "#### (1-2) '주차장' 컬럼 추가"
      ]
    },
    {
      "cell_type": "code",
      "execution_count": null,
      "id": "7660fa04",
      "metadata": {
        "id": "7660fa04"
      },
      "outputs": [],
      "source": [
        "# '공공편익시설정보' 컬럼 안에 '주차장'이라는 키워드 포함 여부\n",
        "def has_parking(info):\n",
        "    return 1 if '주차장' in info else 0\n",
        "\n",
        "# '주차장' 컬럼 추가하여 기본값 0으로 설정\n",
        "whole_tour.insert(7, '주차장', 0)\n",
        "\n",
        "# '공공편익시설정보' 컬럼을 기반으로 '주차장' 컬럼의 값 입력\n",
        "whole_tour['주차장'] = whole_tour['공공편익시설정보'].apply(has_parking)"
      ]
    },
    {
      "cell_type": "markdown",
      "id": "ec1c7126",
      "metadata": {
        "id": "ec1c7126"
      },
      "source": [
        "#### (1-3) '관리사무소' 컬럼 추가"
      ]
    },
    {
      "cell_type": "code",
      "execution_count": null,
      "id": "020d0340",
      "metadata": {
        "id": "020d0340"
      },
      "outputs": [],
      "source": [
        "# '공공편익시설정보' 컬럼 안에 '관리'or'사무'이라는 키워드 포함 여부\n",
        "def has_office(info):\n",
        "    return 1 if ('관리' in info) or ('사무' in info) else 0\n",
        "\n",
        "# '관리사무소' 컬럼 추가하여 기본값 0으로 설정\n",
        "whole_tour.insert(8, '관리사무소', 0)\n",
        "\n",
        "# '공공편익시설정보' 컬럼을 기반으로 '관리사무소' 컬럼의 값 입력\n",
        "whole_tour['관리사무소'] = whole_tour['공공편익시설정보'].apply(has_office)"
      ]
    },
    {
      "cell_type": "markdown",
      "id": "681cbcd0",
      "metadata": {
        "id": "681cbcd0"
      },
      "source": [
        "#### (1-4) '안내소' 컬럼 추가"
      ]
    },
    {
      "cell_type": "code",
      "execution_count": null,
      "id": "d8606fde",
      "metadata": {
        "id": "d8606fde"
      },
      "outputs": [],
      "source": [
        "# '공공편익시설정보' 컬럼 안에 '안내'이라는 키워드 포함 여부\n",
        "def has_guide(info):\n",
        "    return 1 if '안내' in info else 0\n",
        "\n",
        "# '안내소' 컬럼 추가하여 기본값 0으로 설정\n",
        "whole_tour.insert(9, '안내소', 0)\n",
        "\n",
        "# '공공편익시설정보' 컬럼을 기반으로 '안내소' 컬럼의 값 입력\n",
        "whole_tour['안내소'] = whole_tour['공공편익시설정보'].apply(has_guide)"
      ]
    },
    {
      "cell_type": "markdown",
      "id": "b23f4e7f",
      "metadata": {
        "id": "b23f4e7f"
      },
      "source": [
        "#### (1-5) '샤워장' 컬럼 추가"
      ]
    },
    {
      "cell_type": "code",
      "execution_count": null,
      "id": "b613ece7",
      "metadata": {
        "id": "b613ece7"
      },
      "outputs": [],
      "source": [
        "# '공공편익시설정보' 컬럼 안에 '샤워장'이라는 키워드 포함 여부\n",
        "def has_shower(info):\n",
        "    return 1 if '샤워장' in info else 0\n",
        "\n",
        "# '샤워장' 컬럼 추가하여 기본값 0으로 설정\n",
        "whole_tour.insert(10, '샤워장', 0)\n",
        "\n",
        "# '공공편익시설정보' 컬럼을 기반으로 '샤워장' 컬럼의 값 입력\n",
        "whole_tour['샤워장'] = whole_tour['공공편익시설정보'].apply(has_shower)"
      ]
    },
    {
      "cell_type": "markdown",
      "id": "4255f8d3",
      "metadata": {
        "id": "4255f8d3"
      },
      "source": [
        "#### (1-6) '광장' 컬럼 추가"
      ]
    },
    {
      "cell_type": "code",
      "execution_count": null,
      "id": "aa738bd9",
      "metadata": {
        "id": "aa738bd9"
      },
      "outputs": [],
      "source": [
        "# '공공편익시설정보' 컬럼 안에 '광장'이라는 키워드 포함 여부\n",
        "def has_plaza(info):\n",
        "    return 1 if '광장' in info else 0\n",
        "\n",
        "# '광장' 컬럼 추가하여 기본값 0으로 설정\n",
        "whole_tour.insert(11, '광장', 0)\n",
        "\n",
        "# '공공편익시설정보' 컬럼을 기반으로 '광장' 컬럼의 값 입력\n",
        "whole_tour['광장'] = whole_tour['공공편익시설정보'].apply(has_plaza)"
      ]
    },
    {
      "cell_type": "markdown",
      "id": "648af4cb",
      "metadata": {
        "id": "648af4cb"
      },
      "source": [
        "#### (1-7) '수유실' 컬럼 추가"
      ]
    },
    {
      "cell_type": "code",
      "execution_count": null,
      "id": "547f2fdd",
      "metadata": {
        "id": "547f2fdd"
      },
      "outputs": [],
      "source": [
        "# '공공편익시설정보' 컬럼 안에 '수유실'이라는 키워드 포함 여부\n",
        "def has_feeding(info):\n",
        "    return 1 if '수유실' in info else 0\n",
        "\n",
        "# '수유실' 컬럼 추가하여 기본값 0으로 설정\n",
        "whole_tour.insert(12, '수유실', 0)\n",
        "\n",
        "# '공공편익시설정보' 컬럼을 기반으로 '수유실' 컬럼의 값 입력\n",
        "whole_tour['수유실'] = whole_tour['공공편익시설정보'].apply(has_feeding)"
      ]
    },
    {
      "cell_type": "markdown",
      "id": "b69f96aa",
      "metadata": {
        "id": "b69f96aa"
      },
      "source": [
        "#### (1-8) '휴게/쉼터' 컬럼 추가"
      ]
    },
    {
      "cell_type": "code",
      "execution_count": null,
      "id": "1d135149",
      "metadata": {
        "id": "1d135149"
      },
      "outputs": [],
      "source": [
        "# '공공편익시설정보' 컬럼 안에 '휴게'or'쉼터'라는 키워드 포함 여부\n",
        "def has_rest(info):\n",
        "    return 1 if ('휴게' in info) or ('쉼터' in info) else 0\n",
        "\n",
        "# '휴게/쉼터' 컬럼 추가하여 기본값 0으로 설정\n",
        "whole_tour.insert(13, '휴게/쉼터', 0)\n",
        "\n",
        "# '공공편익시설정보' 컬럼을 기반으로 '휴게/쉼터' 컬럼의 값 입력\n",
        "whole_tour['휴게/쉼터'] = whole_tour['공공편익시설정보'].apply(has_rest)"
      ]
    },
    {
      "cell_type": "markdown",
      "id": "3ea2f608",
      "metadata": {
        "id": "3ea2f608"
      },
      "source": [
        "#### (1-9) '공원' 컬럼 추가"
      ]
    },
    {
      "cell_type": "code",
      "execution_count": 4,
      "id": "ec8c7f33",
      "metadata": {
        "colab": {
          "base_uri": "https://localhost:8080/",
          "height": 258
        },
        "id": "ec8c7f33",
        "outputId": "ad1c25fb-5341-4d47-ca5a-a2b57d054c24"
      },
      "outputs": [
        {
          "output_type": "error",
          "ename": "NameError",
          "evalue": "ignored",
          "traceback": [
            "\u001b[0;31m---------------------------------------------------------------------------\u001b[0m",
            "\u001b[0;31mNameError\u001b[0m                                 Traceback (most recent call last)",
            "\u001b[0;32m<ipython-input-4-214638957fd2>\u001b[0m in \u001b[0;36m<cell line: 6>\u001b[0;34m()\u001b[0m\n\u001b[1;32m      4\u001b[0m \u001b[0;34m\u001b[0m\u001b[0m\n\u001b[1;32m      5\u001b[0m \u001b[0;31m# '공원' 컬럼 추가하여 기본값 0으로 설정\u001b[0m\u001b[0;34m\u001b[0m\u001b[0;34m\u001b[0m\u001b[0m\n\u001b[0;32m----> 6\u001b[0;31m \u001b[0mwhole_tour\u001b[0m\u001b[0;34m.\u001b[0m\u001b[0minsert\u001b[0m\u001b[0;34m(\u001b[0m\u001b[0;36m14\u001b[0m\u001b[0;34m,\u001b[0m \u001b[0;34m'공원'\u001b[0m\u001b[0;34m,\u001b[0m \u001b[0;36m0\u001b[0m\u001b[0;34m)\u001b[0m\u001b[0;34m\u001b[0m\u001b[0;34m\u001b[0m\u001b[0m\n\u001b[0m\u001b[1;32m      7\u001b[0m \u001b[0;34m\u001b[0m\u001b[0m\n\u001b[1;32m      8\u001b[0m \u001b[0;31m# '공공편익시설정보' 컬럼을 기반으로 '공원' 컬럼의 값 입력\u001b[0m\u001b[0;34m\u001b[0m\u001b[0;34m\u001b[0m\u001b[0m\n",
            "\u001b[0;31mNameError\u001b[0m: name 'whole_tour' is not defined"
          ]
        }
      ],
      "source": [
        "# '공공편익시설정보' 컬럼 안에 '공원'이라는 키워드 포함 여부\n",
        "def has_park(info):\n",
        "    return 1 if '공원' in info else 0\n",
        "\n",
        "# '공원' 컬럼 추가하여 기본값 0으로 설정\n",
        "whole_tour.insert(14, '공원', 0)\n",
        "\n",
        "# '공공편익시설정보' 컬럼을 기반으로 '공원' 컬럼의 값 입력\n",
        "whole_tour['공원'] = whole_tour['공공편익시설정보'].apply(has_park)"
      ]
    },
    {
      "cell_type": "markdown",
      "id": "60701dfb",
      "metadata": {
        "id": "60701dfb"
      },
      "source": [
        "#### (1-10) '카페/커피' 컬럼 추가"
      ]
    },
    {
      "cell_type": "code",
      "execution_count": null,
      "id": "c68cfc82",
      "metadata": {
        "id": "c68cfc82"
      },
      "outputs": [],
      "source": [
        "# '공공편익시설정보' 컬럼 안에 '카페'or'커피'이라는 키워드 포함 여부\n",
        "def has_coffee(info):\n",
        "    return 1 if ('카페' in info) or ('커피' in info) else 0\n",
        "\n",
        "# '카페/커피' 컬럼 추가하여 기본값 0으로 설정\n",
        "whole_tour.insert(15, '카페/커피', 0)\n",
        "\n",
        "# '공공편익시설정보' 컬럼을 기반으로 '카페/커피' 컬럼의 값 입력\n",
        "whole_tour['카페/커피'] = whole_tour['공공편익시설정보'].apply(has_coffee)"
      ]
    },
    {
      "cell_type": "markdown",
      "id": "9f1d5948",
      "metadata": {
        "id": "9f1d5948"
      },
      "source": [
        "#### ※ 추가한 컬럼들 확인"
      ]
    },
    {
      "cell_type": "code",
      "execution_count": null,
      "id": "bdfae2db",
      "metadata": {
        "id": "bdfae2db"
      },
      "outputs": [],
      "source": [
        "whole_tour.iloc[:, 6:16].tail()"
      ]
    },
    {
      "cell_type": "markdown",
      "id": "157d00c4",
      "metadata": {
        "id": "157d00c4"
      },
      "source": [
        "### (2) '숙박시설정보' 컬럼"
      ]
    },
    {
      "cell_type": "code",
      "execution_count": null,
      "id": "3d00784b",
      "metadata": {
        "id": "3d00784b"
      },
      "outputs": [],
      "source": [
        "# '숙박시설정보' 컬럼 확인하기\n",
        "# whole_tour['숙박시설정보'].unique()"
      ]
    },
    {
      "cell_type": "code",
      "execution_count": null,
      "id": "a630a41e",
      "metadata": {
        "id": "a630a41e"
      },
      "outputs": [],
      "source": [
        "# '숙박시설정보' 컬럼을 유무 값으로 대체\n",
        "whole_tour['숙박시설정보'] = whole_tour['숙박시설정보'].notnull().astype(int)  # 무엇이라도 있으면 1, 없으면 0"
      ]
    },
    {
      "cell_type": "markdown",
      "id": "e4cda4d8",
      "metadata": {
        "id": "e4cda4d8"
      },
      "source": [
        "### (3) '운동및오락시설정보' 컬럼"
      ]
    },
    {
      "cell_type": "code",
      "execution_count": null,
      "id": "011e1027",
      "metadata": {
        "id": "011e1027"
      },
      "outputs": [],
      "source": [
        "# '운동및오락시설정보' 컬럼 확인하기\n",
        "# whole_tour['운동및오락시설정보'].unique()"
      ]
    },
    {
      "cell_type": "code",
      "execution_count": null,
      "id": "cb3943be",
      "metadata": {
        "id": "cb3943be"
      },
      "outputs": [],
      "source": [
        "# '운동및오락시설정보' 컬럼을 유무 값으로 대체\n",
        "whole_tour['운동및오락시설정보'] = whole_tour['운동및오락시설정보'].notnull().astype(int)  # 무엇이라도 있으면 1, 없으면 0"
      ]
    },
    {
      "cell_type": "markdown",
      "id": "f98b22b5",
      "metadata": {
        "id": "f98b22b5"
      },
      "source": [
        "### (4) '휴양및문화시설정보' 컬럼"
      ]
    },
    {
      "cell_type": "code",
      "execution_count": null,
      "id": "c190d9a8",
      "metadata": {
        "id": "c190d9a8"
      },
      "outputs": [],
      "source": [
        "# '휴양및문화시설정보' 컬럼 확인하기\n",
        "# whole_tour['휴양및문화시설정보'].unique()"
      ]
    },
    {
      "cell_type": "code",
      "execution_count": null,
      "id": "650ceca3",
      "metadata": {
        "id": "650ceca3"
      },
      "outputs": [],
      "source": [
        "# '휴양및문화시설정보' 컬럼을 유무 값으로 대체\n",
        "whole_tour['휴양및문화시설정보'] = whole_tour['휴양및문화시설정보'].notnull().astype(int)  # 무엇이라도 있으면 1, 없으면 0"
      ]
    },
    {
      "cell_type": "markdown",
      "id": "bbc841eb",
      "metadata": {
        "id": "bbc841eb"
      },
      "source": [
        "### (5) '접객시설정보' 컬럼"
      ]
    },
    {
      "cell_type": "code",
      "execution_count": null,
      "id": "1828294a",
      "metadata": {
        "id": "1828294a"
      },
      "outputs": [],
      "source": [
        "# '접객시설정보' 컬럼 확인하기\n",
        "# whole_tour['접객시설정보'].unique()"
      ]
    },
    {
      "cell_type": "code",
      "execution_count": null,
      "id": "fe06519b",
      "metadata": {
        "id": "fe06519b"
      },
      "outputs": [],
      "source": [
        "# '접객시설정보' 컬럼을 유무 값으로 대체\n",
        "whole_tour['접객시설정보'] = whole_tour['접객시설정보'].notnull().astype(int)  # 무엇이라도 있으면 1, 없으면 0"
      ]
    },
    {
      "cell_type": "markdown",
      "id": "feec3439",
      "metadata": {
        "id": "feec3439"
      },
      "source": [
        "### (6) '지원시설정보' 컬럼"
      ]
    },
    {
      "cell_type": "code",
      "execution_count": null,
      "id": "504d55fb",
      "metadata": {
        "id": "504d55fb"
      },
      "outputs": [],
      "source": [
        "# '지원시설정보' 컬럼 확인하기\n",
        "# whole_tour['지원시설정보'].unique()"
      ]
    },
    {
      "cell_type": "code",
      "execution_count": null,
      "id": "4aaa3c8c",
      "metadata": {
        "id": "4aaa3c8c"
      },
      "outputs": [],
      "source": [
        "# '지원시설정보' 컬럼을 유무 값으로 대체\n",
        "whole_tour['지원시설정보'] = whole_tour['지원시설정보'].notnull().astype(int)  # 무엇이라도 있으면 1, 없으면 0"
      ]
    },
    {
      "cell_type": "markdown",
      "id": "5d18e5bd",
      "metadata": {
        "id": "5d18e5bd"
      },
      "source": [
        "#### ※ 최종 확인"
      ]
    },
    {
      "cell_type": "code",
      "execution_count": null,
      "id": "a78bc567",
      "metadata": {
        "scrolled": true,
        "id": "a78bc567"
      },
      "outputs": [],
      "source": [
        "whole_tour  # 860 rows × 24 columns\n",
        "            # 다양한 요소들 컬럼 → 총 15개"
      ]
    },
    {
      "cell_type": "markdown",
      "id": "6dc4908e",
      "metadata": {
        "id": "6dc4908e"
      },
      "source": [
        "## B. 주요관광지점 입장객 데이터 (관광지식정보시스템)"
      ]
    },
    {
      "cell_type": "code",
      "execution_count": null,
      "id": "5eeefd5b",
      "metadata": {
        "scrolled": true,
        "id": "5eeefd5b"
      },
      "outputs": [],
      "source": [
        "# \"주요관광지점 입장객 (2004-2023).csv\" 불러오기\n",
        "\n",
        "tour_visit = pd.read_csv(\"주요관광지점 입장객 (2004-2023).csv\", encoding = 'utf-8')\n",
        "# tour_visit"
      ]
    },
    {
      "cell_type": "markdown",
      "id": "938d80bb",
      "metadata": {
        "id": "938d80bb"
      },
      "source": [
        "### (0) 데이터 전처리"
      ]
    },
    {
      "cell_type": "markdown",
      "id": "c6daeef2",
      "metadata": {
        "id": "c6daeef2"
      },
      "source": [
        "#### (0-1) '내국인' 행만 남겨두기"
      ]
    },
    {
      "cell_type": "code",
      "execution_count": null,
      "id": "2e3470a0",
      "metadata": {
        "scrolled": true,
        "id": "2e3470a0"
      },
      "outputs": [],
      "source": [
        "tour_visit = tour_visit[tour_visit['내/외국인'] == '내국인']\n",
        "# tour_visit"
      ]
    },
    {
      "cell_type": "markdown",
      "id": "be896e3a",
      "metadata": {
        "id": "be896e3a"
      },
      "source": [
        "#### (0-2) 컬럼명 변경 및 정리"
      ]
    },
    {
      "cell_type": "markdown",
      "id": "0ac4ac37",
      "metadata": {
        "id": "0ac4ac37"
      },
      "source": [
        "##### ① '내/외국인' 컬럼 삭제"
      ]
    },
    {
      "cell_type": "code",
      "execution_count": null,
      "id": "a13b7428",
      "metadata": {
        "id": "a13b7428"
      },
      "outputs": [],
      "source": [
        "tour_visit = tour_visit.drop('내/외국인', axis=1)"
      ]
    },
    {
      "cell_type": "markdown",
      "id": "75a4ebc5",
      "metadata": {
        "id": "75a4ebc5"
      },
      "source": [
        "##### ② 'Unnamed: 18' 컬럼 삭제"
      ]
    },
    {
      "cell_type": "code",
      "execution_count": null,
      "id": "a6a84524",
      "metadata": {
        "id": "a6a84524"
      },
      "outputs": [],
      "source": [
        "tour_visit = tour_visit.drop('Unnamed: 18', axis=1)"
      ]
    },
    {
      "cell_type": "markdown",
      "id": "7cadb774",
      "metadata": {
        "id": "7cadb774"
      },
      "source": [
        "##### ③ '2011년' ~ '2023년'으로 컬럼명 변경"
      ]
    },
    {
      "cell_type": "code",
      "execution_count": null,
      "id": "713f39f0",
      "metadata": {
        "id": "713f39f0"
      },
      "outputs": [],
      "source": [
        "columns_to_rename = tour_visit.columns[4:]\n",
        "\n",
        "new_column_names = [f'{year}년' for year in range(2011, 2024)]\n",
        "tour_visit.rename(columns = dict(zip(columns_to_rename, new_column_names)), inplace=True)"
      ]
    },
    {
      "cell_type": "markdown",
      "id": "e41ad121",
      "metadata": {
        "id": "e41ad121"
      },
      "source": [
        "##### ④ 기타 컬럼명 변경"
      ]
    },
    {
      "cell_type": "code",
      "execution_count": null,
      "id": "6d6c1ae8",
      "metadata": {
        "id": "6d6c1ae8"
      },
      "outputs": [],
      "source": [
        "# '시도' → '시도명'으로 변경\n",
        "tour_visit.rename(columns={'시도':'시도명'}, inplace=True)\n",
        "\n",
        "# '군구' → '시군구명'으로 변경\n",
        "tour_visit.rename(columns={'군구':'시군구명'}, inplace=True)\n",
        "\n",
        "# '관광지' → '관광지명'으로 변경\n",
        "tour_visit.rename(columns={'관광지':'관광지명'}, inplace=True)\n",
        "\n",
        "# '총계' → '총 방문자 수'로 변경\n",
        "tour_visit.rename(columns={'총계':'총 방문자 수'}, inplace=True)"
      ]
    },
    {
      "cell_type": "markdown",
      "id": "f7ddd7fe",
      "metadata": {
        "id": "f7ddd7fe"
      },
      "source": [
        "##### ⑤ '2011년' ~ '2023년' 컬럼명 삭제"
      ]
    },
    {
      "cell_type": "code",
      "execution_count": null,
      "id": "7397874a",
      "metadata": {
        "id": "7397874a"
      },
      "outputs": [],
      "source": [
        "tour_visit = tour_visit.drop(tour_visit.columns[4:17], axis=1)"
      ]
    },
    {
      "cell_type": "markdown",
      "id": "6cbba3b1",
      "metadata": {
        "id": "6cbba3b1"
      },
      "source": [
        "#### (0-3) '시도명' 값 일치시키기"
      ]
    },
    {
      "cell_type": "code",
      "execution_count": null,
      "id": "91c919ec",
      "metadata": {
        "id": "91c919ec"
      },
      "outputs": [],
      "source": [
        "# whole_tour의 '시도명' 값 확인\n",
        "whole_tour['시도명'].unique()"
      ]
    },
    {
      "cell_type": "code",
      "execution_count": null,
      "id": "4f37f965",
      "metadata": {
        "id": "4f37f965"
      },
      "outputs": [],
      "source": [
        "# tour_visit의 '시도명' 값 확인\n",
        "tour_visit['시도명'].unique()"
      ]
    },
    {
      "cell_type": "code",
      "execution_count": null,
      "id": "42e7aa6a",
      "metadata": {
        "id": "42e7aa6a"
      },
      "outputs": [],
      "source": [
        "# tour_visit의 '시도명' 값 변경\n",
        "tour_visit['시도명'] = tour_visit['시도명'].replace({'강원도':'강원특별자치도'})"
      ]
    },
    {
      "cell_type": "markdown",
      "id": "09622374",
      "metadata": {
        "id": "09622374"
      },
      "source": [
        "#### (0-4) '문자형' → '정수형'으로 변환"
      ]
    },
    {
      "cell_type": "code",
      "execution_count": null,
      "id": "97c5cf02",
      "metadata": {
        "id": "97c5cf02"
      },
      "outputs": [],
      "source": [
        "# tour_visit의 데이터타입 확인\n",
        "# tour_visit.dtypes"
      ]
    },
    {
      "cell_type": "code",
      "execution_count": null,
      "id": "b8100025",
      "metadata": {
        "id": "b8100025"
      },
      "outputs": [],
      "source": [
        "# '총 방문자 수' 컬럼\n",
        "columns_to_convert = tour_visit.columns[3]\n",
        "\n",
        "# '콤마(,) 제거하고 숫자형으로 변환\n",
        "tour_visit[columns_to_convert] = tour_visit[columns_to_convert].replace(',', '', regex=True).apply(pd.to_numeric, errors='coerce')\n",
        "\n",
        "# NaN 값을 0으로 처리\n",
        "tour_visit.fillna(0, inplace=True)\n",
        "\n",
        "# 정수형으로 변환\n",
        "tour_visit[columns_to_convert] = tour_visit[columns_to_convert].astype('int64')"
      ]
    },
    {
      "cell_type": "code",
      "execution_count": null,
      "id": "23ce716c",
      "metadata": {
        "id": "23ce716c"
      },
      "outputs": [],
      "source": [
        "tour_visit.dtypes"
      ]
    },
    {
      "cell_type": "markdown",
      "id": "e22c9afe",
      "metadata": {
        "id": "e22c9afe"
      },
      "source": [
        "#### (0-5) '총 방문자 수' = 0 인 값 삭제"
      ]
    },
    {
      "cell_type": "code",
      "execution_count": null,
      "id": "a3ed85c8",
      "metadata": {
        "scrolled": true,
        "id": "a3ed85c8"
      },
      "outputs": [],
      "source": [
        "tour_visit = tour_visit[tour_visit['총 방문자 수'] != 0]"
      ]
    },
    {
      "cell_type": "markdown",
      "id": "1f29b9da",
      "metadata": {
        "id": "1f29b9da"
      },
      "source": [
        "#### ※ 최종 확인"
      ]
    },
    {
      "cell_type": "code",
      "execution_count": null,
      "id": "faafd0ff",
      "metadata": {
        "scrolled": true,
        "id": "faafd0ff"
      },
      "outputs": [],
      "source": [
        "tour_visit  # 4432 rows × 4 columns"
      ]
    },
    {
      "cell_type": "markdown",
      "id": "21ea0774",
      "metadata": {
        "id": "21ea0774"
      },
      "source": [
        "#### ※ csv 파일로 저장"
      ]
    },
    {
      "cell_type": "code",
      "execution_count": null,
      "id": "509f5ca6",
      "metadata": {
        "id": "509f5ca6"
      },
      "outputs": [],
      "source": [
        "# tour_visit.to_csv('tour_visit.csv', index=False)"
      ]
    },
    {
      "cell_type": "markdown",
      "id": "5ceb717c",
      "metadata": {
        "id": "5ceb717c"
      },
      "source": [
        "## C. 데이터 병합"
      ]
    },
    {
      "cell_type": "markdown",
      "id": "f38c8a7d",
      "metadata": {
        "id": "f38c8a7d"
      },
      "source": [
        "### (1) \"A. 전국관광지정보표준데이터\"에 \"B. 주요관광지점 입장객 데이터\"를 병합"
      ]
    },
    {
      "cell_type": "markdown",
      "id": "b1d8b897",
      "metadata": {
        "id": "b1d8b897"
      },
      "source": [
        "#### (1-1) '시도명' 일치하는지 확인"
      ]
    },
    {
      "cell_type": "code",
      "execution_count": null,
      "id": "4549ec5d",
      "metadata": {
        "scrolled": true,
        "id": "4549ec5d"
      },
      "outputs": [],
      "source": [
        "# whole_tour의 '시도명' 값 확인\n",
        "print(\"(A) whole_tour의 '시도명': \")\n",
        "print(sorted(whole_tour['시도명'].unique()))  # '세종특별자치시' 없음\n",
        "\n",
        "# tour_visit의 '시도명' 값 확인\n",
        "print(\"\\n(B) tour_visit의 '시도명': \")\n",
        "print(sorted(tour_visit['시도명'].unique()))"
      ]
    },
    {
      "cell_type": "markdown",
      "id": "c3b2f4ac",
      "metadata": {
        "id": "c3b2f4ac"
      },
      "source": [
        "#### (1-2) '시도명', '시군구명', '관광지명' 모두 일치하는 행들을 병합"
      ]
    },
    {
      "cell_type": "code",
      "execution_count": null,
      "id": "73df54ad",
      "metadata": {
        "scrolled": true,
        "id": "73df54ad"
      },
      "outputs": [],
      "source": [
        "# '시도명', '시군구명', '관광지명' 모두 일치하는 행들을 추출하여 병합\n",
        "AB_merged_df = whole_tour.merge(tour_visit, on = ['시도명', '시군구명', '관광지명'], how = 'inner')\n",
        "\n",
        "# '총 방문자 수'로 내림차순\n",
        "AB_merged_df = AB_merged_df.sort_values(by='총 방문자 수', ascending=False)\n",
        "\n",
        "AB_merged_df  # 총 245개 관광지\n",
        "\n",
        "# 참고) '관광지명'만 기준으로 할 경우, 관광지명은 일치하지만 다른 지역인 경우가 있음.\n",
        "        # ex 1. 송도해수욕장 (부산광역시 서구 & 경상북도 포항시)\n",
        "        # ex 2. 갓바위 (전라남도 목포시 & 경상북도 경산시)"
      ]
    },
    {
      "cell_type": "markdown",
      "id": "a93d1f5e",
      "metadata": {
        "id": "a93d1f5e"
      },
      "source": [
        "## D. 가설 검정"
      ]
    },
    {
      "cell_type": "markdown",
      "id": "faae2420",
      "metadata": {
        "id": "faae2420"
      },
      "source": [
        "### (1) '화장실' 가설"
      ]
    },
    {
      "cell_type": "markdown",
      "id": "ec6c8265",
      "metadata": {
        "id": "ec6c8265"
      },
      "source": [
        "#### ① 피어슨 상관계수 (Pearson correlation)\n",
        "- H0 : 관광지의 '화장실' 유무는 '총 방문자 수'와 상관관계가 없다.\n",
        "- H1 : 관광지의 '화장실' 유무는 '총 방문자 수'와 상관관계가 있다."
      ]
    },
    {
      "cell_type": "code",
      "execution_count": null,
      "id": "c1eba28d",
      "metadata": {
        "id": "c1eba28d"
      },
      "outputs": [],
      "source": [
        "from scipy.stats import pearsonr"
      ]
    },
    {
      "cell_type": "code",
      "execution_count": null,
      "id": "73537341",
      "metadata": {
        "id": "73537341"
      },
      "outputs": [],
      "source": [
        "# '화장실' & '총 방문자 수' 컬럼 선택\n",
        "selected_cols = ['화장실', '총 방문자 수']\n",
        "toilet_df = AB_merged_df[selected_cols]"
      ]
    },
    {
      "cell_type": "code",
      "execution_count": null,
      "id": "e5f3600b",
      "metadata": {
        "id": "e5f3600b"
      },
      "outputs": [],
      "source": [
        "# 상관계수 & p-value 계산\n",
        "corr_coef, p_value = pearsonr(toilet_df['화장실'], toilet_df['총 방문자 수'])\n",
        "\n",
        "print(\"상관계수:\", corr_coef)\n",
        "print(\"p-value:\", p_value)"
      ]
    },
    {
      "cell_type": "code",
      "execution_count": null,
      "id": "85b60235",
      "metadata": {
        "id": "85b60235"
      },
      "outputs": [],
      "source": [
        "# 가설 검정 수행\n",
        "if p_value < 0.05:\n",
        "    print(\"귀무가설(H0)을 기각. 관광지의 '화장실' 유무는 '총 방문자 수'와 상관관계가 있다.\")\n",
        "else:\n",
        "    print(\"귀무가설(H0)을 채택. 관광지의 '화장실' 유무는 '총 방문자 수'와 상관관계가 없다.\")"
      ]
    },
    {
      "cell_type": "markdown",
      "id": "a170812b",
      "metadata": {
        "id": "a170812b"
      },
      "source": [
        "#### ② t-검정 (t-test)\n",
        "- H0 : '화장실 있는 관광지'와 '화장실 없는 관광지'의 평균은 같다. (= 유의미한 차이가 없다.)\n",
        "- H1 : '화장실 있는 관광지'와 '화장실 없는 관광지'의 평균은 다르다. (= 유의미한 차이가 있다.)"
      ]
    },
    {
      "cell_type": "code",
      "execution_count": null,
      "id": "d83727ee",
      "metadata": {
        "id": "d83727ee"
      },
      "outputs": [],
      "source": [
        "from scipy.stats import ttest_ind\n",
        "from scipy import stats"
      ]
    },
    {
      "cell_type": "code",
      "execution_count": null,
      "id": "0f235620",
      "metadata": {
        "id": "0f235620"
      },
      "outputs": [],
      "source": [
        "# '화장실 있는 관광지'와 '화장실 없는 관광지'를 분리하여 데이터프레임 생성\n",
        "has_toilet_df = AB_merged_df[AB_merged_df['화장실'] == 1]\n",
        "no_toilet_df = AB_merged_df[AB_merged_df['화장실'] == 0]"
      ]
    },
    {
      "cell_type": "code",
      "execution_count": null,
      "id": "3339c2c7",
      "metadata": {
        "id": "3339c2c7"
      },
      "outputs": [],
      "source": [
        "# 각 그룹의 '총 방문자 수' 분포 확인\n",
        "print(\"화장실 있는 관광지:\")\n",
        "print(has_toilet_df['총 방문자 수'].describe())\n",
        "\n",
        "print(\"\\n화장실 없는 관광지:\")\n",
        "print(no_toilet_df['총 방문자 수'].describe())"
      ]
    },
    {
      "cell_type": "code",
      "execution_count": null,
      "id": "ee8563fc",
      "metadata": {
        "scrolled": false,
        "id": "ee8563fc"
      },
      "outputs": [],
      "source": [
        "# '총 방문자 수' 로그 변환\n",
        "has_toilet_df['log_총 방문자 수'] = has_toilet_df['총 방문자 수'].apply(lambda x: 0 if x == 0 else np.log(x + 1))\n",
        "no_toilet_df['log_총 방문자 수'] = no_toilet_df['총 방문자 수'].apply(lambda x: 0 if x == 0 else np.log(x + 1))\n",
        "\n",
        "# Box Plot 그리기\n",
        "plt.figure(figsize=(8, 6))\n",
        "plt.boxplot([has_toilet_df['log_총 방문자 수'], no_toilet_df['log_총 방문자 수']], labels=['화장실 있는 관광지','화장실 없는 관광지'])\n",
        "plt.ylabel('총 방문자 수')\n",
        "plt.title(\"'총 방문자 수' 분포 비교\")\n",
        "plt.grid(True)\n",
        "plt.show()"
      ]
    },
    {
      "cell_type": "code",
      "execution_count": null,
      "id": "26a48ae3",
      "metadata": {
        "id": "26a48ae3"
      },
      "outputs": [],
      "source": [
        "# c.f.) 로그 변환 없이 Box Plot 그리기\n",
        "\n",
        "# plt.figure(figsize=(8, 6))\n",
        "# plt.boxplot([has_toilet_df['총 방문자 수'], no_toilet_df['총 방문자 수']], labels=['화장실 있는 관광지', '화장실 없는 관광지'])\n",
        "# plt.ylabel('총 방문자 수')\n",
        "# plt.title(\"'총 방문자 수' 분포 비교\")\n",
        "# plt.grid(True)\n",
        "# plt.show()"
      ]
    },
    {
      "cell_type": "code",
      "execution_count": null,
      "id": "e1c300a9",
      "metadata": {
        "id": "e1c300a9"
      },
      "outputs": [],
      "source": [
        "# t-검정 전에 표본 수 확인\n",
        "print(f'화장실 있는 관광지 개수 : {len(has_toilet_df)}')\n",
        "print(f'화장실 없는 관광지 개수 : {len(no_toilet_df)}')"
      ]
    },
    {
      "cell_type": "code",
      "execution_count": null,
      "id": "eb0b1dd0",
      "metadata": {
        "id": "eb0b1dd0"
      },
      "outputs": [],
      "source": [
        "# 등분산 검정 (Levene's test)\n",
        "statistic, p_value = stats.levene(has_toilet_df['총 방문자 수'], no_toilet_df['총 방문자 수'])\n",
        "\n",
        "if p_value < 0.05:\n",
        "    print(\"두 집단은 이분산 가정을 만족한다.\")\n",
        "    t_statistic, p_value = stats.ttest_ind(has_toilet_df['총 방문자 수'], no_toilet_df['총 방문자 수'], equal_var=False)\n",
        "else:\n",
        "    print(\"두 집단은 등분산 가정을 만족한다.\")\n",
        "    t_statistic, p_value = stats.ttest_ind(has_toilet_df['총 방문자 수'], no_toilet_df['총 방문자 수'], equal_var=True)"
      ]
    },
    {
      "cell_type": "code",
      "execution_count": null,
      "id": "3f8260ea",
      "metadata": {
        "id": "3f8260ea"
      },
      "outputs": [],
      "source": [
        "# 독립표본 t-검정 수행\n",
        "t_statistic, p_value = ttest_ind(has_toilet_df['총 방문자 수'], no_toilet_df['총 방문자 수'])\n",
        "\n",
        "print(\"\\n독립표본 t-검정 결과:\")\n",
        "print(\"t-통계량:\", t_statistic)\n",
        "print(\"p-value:\", p_value)"
      ]
    },
    {
      "cell_type": "code",
      "execution_count": null,
      "id": "a44216c4",
      "metadata": {
        "scrolled": true,
        "id": "a44216c4"
      },
      "outputs": [],
      "source": [
        "# 가설 검정 수행\n",
        "if p_value < 0.05:\n",
        "    print(\"\\n'화장실 있는 관광지'와 '화장실 없는 관광지'의 '총 방문자 수'는 유의미한 차이가 있다.\")\n",
        "else:\n",
        "    print(\"\\n'화장실 있는 관광지'와 '화장실 없는 관광지'의 '총 방문자 수'는 유의미한 차이가 없다.\")"
      ]
    },
    {
      "cell_type": "markdown",
      "id": "23ac9391",
      "metadata": {
        "id": "23ac9391"
      },
      "source": [
        "### (2) '주차장' 가설"
      ]
    },
    {
      "cell_type": "markdown",
      "id": "de518457",
      "metadata": {
        "id": "de518457"
      },
      "source": [
        "#### ① 피어슨 상관계수 (Pearson correlation)\n",
        "- H0 : 관광지의 '주차장' 유무는 '총 방문자 수'와 상관관계가 없다.\n",
        "- H1 : 관광지의 '주차장' 유무는 '총 방문자 수'와 상관관계가 있다."
      ]
    },
    {
      "cell_type": "code",
      "execution_count": null,
      "id": "60b9d9be",
      "metadata": {
        "id": "60b9d9be"
      },
      "outputs": [],
      "source": [
        "# '주차장' & '총 방문자 수' 컬럼 선택\n",
        "selected_cols = ['주차장', '총 방문자 수']\n",
        "parking_df = AB_merged_df[selected_cols]"
      ]
    },
    {
      "cell_type": "code",
      "execution_count": null,
      "id": "d90d4180",
      "metadata": {
        "id": "d90d4180"
      },
      "outputs": [],
      "source": [
        "# 상관계수 & p-value 계산\n",
        "corr_coef, p_value = pearsonr(parking_df['주차장'], parking_df['총 방문자 수'])\n",
        "\n",
        "print(\"상관계수:\", corr_coef)\n",
        "print(\"p-value:\", p_value)"
      ]
    },
    {
      "cell_type": "code",
      "execution_count": 5,
      "id": "629e7e4f",
      "metadata": {
        "colab": {
          "base_uri": "https://localhost:8080/",
          "height": 258
        },
        "id": "629e7e4f",
        "outputId": "5974fd78-d7f3-4ede-880a-3d9812873f1b"
      },
      "outputs": [
        {
          "output_type": "error",
          "ename": "NameError",
          "evalue": "ignored",
          "traceback": [
            "\u001b[0;31m---------------------------------------------------------------------------\u001b[0m",
            "\u001b[0;31mNameError\u001b[0m                                 Traceback (most recent call last)",
            "\u001b[0;32m<ipython-input-5-8232aa182d09>\u001b[0m in \u001b[0;36m<cell line: 2>\u001b[0;34m()\u001b[0m\n\u001b[1;32m      1\u001b[0m \u001b[0;31m# 가설 검정 수행\u001b[0m\u001b[0;34m\u001b[0m\u001b[0;34m\u001b[0m\u001b[0m\n\u001b[0;32m----> 2\u001b[0;31m \u001b[0;32mif\u001b[0m \u001b[0mp_value\u001b[0m \u001b[0;34m<\u001b[0m \u001b[0;36m0.05\u001b[0m\u001b[0;34m:\u001b[0m\u001b[0;34m\u001b[0m\u001b[0;34m\u001b[0m\u001b[0m\n\u001b[0m\u001b[1;32m      3\u001b[0m     \u001b[0mprint\u001b[0m\u001b[0;34m(\u001b[0m\u001b[0;34m\"귀무가설(H0)을 기각. 관광지의 '주차장' 유무는 '총 방문자 수'와 상관관계가 있다.\"\u001b[0m\u001b[0;34m)\u001b[0m\u001b[0;34m\u001b[0m\u001b[0;34m\u001b[0m\u001b[0m\n\u001b[1;32m      4\u001b[0m \u001b[0;32melse\u001b[0m\u001b[0;34m:\u001b[0m\u001b[0;34m\u001b[0m\u001b[0;34m\u001b[0m\u001b[0m\n\u001b[1;32m      5\u001b[0m     \u001b[0mprint\u001b[0m\u001b[0;34m(\u001b[0m\u001b[0;34m\"귀무가설(H0)을 채택. 관광지의 '주차장' 유무는 '총 방문자 수'와 상관관계가 없다.\"\u001b[0m\u001b[0;34m)\u001b[0m\u001b[0;34m\u001b[0m\u001b[0;34m\u001b[0m\u001b[0m\n",
            "\u001b[0;31mNameError\u001b[0m: name 'p_value' is not defined"
          ]
        }
      ],
      "source": [
        "# 가설 검정 수행\n",
        "if p_value < 0.05:\n",
        "    print(\"귀무가설(H0)을 기각. 관광지의 '주차장' 유무는 '총 방문자 수'와 상관관계가 있다.\")\n",
        "else:\n",
        "    print(\"귀무가설(H0)을 채택. 관광지의 '주차장' 유무는 '총 방문자 수'와 상관관계가 없다.\")"
      ]
    },
    {
      "cell_type": "markdown",
      "id": "1e4b0490",
      "metadata": {
        "id": "1e4b0490"
      },
      "source": [
        "#### ② t-검정 (t-test)\n",
        "- H0 : '주차장 있는 관광지'와 '주차장 없는 관광지'의 평균은 같다. (= 유의미한 차이가 없다.)\n",
        "- H1 : '주차장 있는 관광지'와 '주차장 없는 관광지'의 평균은 다르다. (= 유의미한 차이가 있다.)"
      ]
    },
    {
      "cell_type": "code",
      "execution_count": null,
      "id": "f4366d51",
      "metadata": {
        "id": "f4366d51"
      },
      "outputs": [],
      "source": [
        "# '주차장 있는 관광지'와 '주차장 없는 관광지'를 분리하여 데이터프레임 생성\n",
        "has_parking_df = AB_merged_df[AB_merged_df['주차장'] == 1]\n",
        "no_parking_df = AB_merged_df[AB_merged_df['주차장'] == 0]"
      ]
    },
    {
      "cell_type": "code",
      "execution_count": null,
      "id": "fa8b19e8",
      "metadata": {
        "scrolled": false,
        "id": "fa8b19e8"
      },
      "outputs": [],
      "source": [
        "# 각 그룹의 '총 방문자 수' 분포 확인\n",
        "print(\"주차장 있는 관광지:\")\n",
        "print(has_parking_df['총 방문자 수'].describe())\n",
        "\n",
        "print(\"\\n주차장 없는 관광지:\")\n",
        "print(no_parking_df['총 방문자 수'].describe())"
      ]
    },
    {
      "cell_type": "code",
      "execution_count": null,
      "id": "02a10902",
      "metadata": {
        "id": "02a10902"
      },
      "outputs": [],
      "source": [
        "# '총 방문자 수' 로그 변환\n",
        "has_parking_df['log_총 방문자 수'] = has_parking_df['총 방문자 수'].apply(lambda x: 0 if x == 0 else np.log(x + 1))\n",
        "no_parking_df['log_총 방문자 수'] = no_parking_df['총 방문자 수'].apply(lambda x: 0 if x == 0 else np.log(x + 1))\n",
        "\n",
        "# Box Plot 그리기\n",
        "plt.figure(figsize=(8, 6))\n",
        "plt.boxplot([has_parking_df['log_총 방문자 수'], no_parking_df['log_총 방문자 수']], labels=['주차장 있는 관광지','주차장 없는 관광지'])\n",
        "plt.ylabel('총 방문자 수')\n",
        "plt.title(\"'총 방문자 수' 분포 비교\")\n",
        "plt.grid(True)\n",
        "plt.show()"
      ]
    },
    {
      "cell_type": "code",
      "execution_count": null,
      "id": "841d378f",
      "metadata": {
        "id": "841d378f"
      },
      "outputs": [],
      "source": [
        "# t-검정 전에 표본 수 확인\n",
        "print(f'주차장 있는 관광지 개수 : {len(has_parking_df)}')\n",
        "print(f'주차장 없는 관광지 개수 : {len(no_parking_df)}')"
      ]
    },
    {
      "cell_type": "code",
      "execution_count": null,
      "id": "36c0c782",
      "metadata": {
        "id": "36c0c782"
      },
      "outputs": [],
      "source": [
        "# 등분산 검정 (Levene's test)\n",
        "statistic, p_value = stats.levene(has_parking_df['총 방문자 수'], no_parking_df['총 방문자 수'])\n",
        "\n",
        "if p_value < 0.05:\n",
        "    print(\"두 집단은 이분산 가정을 만족한다.\")\n",
        "    t_statistic, p_value = stats.ttest_ind(has_parking_df['총 방문자 수'], no_parking_df['총 방문자 수'], equal_var=False)\n",
        "else:\n",
        "    print(\"두 집단은 등분산 가정을 만족한다.\")\n",
        "    t_statistic, p_value = stats.ttest_ind(has_parking_df['총 방문자 수'], no_parking_df['총 방문자 수'], equal_var=True)"
      ]
    },
    {
      "cell_type": "code",
      "execution_count": null,
      "id": "625f6e85",
      "metadata": {
        "id": "625f6e85"
      },
      "outputs": [],
      "source": [
        "# 독립표본 t-검정 수행\n",
        "t_statistic, p_value = ttest_ind(has_parking_df['총 방문자 수'], no_parking_df['총 방문자 수'])\n",
        "\n",
        "print(\"\\n독립표본 t-검정 결과:\")\n",
        "print(\"t-통계량:\", t_statistic)\n",
        "print(\"p-value:\", p_value)"
      ]
    },
    {
      "cell_type": "code",
      "execution_count": null,
      "id": "201e6c2f",
      "metadata": {
        "scrolled": true,
        "id": "201e6c2f"
      },
      "outputs": [],
      "source": [
        "# 가설 검정 수행\n",
        "if p_value < 0.05:\n",
        "    print(\"\\n'주차장 있는 관광지'와 '주차장 없는 관광지'의 '총 방문자 수'는 유의미한 차이가 있다.\")\n",
        "else:\n",
        "    print(\"\\n'주차장 있는 관광지'와 '주차장 없는 관광지'의 '총 방문자 수'는 유의미한 차이가 없다.\")"
      ]
    },
    {
      "cell_type": "markdown",
      "id": "42db35cc",
      "metadata": {
        "id": "42db35cc"
      },
      "source": [
        "### (3) '관리사무소' 가설"
      ]
    },
    {
      "cell_type": "markdown",
      "id": "759080fe",
      "metadata": {
        "id": "759080fe"
      },
      "source": [
        "#### ① 피어슨 상관계수 (Pearson correlation)\n",
        "- H0 : 관광지의 '관리사무소' 유무는 '총 방문자 수'와 상관관계가 없다.\n",
        "- H1 : 관광지의 '관리사무소' 유무는 '총 방문자 수'와 상관관계가 있다."
      ]
    },
    {
      "cell_type": "code",
      "execution_count": null,
      "id": "b7fed95a",
      "metadata": {
        "id": "b7fed95a"
      },
      "outputs": [],
      "source": [
        "# '관리사무소' & '총 방문자 수' 컬럼 선택\n",
        "selected_cols = ['관리사무소', '총 방문자 수']\n",
        "office_df = AB_merged_df[selected_cols]"
      ]
    },
    {
      "cell_type": "code",
      "execution_count": null,
      "id": "548d87a9",
      "metadata": {
        "id": "548d87a9"
      },
      "outputs": [],
      "source": [
        "# 상관계수 & p-value 계산\n",
        "corr_coef, p_value = pearsonr(office_df['관리사무소'], office_df['총 방문자 수'])\n",
        "\n",
        "print(\"상관계수:\", corr_coef)\n",
        "print(\"p-value:\", p_value)"
      ]
    },
    {
      "cell_type": "code",
      "execution_count": null,
      "id": "67159c66",
      "metadata": {
        "id": "67159c66"
      },
      "outputs": [],
      "source": [
        "# 가설 검정 수행\n",
        "if p_value < 0.05:\n",
        "    print(\"귀무가설(H0)을 기각. 관광지의 '관리사무소' 유무는 '총 방문자 수'와 상관관계가 있다.\")\n",
        "else:\n",
        "    print(\"귀무가설(H0)을 채택. 관광지의 '관리사무소' 유무는 '총 방문자 수'와 상관관계가 없다.\")"
      ]
    },
    {
      "cell_type": "markdown",
      "id": "0a512698",
      "metadata": {
        "id": "0a512698"
      },
      "source": [
        "#### ② t-검정 (t-test)\n",
        "- H0 : '관리사무소 있는 관광지'와 '관리사무소 없는 관광지'의 평균은 같다. (= 유의미한 차이가 없다.)\n",
        "- H1 : '관리사무소 있는 관광지'와 '관리사무소 없는 관광지'의 평균은 다르다. (= 유의미한 차이가 있다.)"
      ]
    },
    {
      "cell_type": "code",
      "execution_count": null,
      "id": "086fc13a",
      "metadata": {
        "id": "086fc13a"
      },
      "outputs": [],
      "source": [
        "# '관리사무소 있는 관광지'와 '관리사무소 없는 관광지'를 분리하여 데이터프레임 생성\n",
        "has_office_df = AB_merged_df[AB_merged_df['관리사무소'] == 1]\n",
        "no_office_df = AB_merged_df[AB_merged_df['관리사무소'] == 0]"
      ]
    },
    {
      "cell_type": "code",
      "execution_count": null,
      "id": "b4b4936e",
      "metadata": {
        "scrolled": false,
        "id": "b4b4936e"
      },
      "outputs": [],
      "source": [
        "# 각 그룹의 '총 방문자 수' 분포 확인\n",
        "print(\"관리사무소 있는 관광지:\")\n",
        "print(has_office_df['총 방문자 수'].describe())\n",
        "\n",
        "print(\"\\n관리사무소 없는 관광지:\")\n",
        "print(no_office_df['총 방문자 수'].describe())"
      ]
    },
    {
      "cell_type": "code",
      "execution_count": null,
      "id": "25493a08",
      "metadata": {
        "scrolled": false,
        "id": "25493a08"
      },
      "outputs": [],
      "source": [
        "# '총 방문자 수' 로그 변환\n",
        "has_office_df['log_총 방문자 수'] = has_office_df['총 방문자 수'].apply(lambda x: 0 if x == 0 else np.log(x + 1))\n",
        "no_office_df['log_총 방문자 수'] = no_office_df['총 방문자 수'].apply(lambda x: 0 if x == 0 else np.log(x + 1))\n",
        "\n",
        "# Box Plot 그리기\n",
        "plt.figure(figsize=(8, 6))\n",
        "plt.boxplot([has_office_df['log_총 방문자 수'], no_office_df['log_총 방문자 수']], labels=['관리사무소 있는 관광지','관리사무소 없는 관광지'])\n",
        "plt.ylabel('총 방문자 수')\n",
        "plt.title(\"'총 방문자 수' 분포 비교\")\n",
        "plt.grid(True)\n",
        "plt.show()"
      ]
    },
    {
      "cell_type": "code",
      "execution_count": null,
      "id": "8c9a4bb1",
      "metadata": {
        "id": "8c9a4bb1"
      },
      "outputs": [],
      "source": [
        "# t-검정 전에 표본 수 확인\n",
        "print(f'관리사무소 있는 관광지 개수 : {len(has_office_df)}')\n",
        "print(f'관리사무소 없는 관광지 개수 : {len(no_office_df)}')"
      ]
    },
    {
      "cell_type": "code",
      "execution_count": null,
      "id": "47746465",
      "metadata": {
        "id": "47746465"
      },
      "outputs": [],
      "source": [
        "# 등분산 검정 (Levene's test)\n",
        "statistic, p_value = stats.levene(has_office_df['총 방문자 수'], no_office_df['총 방문자 수'])\n",
        "\n",
        "if p_value < 0.05:\n",
        "    print(\"두 집단은 이분산 가정을 만족한다.\")\n",
        "    t_statistic, p_value = stats.ttest_ind(has_office_df['총 방문자 수'], no_office_df['총 방문자 수'], equal_var=False)\n",
        "else:\n",
        "    print(\"두 집단은 등분산 가정을 만족한다.\")\n",
        "    t_statistic, p_value = stats.ttest_ind(has_office_df['총 방문자 수'], no_office_df['총 방문자 수'], equal_var=True)"
      ]
    },
    {
      "cell_type": "code",
      "execution_count": null,
      "id": "8e6a3814",
      "metadata": {
        "id": "8e6a3814"
      },
      "outputs": [],
      "source": [
        "# 독립표본 t-검정 수행\n",
        "t_statistic, p_value = ttest_ind(has_office_df['총 방문자 수'], no_office_df['총 방문자 수'])\n",
        "\n",
        "print(\"\\n독립표본 t-검정 결과:\")\n",
        "print(\"t-통계량:\", t_statistic)\n",
        "print(\"p-value:\", p_value)"
      ]
    },
    {
      "cell_type": "code",
      "execution_count": null,
      "id": "b9b59e07",
      "metadata": {
        "scrolled": true,
        "id": "b9b59e07"
      },
      "outputs": [],
      "source": [
        "# 가설 검정 수행\n",
        "if p_value < 0.05:\n",
        "    print(\"\\n'관리사무소 있는 관광지'와 '관리사무소 없는 관광지'의 '총 방문자 수'는 유의미한 차이가 있다.\")\n",
        "else:\n",
        "    print(\"\\n'관리사무소 있는 관광지'와 '관리사무소 없는 관광지'의 '총 방문자 수'는 유의미한 차이가 없다.\")"
      ]
    },
    {
      "cell_type": "markdown",
      "id": "095bdb81",
      "metadata": {
        "id": "095bdb81"
      },
      "source": [
        "### (4) '안내소' 가설"
      ]
    },
    {
      "cell_type": "markdown",
      "id": "e4023b9b",
      "metadata": {
        "id": "e4023b9b"
      },
      "source": [
        "#### ① 피어슨 상관계수 (Pearson correlation)\n",
        "- H0 : 관광지의 '안내소' 유무는 '총 방문자 수'와 상관관계가 없다.\n",
        "- H1 : 관광지의 '안내소' 유무는 '총 방문자 수'와 상관관계가 있다."
      ]
    },
    {
      "cell_type": "code",
      "execution_count": null,
      "id": "16e0214a",
      "metadata": {
        "id": "16e0214a"
      },
      "outputs": [],
      "source": [
        "selected_cols = ['안내소', '총 방문자 수']\n",
        "guide_df = AB_merged_df[selected_cols]"
      ]
    },
    {
      "cell_type": "code",
      "execution_count": null,
      "id": "289ed235",
      "metadata": {
        "id": "289ed235"
      },
      "outputs": [],
      "source": [
        "# 상관계수 & p-value 계산\n",
        "corr_coef, p_value = pearsonr(guide_df['안내소'], guide_df['총 방문자 수'])\n",
        "\n",
        "print(\"상관계수:\", corr_coef)\n",
        "print(\"p-value:\", p_value)"
      ]
    },
    {
      "cell_type": "code",
      "execution_count": null,
      "id": "a9afcde4",
      "metadata": {
        "id": "a9afcde4"
      },
      "outputs": [],
      "source": [
        "# 가설 검정 수행\n",
        "if p_value < 0.05:\n",
        "    print(\"귀무가설(H0)을 기각. 관광지의 '안내소' 유무는 '총 방문자 수'와 상관관계가 있다.\")\n",
        "else:\n",
        "    print(\"귀무가설(H0)을 채택. 관광지의 '안내소' 유무는 '총 방문자 수'와 상관관계가 없다.\")"
      ]
    },
    {
      "cell_type": "markdown",
      "id": "ecf26cee",
      "metadata": {
        "id": "ecf26cee"
      },
      "source": [
        "#### ② t-검정 (t-test)\n",
        "- H0 : '안내소 있는 관광지'와 '안내소 없는 관광지'의 평균은 같다. (= 유의미한 차이가 없다.)\n",
        "- H1 : '안내소 있는 관광지'와 '안내소 없는 관광지'의 평균은 다르다. (= 유의미한 차이가 있다.)"
      ]
    },
    {
      "cell_type": "code",
      "execution_count": null,
      "id": "1441c509",
      "metadata": {
        "id": "1441c509"
      },
      "outputs": [],
      "source": [
        "has_guide_df = AB_merged_df[AB_merged_df['안내소'] == 1]\n",
        "no_guide_df = AB_merged_df[AB_merged_df['안내소'] == 0]"
      ]
    },
    {
      "cell_type": "code",
      "execution_count": 6,
      "id": "5389a198",
      "metadata": {
        "scrolled": false,
        "colab": {
          "base_uri": "https://localhost:8080/",
          "height": 276
        },
        "id": "5389a198",
        "outputId": "74b9e1b7-aed6-4611-9f93-bc911fbe36b9"
      },
      "outputs": [
        {
          "output_type": "stream",
          "name": "stdout",
          "text": [
            "안내소 있는 관광지:\n"
          ]
        },
        {
          "output_type": "error",
          "ename": "NameError",
          "evalue": "ignored",
          "traceback": [
            "\u001b[0;31m---------------------------------------------------------------------------\u001b[0m",
            "\u001b[0;31mNameError\u001b[0m                                 Traceback (most recent call last)",
            "\u001b[0;32m<ipython-input-6-965f67dc1539>\u001b[0m in \u001b[0;36m<cell line: 3>\u001b[0;34m()\u001b[0m\n\u001b[1;32m      1\u001b[0m \u001b[0;31m# 각 그룹의 '총 방문자 수' 분포 확인\u001b[0m\u001b[0;34m\u001b[0m\u001b[0;34m\u001b[0m\u001b[0m\n\u001b[1;32m      2\u001b[0m \u001b[0mprint\u001b[0m\u001b[0;34m(\u001b[0m\u001b[0;34m\"안내소 있는 관광지:\"\u001b[0m\u001b[0;34m)\u001b[0m\u001b[0;34m\u001b[0m\u001b[0;34m\u001b[0m\u001b[0m\n\u001b[0;32m----> 3\u001b[0;31m \u001b[0mprint\u001b[0m\u001b[0;34m(\u001b[0m\u001b[0mhas_guide_df\u001b[0m\u001b[0;34m[\u001b[0m\u001b[0;34m'총 방문자 수'\u001b[0m\u001b[0;34m]\u001b[0m\u001b[0;34m.\u001b[0m\u001b[0mdescribe\u001b[0m\u001b[0;34m(\u001b[0m\u001b[0;34m)\u001b[0m\u001b[0;34m)\u001b[0m\u001b[0;34m\u001b[0m\u001b[0;34m\u001b[0m\u001b[0m\n\u001b[0m\u001b[1;32m      4\u001b[0m \u001b[0;34m\u001b[0m\u001b[0m\n\u001b[1;32m      5\u001b[0m \u001b[0mprint\u001b[0m\u001b[0;34m(\u001b[0m\u001b[0;34m\"\\n안내소 없는 관광지:\"\u001b[0m\u001b[0;34m)\u001b[0m\u001b[0;34m\u001b[0m\u001b[0;34m\u001b[0m\u001b[0m\n",
            "\u001b[0;31mNameError\u001b[0m: name 'has_guide_df' is not defined"
          ]
        }
      ],
      "source": [
        "# 각 그룹의 '총 방문자 수' 분포 확인\n",
        "print(\"안내소 있는 관광지:\")\n",
        "print(has_guide_df['총 방문자 수'].describe())\n",
        "\n",
        "print(\"\\n안내소 없는 관광지:\")\n",
        "print(no_guide_df['총 방문자 수'].describe())"
      ]
    },
    {
      "cell_type": "code",
      "execution_count": null,
      "id": "a1126cda",
      "metadata": {
        "id": "a1126cda"
      },
      "outputs": [],
      "source": [
        "# '총 방문자 수' 로그 변환\n",
        "has_guide_df['log_총 방문자 수'] = has_guide_df['총 방문자 수'].apply(lambda x: 0 if x == 0 else np.log(x + 1))\n",
        "no_guide_df['log_총 방문자 수'] = no_guide_df['총 방문자 수'].apply(lambda x: 0 if x == 0 else np.log(x + 1))\n",
        "\n",
        "# Box Plot 그리기\n",
        "plt.figure(figsize=(8, 6))\n",
        "plt.boxplot([has_guide_df['log_총 방문자 수'], no_guide_df['log_총 방문자 수']], labels=['안내소 있는 관광지','안내소 없는 관광지'])\n",
        "plt.ylabel('총 방문자 수')\n",
        "plt.title(\"'총 방문자 수' 분포 비교\")\n",
        "plt.grid(True)\n",
        "plt.show()"
      ]
    },
    {
      "cell_type": "code",
      "execution_count": null,
      "id": "5d92c258",
      "metadata": {
        "id": "5d92c258"
      },
      "outputs": [],
      "source": [
        "# t-검정 전에 표본 수 확인\n",
        "print(f'안내소 있는 관광지 개수 : {len(has_guide_df)}')\n",
        "print(f'안내소 없는 관광지 개수 : {len(no_guide_df)}')"
      ]
    },
    {
      "cell_type": "code",
      "execution_count": null,
      "id": "d7c57b26",
      "metadata": {
        "id": "d7c57b26"
      },
      "outputs": [],
      "source": [
        "# 등분산 검정 (Levene's test)\n",
        "statistic, p_value = stats.levene(has_guide_df['총 방문자 수'], no_guide_df['총 방문자 수'])\n",
        "\n",
        "if p_value < 0.05:\n",
        "    print(\"두 집단은 이분산 가정을 만족한다.\")\n",
        "    t_statistic, p_value = stats.ttest_ind(has_guide_df['총 방문자 수'], no_guide_df['총 방문자 수'], equal_var=False)\n",
        "else:\n",
        "    print(\"두 집단은 등분산 가정을 만족한다.\")\n",
        "    t_statistic, p_value = stats.ttest_ind(has_guide_df['총 방문자 수'], no_guide_df['총 방문자 수'], equal_var=True)"
      ]
    },
    {
      "cell_type": "code",
      "execution_count": null,
      "id": "fe1371f6",
      "metadata": {
        "id": "fe1371f6"
      },
      "outputs": [],
      "source": [
        "# 독립표본 t-검정 수행\n",
        "t_statistic, p_value = ttest_ind(has_guide_df['총 방문자 수'], no_guide_df['총 방문자 수'])\n",
        "\n",
        "print(\"\\n독립표본 t-검정 결과:\")\n",
        "print(\"t-통계량:\", t_statistic)\n",
        "print(\"p-value:\", p_value)"
      ]
    },
    {
      "cell_type": "code",
      "execution_count": null,
      "id": "66859609",
      "metadata": {
        "scrolled": true,
        "id": "66859609"
      },
      "outputs": [],
      "source": [
        "# 가설 검정 수행\n",
        "if p_value < 0.05:\n",
        "    print(\"\\n'안내소 있는 관광지'와 '안내소 없는 관광지'의 '총 방문자 수'는 유의미한 차이가 있다.\")\n",
        "else:\n",
        "    print(\"\\n'안내소 있는 관광지'와 '안내소 없는 관광지'의 '총 방문자 수'는 유의미한 차이가 없다.\")"
      ]
    },
    {
      "cell_type": "markdown",
      "id": "feb7e39d",
      "metadata": {
        "id": "feb7e39d"
      },
      "source": [
        "### (5) '샤워장' 가설"
      ]
    },
    {
      "cell_type": "markdown",
      "id": "9e4d10af",
      "metadata": {
        "id": "9e4d10af"
      },
      "source": [
        "#### ① 피어슨 상관계수 (Pearson correlation)\n",
        "- H0 : 관광지의 '샤워장' 유무는 '총 방문자 수'와 상관관계가 없다.\n",
        "- H1 : 관광지의 '샤워장' 유무는 '총 방문자 수'와 상관관계가 있다."
      ]
    },
    {
      "cell_type": "code",
      "execution_count": null,
      "id": "ae243a6a",
      "metadata": {
        "id": "ae243a6a"
      },
      "outputs": [],
      "source": [
        "selected_cols = ['샤워장', '총 방문자 수']\n",
        "shower_df = AB_merged_df[selected_cols]"
      ]
    },
    {
      "cell_type": "code",
      "execution_count": null,
      "id": "4326074a",
      "metadata": {
        "id": "4326074a"
      },
      "outputs": [],
      "source": [
        "# 상관계수 & p-value 계산\n",
        "corr_coef, p_value = pearsonr(shower_df['샤워장'], shower_df['총 방문자 수'])\n",
        "\n",
        "print(\"상관계수:\", corr_coef)\n",
        "print(\"p-value:\", p_value)"
      ]
    },
    {
      "cell_type": "code",
      "execution_count": null,
      "id": "e111bc2d",
      "metadata": {
        "id": "e111bc2d"
      },
      "outputs": [],
      "source": [
        "# 가설 검정 수행\n",
        "if p_value < 0.05:\n",
        "    print(\"귀무가설(H0)을 기각. 관광지의 '샤워장' 유무는 '총 방문자 수'와 상관관계가 있다.\")\n",
        "else:\n",
        "    print(\"귀무가설(H0)을 채택. 관광지의 '샤워장' 유무는 '총 방문자 수'와 상관관계가 없다.\")"
      ]
    },
    {
      "cell_type": "markdown",
      "id": "3bfcdd2a",
      "metadata": {
        "id": "3bfcdd2a"
      },
      "source": [
        "#### ② t-검정 (t-test)\n",
        "- H0 : '샤워장 있는 관광지'와 '샤워장 없는 관광지'의 평균은 같다. (= 유의미한 차이가 없다.)\n",
        "- H1 : '샤워장 있는 관광지'와 '샤워장 없는 관광지'의 평균은 다르다. (= 유의미한 차이가 있다.)"
      ]
    },
    {
      "cell_type": "code",
      "execution_count": null,
      "id": "dbb84856",
      "metadata": {
        "id": "dbb84856"
      },
      "outputs": [],
      "source": [
        "has_shower_df = AB_merged_df[AB_merged_df['샤워장'] == 1]\n",
        "no_shower_df = AB_merged_df[AB_merged_df['샤워장'] == 0]"
      ]
    },
    {
      "cell_type": "code",
      "execution_count": null,
      "id": "75284ee5",
      "metadata": {
        "scrolled": false,
        "id": "75284ee5"
      },
      "outputs": [],
      "source": [
        "# 각 그룹의 '총 방문자 수' 분포 확인\n",
        "print(\"샤워장 있는 관광지:\")\n",
        "print(has_shower_df['총 방문자 수'].describe())\n",
        "\n",
        "print(\"\\n샤워장 없는 관광지:\")\n",
        "print(no_shower_df['총 방문자 수'].describe())"
      ]
    },
    {
      "cell_type": "code",
      "execution_count": null,
      "id": "fcd9e253",
      "metadata": {
        "id": "fcd9e253"
      },
      "outputs": [],
      "source": [
        "# '총 방문자 수' 로그 변환\n",
        "has_shower_df['log_총 방문자 수'] = has_shower_df['총 방문자 수'].apply(lambda x: 0 if x == 0 else np.log(x + 1))\n",
        "no_shower_df['log_총 방문자 수'] = no_shower_df['총 방문자 수'].apply(lambda x: 0 if x == 0 else np.log(x + 1))\n",
        "\n",
        "# Box Plot 그리기\n",
        "plt.figure(figsize=(8, 6))\n",
        "plt.boxplot([has_shower_df['log_총 방문자 수'], no_shower_df['log_총 방문자 수']], labels=['샤워장 있는 관광지','샤워장 없는 관광지'])\n",
        "plt.ylabel('총 방문자 수')\n",
        "plt.title(\"'총 방문자 수' 분포 비교\")\n",
        "plt.grid(True)\n",
        "plt.show()"
      ]
    },
    {
      "cell_type": "code",
      "execution_count": null,
      "id": "9f1d7cc5",
      "metadata": {
        "id": "9f1d7cc5"
      },
      "outputs": [],
      "source": [
        "# t-검정 전에 표본 수 확인\n",
        "print(f'샤워장 있는 관광지 개수 : {len(has_shower_df)}')\n",
        "print(f'샤워장 없는 관광지 개수 : {len(no_shower_df)}')"
      ]
    },
    {
      "cell_type": "code",
      "execution_count": null,
      "id": "9b555ced",
      "metadata": {
        "id": "9b555ced"
      },
      "outputs": [],
      "source": [
        "# 등분산 검정 (Levene's test)\n",
        "statistic, p_value = stats.levene(has_shower_df['총 방문자 수'], no_shower_df['총 방문자 수'])\n",
        "\n",
        "if p_value < 0.05:\n",
        "    print(\"두 집단은 이분산 가정을 만족한다.\")\n",
        "    t_statistic, p_value = stats.ttest_ind(has_shower_df['총 방문자 수'], no_shower_df['총 방문자 수'], equal_var=False)\n",
        "else:\n",
        "    print(\"두 집단은 등분산 가정을 만족한다.\")\n",
        "    t_statistic, p_value = stats.ttest_ind(has_shower_df['총 방문자 수'], no_shower_df['총 방문자 수'], equal_var=True)"
      ]
    },
    {
      "cell_type": "code",
      "execution_count": null,
      "id": "662f7d60",
      "metadata": {
        "id": "662f7d60"
      },
      "outputs": [],
      "source": [
        "# 독립표본 t-검정 수행\n",
        "t_statistic, p_value = ttest_ind(has_shower_df['총 방문자 수'], no_shower_df['총 방문자 수'])\n",
        "\n",
        "print(\"\\n독립표본 t-검정 결과:\")\n",
        "print(\"t-통계량:\", t_statistic)\n",
        "print(\"p-value:\", p_value)"
      ]
    },
    {
      "cell_type": "code",
      "execution_count": null,
      "id": "aa559427",
      "metadata": {
        "scrolled": true,
        "id": "aa559427"
      },
      "outputs": [],
      "source": [
        "# 가설 검정 수행\n",
        "if p_value < 0.05:\n",
        "    print(\"\\n'샤워장 있는 관광지'와 '샤워장 없는 관광지'의 '총 방문자 수'는 유의미한 차이가 있다.\")\n",
        "else:\n",
        "    print(\"\\n'샤워장 있는 관광지'와 '샤워장 없는 관광지'의 '총 방문자 수'는 유의미한 차이가 없다.\")"
      ]
    },
    {
      "cell_type": "markdown",
      "id": "6f772eae",
      "metadata": {
        "id": "6f772eae"
      },
      "source": [
        "\n",
        "#### ③ Mann-Whitney U검정\n",
        "- H0 : '샤워장 있는 관광지'와 '샤워장 없는 관광지'의 '총 방문자 수'는 유의미한 차이가 없다.\n",
        "- H1 : '샤워장 있는 관광지'와 '샤워장 없는 관광지'의 '총 방문자 수'는 유의미한 차이가 있다."
      ]
    },
    {
      "cell_type": "code",
      "execution_count": null,
      "id": "bb357bd2",
      "metadata": {
        "id": "bb357bd2"
      },
      "outputs": [],
      "source": [
        "from scipy.stats import mannwhitneyu"
      ]
    },
    {
      "cell_type": "code",
      "execution_count": null,
      "id": "6921df75",
      "metadata": {
        "id": "6921df75"
      },
      "outputs": [],
      "source": [
        "statistic, p_value = mannwhitneyu(has_shower_df['총 방문자 수'], no_shower_df['총 방문자 수'])\n",
        "\n",
        "print(\"검정 통계량:\", statistic)\n",
        "print(\"p-value:\", p_value)\n",
        "\n",
        "if p_value < 0.05:\n",
        "    print(\"\\n 두 집단의 중앙값은 유의미하게 다르다.\")\n",
        "else:\n",
        "    print(\"\\n 두 집단의 중앙값은 유의미하게 다르지 않다.\")"
      ]
    },
    {
      "cell_type": "markdown",
      "id": "463b8e89",
      "metadata": {
        "id": "463b8e89"
      },
      "source": [
        "### (6) '광장' 가설"
      ]
    },
    {
      "cell_type": "markdown",
      "id": "7702c956",
      "metadata": {
        "id": "7702c956"
      },
      "source": [
        "#### ① 피어슨 상관계수 (Pearson correlation)\n",
        "- H0 : 관광지의 '광장' 유무는 '총 방문자 수'와 상관관계가 없다.\n",
        "- H1 : 관광지의 '광장' 유무는 '총 방문자 수'와 상관관계가 있다."
      ]
    },
    {
      "cell_type": "code",
      "execution_count": null,
      "id": "ec5fe379",
      "metadata": {
        "id": "ec5fe379"
      },
      "outputs": [],
      "source": [
        "selected_cols = ['광장', '총 방문자 수']\n",
        "plaza_df = AB_merged_df[selected_cols]"
      ]
    },
    {
      "cell_type": "code",
      "execution_count": null,
      "id": "dd8eef9c",
      "metadata": {
        "id": "dd8eef9c"
      },
      "outputs": [],
      "source": [
        "# 상관계수 & p-value 계산\n",
        "corr_coef, p_value = pearsonr(plaza_df['광장'], plaza_df['총 방문자 수'])\n",
        "\n",
        "print(\"상관계수:\", corr_coef)\n",
        "print(\"p-value:\", p_value)"
      ]
    },
    {
      "cell_type": "code",
      "execution_count": null,
      "id": "1f40cf6a",
      "metadata": {
        "id": "1f40cf6a"
      },
      "outputs": [],
      "source": [
        "# 가설 검정 수행\n",
        "if p_value < 0.05:\n",
        "    print(\"귀무가설(H0)을 기각. 관광지의 '광장' 유무는 '총 방문자 수'와 상관관계가 있다.\")\n",
        "else:\n",
        "    print(\"귀무가설(H0)을 채택. 관광지의 '광장' 유무는 '총 방문자 수'와 상관관계가 없다.\")"
      ]
    },
    {
      "cell_type": "markdown",
      "id": "c3e5c5ab",
      "metadata": {
        "id": "c3e5c5ab"
      },
      "source": [
        "#### ② t-검정 (t-test)\n",
        "- H0 : '관리사무소 있는 관광지'와 '관리사무소 없는 관광지'의 평균은 같다. (= 유의미한 차이가 없다.)\n",
        "- H1 : '관리사무소 있는 관광지'와 '관리사무소 없는 관광지'의 평균은 다르다. (= 유의미한 차이가 있다.)"
      ]
    },
    {
      "cell_type": "code",
      "execution_count": null,
      "id": "8b64928e",
      "metadata": {
        "id": "8b64928e"
      },
      "outputs": [],
      "source": [
        "has_plaza_df = AB_merged_df[AB_merged_df['광장'] == 1]\n",
        "no_plaza_df = AB_merged_df[AB_merged_df['광장'] == 0]"
      ]
    },
    {
      "cell_type": "code",
      "execution_count": null,
      "id": "c349acd7",
      "metadata": {
        "scrolled": false,
        "id": "c349acd7"
      },
      "outputs": [],
      "source": [
        "# 각 그룹의 '총 방문자 수' 분포 확인\n",
        "print(\"광장 있는 관광지:\")\n",
        "print(has_plaza_df['총 방문자 수'].describe())\n",
        "\n",
        "print(\"\\n광장 없는 관광지:\")\n",
        "print(no_plaza_df['총 방문자 수'].describe())"
      ]
    },
    {
      "cell_type": "code",
      "execution_count": null,
      "id": "79162922",
      "metadata": {
        "id": "79162922"
      },
      "outputs": [],
      "source": [
        "# '총 방문자 수' 로그 변환\n",
        "has_plaza_df['log_총 방문자 수'] = has_plaza_df['총 방문자 수'].apply(lambda x: 0 if x == 0 else np.log(x + 1))\n",
        "no_plaza_df['log_총 방문자 수'] = no_plaza_df['총 방문자 수'].apply(lambda x: 0 if x == 0 else np.log(x + 1))\n",
        "\n",
        "# Box Plot 그리기\n",
        "plt.figure(figsize=(8, 6))\n",
        "plt.boxplot([has_plaza_df['log_총 방문자 수'], no_plaza_df['log_총 방문자 수']], labels=['광장 있는 관광지','광장 없는 관광지'])\n",
        "plt.ylabel('총 방문자 수')\n",
        "plt.title(\"'총 방문자 수' 분포 비교\")\n",
        "plt.grid(True)\n",
        "plt.show()"
      ]
    },
    {
      "cell_type": "code",
      "execution_count": null,
      "id": "a2b588c4",
      "metadata": {
        "id": "a2b588c4"
      },
      "outputs": [],
      "source": [
        "# t-검정 전에 표본 수 확인\n",
        "print(f'광장 있는 관광지 개수 : {len(has_plaza_df)}')\n",
        "print(f'광장 없는 관광지 개수 : {len(no_plaza_df)}')"
      ]
    },
    {
      "cell_type": "code",
      "execution_count": null,
      "id": "fc74cb94",
      "metadata": {
        "id": "fc74cb94"
      },
      "outputs": [],
      "source": [
        "# 등분산 검정 (Levene's test)\n",
        "statistic, p_value = stats.levene(has_plaza_df['총 방문자 수'], no_plaza_df['총 방문자 수'])\n",
        "\n",
        "if p_value < 0.05:\n",
        "    print(\"두 집단은 이분산 가정을 만족한다.\")\n",
        "    t_statistic, p_value = stats.ttest_ind(has_plaza_df['총 방문자 수'], no_plaza_df['총 방문자 수'], equal_var=False)\n",
        "else:\n",
        "    print(\"두 집단은 등분산 가정을 만족한다.\")\n",
        "    t_statistic, p_value = stats.ttest_ind(has_plaza_df['총 방문자 수'], no_plaza_df['총 방문자 수'], equal_var=True)"
      ]
    },
    {
      "cell_type": "code",
      "execution_count": null,
      "id": "74f4ee1b",
      "metadata": {
        "id": "74f4ee1b"
      },
      "outputs": [],
      "source": [
        "# 독립표본 t-검정 수행\n",
        "t_statistic, p_value = ttest_ind(has_plaza_df['총 방문자 수'], no_plaza_df['총 방문자 수'])\n",
        "\n",
        "print(\"\\n독립표본 t-검정 결과:\")\n",
        "print(\"t-통계량:\", t_statistic)\n",
        "print(\"p-value:\", p_value)"
      ]
    },
    {
      "cell_type": "code",
      "execution_count": null,
      "id": "0f5040ab",
      "metadata": {
        "scrolled": true,
        "id": "0f5040ab"
      },
      "outputs": [],
      "source": [
        "# 가설 검정 수행\n",
        "if p_value < 0.05:\n",
        "    print(\"\\n'광장 있는 관광지'와 '광장 없는 관광지'의 '총 방문자 수'는 유의미한 차이가 있다.\")\n",
        "else:\n",
        "    print(\"\\n'광장 있는 관광지'와 '광장 없는 관광지'의 '총 방문자 수'는 유의미한 차이가 없다.\")"
      ]
    },
    {
      "cell_type": "markdown",
      "id": "6094de3e",
      "metadata": {
        "id": "6094de3e"
      },
      "source": [
        "#### ③ Mann-Whitney U검정\n",
        "- H0 : '광장 있는 관광지'와 '광장 없는 관광지'의 '총 방문자 수'는 유의미한 차이가 없다.\n",
        "- H1 : '광장 있는 관광지'와 '광장 없는 관광지'의 '총 방문자 수'는 유의미한 차이가 있다."
      ]
    },
    {
      "cell_type": "code",
      "execution_count": null,
      "id": "791d67dc",
      "metadata": {
        "id": "791d67dc"
      },
      "outputs": [],
      "source": [
        "from scipy.stats import mannwhitneyu"
      ]
    },
    {
      "cell_type": "code",
      "execution_count": null,
      "id": "a2bb24eb",
      "metadata": {
        "id": "a2bb24eb"
      },
      "outputs": [],
      "source": [
        "statistic, p_value = mannwhitneyu(has_plaza_df['총 방문자 수'], no_plaza_df['총 방문자 수'])\n",
        "\n",
        "print(\"검정 통계량:\", statistic)\n",
        "print(\"p-value:\", p_value)\n",
        "\n",
        "if p_value < 0.05:\n",
        "    print(\"\\n 두 집단의 중앙값은 유의미하게 다르다.\")\n",
        "else:\n",
        "    print(\"\\n 두 집단의 중앙값은 유의미하게 다르지 않다.\")"
      ]
    },
    {
      "cell_type": "markdown",
      "id": "03438f18",
      "metadata": {
        "id": "03438f18"
      },
      "source": [
        "### (7) '수유실' 가설"
      ]
    },
    {
      "cell_type": "markdown",
      "id": "8e86156e",
      "metadata": {
        "id": "8e86156e"
      },
      "source": [
        "#### ① 피어슨 상관계수 (Pearson correlation)\n",
        "- H0 : 관광지의 '수유실' 유무는 '총 방문자 수'와 상관관계가 없다.\n",
        "- H1 : 관광지의 '수유실' 유무는 '총 방문자 수'와 상관관계가 있다."
      ]
    },
    {
      "cell_type": "code",
      "execution_count": null,
      "id": "7db1d726",
      "metadata": {
        "id": "7db1d726"
      },
      "outputs": [],
      "source": [
        "selected_cols = ['수유실', '총 방문자 수']\n",
        "feeding_df = AB_merged_df[selected_cols]"
      ]
    },
    {
      "cell_type": "code",
      "execution_count": null,
      "id": "770b2058",
      "metadata": {
        "id": "770b2058"
      },
      "outputs": [],
      "source": [
        "# 상관계수 & p-value 계산\n",
        "corr_coef, p_value = pearsonr(feeding_df['수유실'], feeding_df['총 방문자 수'])\n",
        "\n",
        "print(\"상관계수:\", corr_coef)\n",
        "print(\"p-value:\", p_value)"
      ]
    },
    {
      "cell_type": "code",
      "execution_count": null,
      "id": "da0cf8fe",
      "metadata": {
        "id": "da0cf8fe"
      },
      "outputs": [],
      "source": [
        "# 가설 검정 수행\n",
        "if p_value < 0.05:\n",
        "    print(\"귀무가설(H0)을 기각. 관광지의 '수유실' 유무는 '총 방문자 수'와 상관관계가 있다.\")\n",
        "else:\n",
        "    print(\"귀무가설(H0)을 채택. 관광지의 '수유실' 유무는 '총 방문자 수'와 상관관계가 없다.\")"
      ]
    },
    {
      "cell_type": "markdown",
      "id": "24c5196e",
      "metadata": {
        "id": "24c5196e"
      },
      "source": [
        "#### ② t-검정 (t-test)\n",
        "- H0 : '수유실 있는 관광지'와 '수유실 없는 관광지'의 평균은 같다. (= 유의미한 차이가 없다.)\n",
        "- H1 : '수유실 있는 관광지'와 '수유실 없는 관광지'의 평균은 다르다. (= 유의미한 차이가 있다.)"
      ]
    },
    {
      "cell_type": "code",
      "execution_count": null,
      "id": "e252b92f",
      "metadata": {
        "id": "e252b92f"
      },
      "outputs": [],
      "source": [
        "has_feeding_df = AB_merged_df[AB_merged_df['수유실'] == 1]\n",
        "no_feeding_df = AB_merged_df[AB_merged_df['수유실'] == 0]"
      ]
    },
    {
      "cell_type": "code",
      "execution_count": null,
      "id": "6a564f89",
      "metadata": {
        "scrolled": false,
        "id": "6a564f89"
      },
      "outputs": [],
      "source": [
        "# 각 그룹의 '총 방문자 수' 분포 확인\n",
        "print(\"수유실 있는 관광지:\")\n",
        "print(has_feeding_df['총 방문자 수'].describe())\n",
        "\n",
        "print(\"\\n수유실 없는 관광지:\")\n",
        "print(no_feeding_df['총 방문자 수'].describe())"
      ]
    },
    {
      "cell_type": "code",
      "execution_count": null,
      "id": "f0d29c83",
      "metadata": {
        "id": "f0d29c83"
      },
      "outputs": [],
      "source": [
        "# '총 방문자 수' 로그 변환\n",
        "has_feeding_df['log_총 방문자 수'] = has_feeding_df['총 방문자 수'].apply(lambda x: 0 if x == 0 else np.log(x + 1))\n",
        "no_feeding_df['log_총 방문자 수'] = no_feeding_df['총 방문자 수'].apply(lambda x: 0 if x == 0 else np.log(x + 1))\n",
        "\n",
        "# Box Plot 그리기\n",
        "plt.figure(figsize=(8, 6))\n",
        "plt.boxplot([has_feeding_df['log_총 방문자 수'], no_feeding_df['log_총 방문자 수']], labels=['수유실 있는 관광지','수유실 없는 관광지'])\n",
        "plt.ylabel('총 방문자 수')\n",
        "plt.title(\"'총 방문자 수' 분포 비교\")\n",
        "plt.grid(True)\n",
        "plt.show()"
      ]
    },
    {
      "cell_type": "code",
      "execution_count": null,
      "id": "6ae0f82c",
      "metadata": {
        "id": "6ae0f82c"
      },
      "outputs": [],
      "source": [
        "# t-검정 전에 표본 수 확인\n",
        "print(f'수유실 있는 관광지 개수 : {len(has_feeding_df)}')\n",
        "print(f'수유실 없는 관광지 개수 : {len(no_feeding_df)}')"
      ]
    },
    {
      "cell_type": "code",
      "execution_count": null,
      "id": "5c3bcea6",
      "metadata": {
        "id": "5c3bcea6"
      },
      "outputs": [],
      "source": [
        "# 등분산 검정 (Levene's test)\n",
        "statistic, p_value = stats.levene(has_feeding_df['총 방문자 수'], no_feeding_df['총 방문자 수'])\n",
        "\n",
        "if p_value < 0.05:\n",
        "    print(\"두 집단은 이분산 가정을 만족한다.\")\n",
        "    t_statistic, p_value = stats.ttest_ind(has_feeding_df['총 방문자 수'], no_feeding_df['총 방문자 수'], equal_var=False)\n",
        "else:\n",
        "    print(\"두 집단은 등분산 가정을 만족한다.\")\n",
        "    t_statistic, p_value = stats.ttest_ind(has_feeding_df['총 방문자 수'], no_feeding_df['총 방문자 수'], equal_var=True)"
      ]
    },
    {
      "cell_type": "code",
      "execution_count": null,
      "id": "419fea0c",
      "metadata": {
        "id": "419fea0c"
      },
      "outputs": [],
      "source": [
        "# 독립표본 t-검정 수행\n",
        "t_statistic, p_value = ttest_ind(has_feeding_df['총 방문자 수'], no_feeding_df['총 방문자 수'])\n",
        "\n",
        "print(\"\\n독립표본 t-검정 결과:\")\n",
        "print(\"t-통계량:\", t_statistic)\n",
        "print(\"p-value:\", p_value)"
      ]
    },
    {
      "cell_type": "code",
      "execution_count": null,
      "id": "affe9288",
      "metadata": {
        "scrolled": true,
        "id": "affe9288"
      },
      "outputs": [],
      "source": [
        "# 가설 검정 수행\n",
        "if p_value < 0.05:\n",
        "    print(\"\\n'수유실 있는 관광지'와 '수유실 없는 관광지'의 '총 방문자 수'는 유의미한 차이가 있다.\")\n",
        "else:\n",
        "    print(\"\\n'수유실 있는 관광지'와 '수유실 없는 관광지'의 '총 방문자 수'는 유의미한 차이가 없다.\")"
      ]
    },
    {
      "cell_type": "markdown",
      "id": "2d9a4c51",
      "metadata": {
        "id": "2d9a4c51"
      },
      "source": [
        "#### ③ Mann-Whitney U검정\n",
        "- H0 : '수유실 있는 관광지'와 '수유실 없는 관광지'의 '총 방문자 수'는 유의미한 차이가 없다.\n",
        "- H1 : '수유실 있는 관광지'와 '수유실 없는 관광지'의 '총 방문자 수'는 유의미한 차이가 있다."
      ]
    },
    {
      "cell_type": "code",
      "execution_count": null,
      "id": "e482cc14",
      "metadata": {
        "id": "e482cc14"
      },
      "outputs": [],
      "source": [
        "from scipy.stats import mannwhitneyu"
      ]
    },
    {
      "cell_type": "code",
      "execution_count": null,
      "id": "8e1fa669",
      "metadata": {
        "id": "8e1fa669"
      },
      "outputs": [],
      "source": [
        "statistic, p_value = mannwhitneyu(has_feeding_df['총 방문자 수'], no_feeding_df['총 방문자 수'])\n",
        "\n",
        "print(\"검정 통계량:\", statistic)\n",
        "print(\"p-value:\", p_value)\n",
        "\n",
        "if p_value < 0.05:\n",
        "    print(\"\\n 두 집단의 중앙값은 유의미하게 다르다.\")\n",
        "else:\n",
        "    print(\"\\n 두 집단의 중앙값은 유의미하게 다르지 않다.\")"
      ]
    },
    {
      "cell_type": "markdown",
      "id": "b39ce225",
      "metadata": {
        "id": "b39ce225"
      },
      "source": [
        "### (8) '휴게/쉼터' 가설"
      ]
    },
    {
      "cell_type": "markdown",
      "id": "acb6fcb8",
      "metadata": {
        "id": "acb6fcb8"
      },
      "source": [
        "#### ① 피어슨 상관계수 (Pearson correlation)\n",
        "- H0 : 관광지의 '휴게/쉼터' 유무는 '총 방문자 수'와 상관관계가 없다.\n",
        "- H1 : 관광지의 '휴게/쉼터' 유무는 '총 방문자 수'와 상관관계가 있다."
      ]
    },
    {
      "cell_type": "code",
      "execution_count": null,
      "id": "b0af1e38",
      "metadata": {
        "id": "b0af1e38"
      },
      "outputs": [],
      "source": [
        "selected_cols = ['휴게/쉼터', '총 방문자 수']\n",
        "rest_df = AB_merged_df[selected_cols]"
      ]
    },
    {
      "cell_type": "code",
      "execution_count": null,
      "id": "002874ac",
      "metadata": {
        "id": "002874ac"
      },
      "outputs": [],
      "source": [
        "# 상관계수 & p-value 계산\n",
        "corr_coef, p_value = pearsonr(rest_df['휴게/쉼터'], rest_df['총 방문자 수'])\n",
        "\n",
        "print(\"상관계수:\", corr_coef)\n",
        "print(\"p-value:\", p_value)"
      ]
    },
    {
      "cell_type": "code",
      "execution_count": null,
      "id": "09a299d1",
      "metadata": {
        "id": "09a299d1"
      },
      "outputs": [],
      "source": [
        "# 가설 검정 수행\n",
        "if p_value < 0.05:\n",
        "    print(\"귀무가설(H0)을 기각. 관광지의 '휴게/쉼터' 유무는 '총 방문자 수'와 상관관계가 있다.\")\n",
        "else:\n",
        "    print(\"귀무가설(H0)을 채택. 관광지의 '휴게/쉼터' 유무는 '총 방문자 수'와 상관관계가 없다.\")"
      ]
    },
    {
      "cell_type": "markdown",
      "id": "f37bb464",
      "metadata": {
        "id": "f37bb464"
      },
      "source": [
        "#### ② t-검정 (t-test)\n",
        "- H0 : '휴게/쉼터 있는 관광지'와 '휴게/쉼터 없는 관광지'의 평균은 같다. (= 유의미한 차이가 없다.)\n",
        "- H1 : '휴게/쉼터 있는 관광지'와 '휴게/쉼터 없는 관광지'의 평균은 다르다. (= 유의미한 차이가 있다.)"
      ]
    },
    {
      "cell_type": "code",
      "execution_count": null,
      "id": "4e1f57b3",
      "metadata": {
        "id": "4e1f57b3"
      },
      "outputs": [],
      "source": [
        "has_rest_df = AB_merged_df[AB_merged_df['휴게/쉼터'] == 1]\n",
        "no_rest_df = AB_merged_df[AB_merged_df['휴게/쉼터'] == 0]"
      ]
    },
    {
      "cell_type": "code",
      "execution_count": null,
      "id": "597221f2",
      "metadata": {
        "scrolled": false,
        "id": "597221f2"
      },
      "outputs": [],
      "source": [
        "# 각 그룹의 '총 방문자 수' 분포 확인\n",
        "print(\"휴게/쉼터 있는 관광지:\")\n",
        "print(has_rest_df['총 방문자 수'].describe())\n",
        "\n",
        "print(\"\\n휴게/쉼터 없는 관광지:\")\n",
        "print(no_rest_df['총 방문자 수'].describe())"
      ]
    },
    {
      "cell_type": "code",
      "execution_count": null,
      "id": "76d67e42",
      "metadata": {
        "id": "76d67e42"
      },
      "outputs": [],
      "source": [
        "# '총 방문자 수' 로그 변환\n",
        "has_rest_df['log_총 방문자 수'] = has_rest_df['총 방문자 수'].apply(lambda x: 0 if x == 0 else np.log(x + 1))\n",
        "no_rest_df['log_총 방문자 수'] = no_rest_df['총 방문자 수'].apply(lambda x: 0 if x == 0 else np.log(x + 1))\n",
        "\n",
        "# Box Plot 그리기\n",
        "plt.figure(figsize=(8, 6))\n",
        "plt.boxplot([has_rest_df['log_총 방문자 수'], no_rest_df['log_총 방문자 수']], labels=['휴게/쉼터 있는 관광지','휴게/쉼터 없는 관광지'])\n",
        "plt.ylabel('총 방문자 수')\n",
        "plt.title(\"'총 방문자 수' 분포 비교\")\n",
        "plt.grid(True)\n",
        "plt.show()"
      ]
    },
    {
      "cell_type": "code",
      "execution_count": null,
      "id": "a1837a86",
      "metadata": {
        "id": "a1837a86"
      },
      "outputs": [],
      "source": [
        "# t-검정 전에 표본 수 확인\n",
        "print(f'휴게/쉼터 있는 관광지 개수 : {len(has_rest_df)}')\n",
        "print(f'휴게/쉼터 없는 관광지 개수 : {len(no_rest_df)}')"
      ]
    },
    {
      "cell_type": "code",
      "execution_count": null,
      "id": "b1388a3e",
      "metadata": {
        "id": "b1388a3e"
      },
      "outputs": [],
      "source": [
        "# 등분산 검정 (Levene's test)\n",
        "statistic, p_value = stats.levene(has_rest_df['총 방문자 수'], no_rest_df['총 방문자 수'])\n",
        "\n",
        "if p_value < 0.05:\n",
        "    print(\"두 집단은 이분산 가정을 만족한다.\")\n",
        "    t_statistic, p_value = stats.ttest_ind(has_rest_df['총 방문자 수'], no_rest_df['총 방문자 수'], equal_var=False)\n",
        "else:\n",
        "    print(\"두 집단은 등분산 가정을 만족한다.\")\n",
        "    t_statistic, p_value = stats.ttest_ind(has_rest_df['총 방문자 수'], no_rest_df['총 방문자 수'], equal_var=True)"
      ]
    },
    {
      "cell_type": "code",
      "execution_count": null,
      "id": "e1f2b8fa",
      "metadata": {
        "id": "e1f2b8fa"
      },
      "outputs": [],
      "source": [
        "# 독립표본 t-검정 수행\n",
        "t_statistic, p_value = ttest_ind(has_rest_df['총 방문자 수'], no_rest_df['총 방문자 수'])\n",
        "\n",
        "print(\"\\n독립표본 t-검정 결과:\")\n",
        "print(\"t-통계량:\", t_statistic)\n",
        "print(\"p-value:\", p_value)"
      ]
    },
    {
      "cell_type": "code",
      "execution_count": null,
      "id": "47864e69",
      "metadata": {
        "scrolled": false,
        "id": "47864e69"
      },
      "outputs": [],
      "source": [
        "# 가설 검정 수행\n",
        "if p_value < 0.05:\n",
        "    print(\"\\n'휴게/쉼터 있는 관광지'와 '휴게/쉼터 없는 관광지'의 '총 방문자 수'는 유의미한 차이가 있다.\")\n",
        "else:\n",
        "    print(\"\\n'휴게/쉼터 있는 관광지'와 '휴게/쉼터 없는 관광지'의 '총 방문자 수'는 유의미한 차이가 없다.\")"
      ]
    },
    {
      "cell_type": "markdown",
      "id": "d91fdc00",
      "metadata": {
        "id": "d91fdc00"
      },
      "source": [
        "#### ③ Mann-Whitney U검정\n",
        "- H0 : '휴게/쉼터 있는 관광지'와 '휴게/쉼터 없는 관광지'의 '총 방문자 수'는 유의미한 차이가 없다.\n",
        "- H1 : '휴게/쉼터 있는 관광지'와 '휴게/쉼터 없는 관광지'의 '총 방문자 수'는 유의미한 차이가 있다."
      ]
    },
    {
      "cell_type": "code",
      "execution_count": null,
      "id": "944f29c1",
      "metadata": {
        "id": "944f29c1"
      },
      "outputs": [],
      "source": [
        "from scipy.stats import mannwhitneyu"
      ]
    },
    {
      "cell_type": "code",
      "execution_count": null,
      "id": "a7cba6ff",
      "metadata": {
        "id": "a7cba6ff"
      },
      "outputs": [],
      "source": [
        "statistic, p_value = mannwhitneyu(has_rest_df['총 방문자 수'], no_rest_df['총 방문자 수'])\n",
        "\n",
        "print(\"검정 통계량:\", statistic)\n",
        "print(\"p-value:\", p_value)\n",
        "\n",
        "if p_value < 0.05:\n",
        "    print(\"\\n 두 집단의 중앙값은 유의미하게 다르다.\")\n",
        "else:\n",
        "    print(\"\\n 두 집단의 중앙값은 유의미하게 다르지 않다.\")"
      ]
    },
    {
      "cell_type": "markdown",
      "id": "8d720e63",
      "metadata": {
        "id": "8d720e63"
      },
      "source": [
        "### (9) '공원' 가설"
      ]
    },
    {
      "cell_type": "markdown",
      "id": "a367d58b",
      "metadata": {
        "id": "a367d58b"
      },
      "source": [
        "#### ① 피어슨 상관계수 (Pearson correlation)\n",
        "- H0 : 관광지의 '공원' 유무는 '총 방문자 수'와 상관관계가 없다.\n",
        "- H1 : 관광지의 '공원' 유무는 '총 방문자 수'와 상관관계가 있다."
      ]
    },
    {
      "cell_type": "code",
      "execution_count": null,
      "id": "211e9363",
      "metadata": {
        "id": "211e9363"
      },
      "outputs": [],
      "source": [
        "selected_cols = ['공원', '총 방문자 수']\n",
        "park_df = AB_merged_df[selected_cols]"
      ]
    },
    {
      "cell_type": "code",
      "execution_count": null,
      "id": "b660217b",
      "metadata": {
        "id": "b660217b"
      },
      "outputs": [],
      "source": [
        "# 상관계수 & p-value 계산\n",
        "corr_coef, p_value = pearsonr(park_df['공원'], park_df['총 방문자 수'])\n",
        "\n",
        "print(\"상관계수:\", corr_coef)\n",
        "print(\"p-value:\", p_value)"
      ]
    },
    {
      "cell_type": "code",
      "execution_count": null,
      "id": "12f4e086",
      "metadata": {
        "id": "12f4e086"
      },
      "outputs": [],
      "source": [
        "# 가설 검정 수행\n",
        "if p_value < 0.05:\n",
        "    print(\"귀무가설(H0)을 기각. 관광지의 '공원' 유무는 '총 방문자 수'와 상관관계가 있다.\")\n",
        "else:\n",
        "    print(\"귀무가설(H0)을 채택. 관광지의 '공원' 유무는 '총 방문자 수'와 상관관계가 없다.\")"
      ]
    },
    {
      "cell_type": "markdown",
      "id": "ea83b9f7",
      "metadata": {
        "id": "ea83b9f7"
      },
      "source": [
        "#### ② t-검정 (t-test)\n",
        "- H0 : '휴게/쉼터 있는 관광지'와 '휴게/쉼터 없는 관광지'의 평균은 같다. (= 유의미한 차이가 없다.)\n",
        "- H1 : '휴게/쉼터 있는 관광지'와 '휴게/쉼터 없는 관광지'의 평균은 다르다. (= 유의미한 차이가 있다.)"
      ]
    },
    {
      "cell_type": "code",
      "execution_count": null,
      "id": "2001a267",
      "metadata": {
        "id": "2001a267"
      },
      "outputs": [],
      "source": [
        "has_park_df = AB_merged_df[AB_merged_df['공원'] == 1]\n",
        "no_park_df = AB_merged_df[AB_merged_df['공원'] == 0]"
      ]
    },
    {
      "cell_type": "code",
      "execution_count": null,
      "id": "2437a4f1",
      "metadata": {
        "scrolled": false,
        "id": "2437a4f1"
      },
      "outputs": [],
      "source": [
        "# 각 그룹의 '총 방문자 수' 분포 확인\n",
        "print(\"공원 있는 관광지:\")\n",
        "print(has_park_df['총 방문자 수'].describe())\n",
        "\n",
        "print(\"\\n공원 없는 관광지:\")\n",
        "print(no_park_df['총 방문자 수'].describe())"
      ]
    },
    {
      "cell_type": "code",
      "execution_count": null,
      "id": "ee53b057",
      "metadata": {
        "id": "ee53b057"
      },
      "outputs": [],
      "source": [
        "# '총 방문자 수' 로그 변환\n",
        "has_park_df['log_총 방문자 수'] = has_park_df['총 방문자 수'].apply(lambda x: 0 if x == 0 else np.log(x + 1))\n",
        "no_park_df['log_총 방문자 수'] = no_park_df['총 방문자 수'].apply(lambda x: 0 if x == 0 else np.log(x + 1))\n",
        "\n",
        "# Box Plot 그리기\n",
        "plt.figure(figsize=(8, 6))\n",
        "plt.boxplot([has_park_df['log_총 방문자 수'], no_park_df['log_총 방문자 수']], labels=['공원 있는 관광지','공원 없는 관광지'])\n",
        "plt.ylabel('총 방문자 수')\n",
        "plt.title(\"'총 방문자 수' 분포 비교\")\n",
        "plt.grid(True)\n",
        "plt.show()"
      ]
    },
    {
      "cell_type": "code",
      "execution_count": null,
      "id": "14c3b1e2",
      "metadata": {
        "id": "14c3b1e2"
      },
      "outputs": [],
      "source": [
        "# t-검정 전에 표본 수 확인\n",
        "print(f'공원 있는 관광지 개수 : {len(has_park_df)}')\n",
        "print(f'공원 없는 관광지 개수 : {len(no_park_df)}')"
      ]
    },
    {
      "cell_type": "code",
      "execution_count": null,
      "id": "9da7cf61",
      "metadata": {
        "id": "9da7cf61"
      },
      "outputs": [],
      "source": [
        "# 등분산 검정 (Levene's test)\n",
        "statistic, p_value = stats.levene(has_park_df['총 방문자 수'], no_park_df['총 방문자 수'])\n",
        "\n",
        "if p_value < 0.05:\n",
        "    print(\"두 집단은 이분산 가정을 만족한다.\")\n",
        "    t_statistic, p_value = stats.ttest_ind(has_park_df['총 방문자 수'], no_park_df['총 방문자 수'], equal_var=False)\n",
        "else:\n",
        "    print(\"두 집단은 등분산 가정을 만족한다.\")\n",
        "    t_statistic, p_value = stats.ttest_ind(has_park_df['총 방문자 수'], no_park_df['총 방문자 수'], equal_var=True)"
      ]
    },
    {
      "cell_type": "code",
      "execution_count": null,
      "id": "b0c4db33",
      "metadata": {
        "id": "b0c4db33"
      },
      "outputs": [],
      "source": [
        "# 독립표본 t-검정 수행\n",
        "t_statistic, p_value = ttest_ind(has_park_df['총 방문자 수'], no_park_df['총 방문자 수'])\n",
        "\n",
        "print(\"\\n독립표본 t-검정 결과:\")\n",
        "print(\"t-통계량:\", t_statistic)\n",
        "print(\"p-value:\", p_value)"
      ]
    },
    {
      "cell_type": "code",
      "execution_count": null,
      "id": "c1bee1e8",
      "metadata": {
        "scrolled": false,
        "id": "c1bee1e8"
      },
      "outputs": [],
      "source": [
        "# 가설 검정 수행\n",
        "if p_value < 0.05:\n",
        "    print(\"\\n'공원 있는 관광지'와 '공원 없는 관광지'의 '총 방문자 수'는 유의미한 차이가 있다.\")\n",
        "else:\n",
        "    print(\"\\n'공원 있는 관광지'와 '공원 없는 관광지'의 '총 방문자 수'는 유의미한 차이가 없다.\")"
      ]
    },
    {
      "cell_type": "markdown",
      "id": "e3d6c158",
      "metadata": {
        "id": "e3d6c158"
      },
      "source": [
        "#### ③ Mann-Whitney U검정\n",
        "- H0 : '공원 있는 관광지'와 '공원 없는 관광지'의 '총 방문자 수'는 유의미한 차이가 없다.\n",
        "- H1 : '공원 있는 관광지'와 '공원 없는 관광지'의 '총 방문자 수'는 유의미한 차이가 있다."
      ]
    },
    {
      "cell_type": "code",
      "execution_count": null,
      "id": "84811ba8",
      "metadata": {
        "id": "84811ba8"
      },
      "outputs": [],
      "source": [
        "from scipy.stats import mannwhitneyu"
      ]
    },
    {
      "cell_type": "code",
      "execution_count": null,
      "id": "122ba78b",
      "metadata": {
        "id": "122ba78b"
      },
      "outputs": [],
      "source": [
        "statistic, p_value = mannwhitneyu(has_park_df['총 방문자 수'], no_park_df['총 방문자 수'])\n",
        "\n",
        "print(\"검정 통계량:\", statistic)\n",
        "print(\"p-value:\", p_value)\n",
        "\n",
        "if p_value < 0.05:\n",
        "    print(\"\\n 두 집단의 중앙값은 유의미하게 다르다.\")\n",
        "else:\n",
        "    print(\"\\n 두 집단의 중앙값은 유의미하게 다르지 않다.\")"
      ]
    },
    {
      "cell_type": "markdown",
      "id": "43cb5c91",
      "metadata": {
        "id": "43cb5c91"
      },
      "source": [
        "### (10) '카페/커피' 가설"
      ]
    },
    {
      "cell_type": "markdown",
      "id": "b6be18a3",
      "metadata": {
        "id": "b6be18a3"
      },
      "source": [
        "#### ① 피어슨 상관계수 (Pearson correlation)\n",
        "- H0 : 관광지의 '카페/커피' 유무는 '총 방문자 수'와 상관관계가 없다.\n",
        "- H1 : 관광지의 '카페/커피' 유무는 '총 방문자 수'와 상관관계가 있다."
      ]
    },
    {
      "cell_type": "code",
      "execution_count": null,
      "id": "4d7c5347",
      "metadata": {
        "id": "4d7c5347"
      },
      "outputs": [],
      "source": [
        "selected_cols = ['카페/커피', '총 방문자 수']\n",
        "coffee_df = AB_merged_df[selected_cols]"
      ]
    },
    {
      "cell_type": "code",
      "execution_count": null,
      "id": "220fa7bc",
      "metadata": {
        "id": "220fa7bc"
      },
      "outputs": [],
      "source": [
        "# 상관계수 & p-value 계산\n",
        "corr_coef, p_value = pearsonr(coffee_df['카페/커피'], coffee_df['총 방문자 수'])\n",
        "\n",
        "print(\"상관계수:\", corr_coef)\n",
        "print(\"p-value:\", p_value)"
      ]
    },
    {
      "cell_type": "code",
      "execution_count": null,
      "id": "8f937d02",
      "metadata": {
        "id": "8f937d02"
      },
      "outputs": [],
      "source": [
        "# 가설 검정 수행\n",
        "if p_value < 0.05:\n",
        "    print(\"귀무가설(H0)을 기각. 관광지의 '카페/커피' 유무는 '총 방문자 수'와 상관관계가 있다.\")\n",
        "else:\n",
        "    print(\"귀무가설(H0)을 채택. 관광지의 '카페/커피' 유무는 '총 방문자 수'와 상관관계가 없다.\")"
      ]
    },
    {
      "cell_type": "markdown",
      "id": "d658b933",
      "metadata": {
        "id": "d658b933"
      },
      "source": [
        "#### ② t-검정 (t-test)\n",
        "- H0 : '휴게/쉼터 있는 관광지'와 '휴게/쉼터 없는 관광지'의 평균은 같다. (= 유의미한 차이가 없다.)\n",
        "- H1 : '휴게/쉼터 있는 관광지'와 '휴게/쉼터 없는 관광지'의 평균은 다르다. (= 유의미한 차이가 있다.)"
      ]
    },
    {
      "cell_type": "code",
      "execution_count": null,
      "id": "efbeff87",
      "metadata": {
        "id": "efbeff87"
      },
      "outputs": [],
      "source": [
        "has_coffee_df = AB_merged_df[AB_merged_df['카페/커피'] == 1]\n",
        "no_coffee_df = AB_merged_df[AB_merged_df['카페/커피'] == 0]"
      ]
    },
    {
      "cell_type": "code",
      "execution_count": null,
      "id": "9c813df2",
      "metadata": {
        "scrolled": false,
        "id": "9c813df2"
      },
      "outputs": [],
      "source": [
        "# 각 그룹의 '총 방문자 수' 분포 확인\n",
        "print(\"카페/커피 있는 관광지:\")\n",
        "print(has_coffee_df['총 방문자 수'].describe())\n",
        "\n",
        "print(\"\\n카페/커피 없는 관광지:\")\n",
        "print(no_coffee_df['총 방문자 수'].describe())"
      ]
    },
    {
      "cell_type": "code",
      "execution_count": null,
      "id": "be643a00",
      "metadata": {
        "id": "be643a00"
      },
      "outputs": [],
      "source": [
        "# '총 방문자 수' 로그 변환\n",
        "has_coffee_df['log_총 방문자 수'] = has_coffee_df['총 방문자 수'].apply(lambda x: 0 if x == 0 else np.log(x + 1))\n",
        "no_coffee_df['log_총 방문자 수'] = no_coffee_df['총 방문자 수'].apply(lambda x: 0 if x == 0 else np.log(x + 1))\n",
        "\n",
        "# Box Plot 그리기\n",
        "plt.figure(figsize=(8, 6))\n",
        "plt.boxplot([has_coffee_df['log_총 방문자 수'], no_coffee_df['log_총 방문자 수']], labels=['카페/커피 있는 관광지','카페/커피 없는 관광지'])\n",
        "plt.ylabel('총 방문자 수')\n",
        "plt.title(\"'총 방문자 수' 분포 비교\")\n",
        "plt.grid(True)\n",
        "plt.show()"
      ]
    },
    {
      "cell_type": "code",
      "execution_count": null,
      "id": "a30510be",
      "metadata": {
        "id": "a30510be"
      },
      "outputs": [],
      "source": [
        "# t-검정 전에 표본 수 확인\n",
        "print(f'카페/커피 있는 관광지 개수 : {len(has_coffee_df)}')\n",
        "print(f'카페/커피 없는 관광지 개수 : {len(no_coffee_df)}')"
      ]
    },
    {
      "cell_type": "code",
      "execution_count": null,
      "id": "37286b8c",
      "metadata": {
        "id": "37286b8c"
      },
      "outputs": [],
      "source": [
        "# 등분산 검정 (Levene's test)\n",
        "statistic, p_value = stats.levene(has_coffee_df['총 방문자 수'], no_coffee_df['총 방문자 수'])\n",
        "\n",
        "if p_value < 0.05:\n",
        "    print(\"두 집단은 이분산 가정을 만족한다.\")\n",
        "    t_statistic, p_value = stats.ttest_ind(has_coffee_df['총 방문자 수'], no_coffee_df['총 방문자 수'], equal_var=False)\n",
        "else:\n",
        "    print(\"두 집단은 등분산 가정을 만족한다.\")\n",
        "    t_statistic, p_value = stats.ttest_ind(has_coffee_df['총 방문자 수'], no_coffee_df['총 방문자 수'], equal_var=True)"
      ]
    },
    {
      "cell_type": "code",
      "execution_count": null,
      "id": "42d4c065",
      "metadata": {
        "id": "42d4c065"
      },
      "outputs": [],
      "source": [
        "# 독립표본 t-검정 수행\n",
        "t_statistic, p_value = ttest_ind(has_coffee_df['총 방문자 수'], no_coffee_df['총 방문자 수'])\n",
        "\n",
        "print(\"\\n독립표본 t-검정 결과:\")\n",
        "print(\"t-통계량:\", t_statistic)\n",
        "print(\"p-value:\", p_value)"
      ]
    },
    {
      "cell_type": "code",
      "execution_count": null,
      "id": "8953701d",
      "metadata": {
        "scrolled": true,
        "id": "8953701d"
      },
      "outputs": [],
      "source": [
        "# 가설 검정 수행\n",
        "if p_value < 0.05:\n",
        "    print(\"\\n'카페/커피 있는 관광지'와 '카페/커피 없는 관광지'의 '총 방문자 수'는 유의미한 차이가 있다.\")\n",
        "else:\n",
        "    print(\"\\n'카페/커피 있는 관광지'와 '카페/커피 없는 관광지'의 '총 방문자 수'는 유의미한 차이가 없다.\")"
      ]
    },
    {
      "cell_type": "markdown",
      "id": "8cc243e4",
      "metadata": {
        "id": "8cc243e4"
      },
      "source": [
        "#### ③ Mann-Whitney U검정\n",
        "- H0 : '카페/커피 있는 관광지'와 '카페/커피 없는 관광지'의 '총 방문자 수'는 유의미한 차이가 없다.\n",
        "- H1 : '카페/커피 있는 관광지'와 '카페/커피 없는 관광지'의 '총 방문자 수'는 유의미한 차이가 있다."
      ]
    },
    {
      "cell_type": "code",
      "execution_count": null,
      "id": "b753d0c3",
      "metadata": {
        "id": "b753d0c3"
      },
      "outputs": [],
      "source": [
        "from scipy.stats import mannwhitneyu"
      ]
    },
    {
      "cell_type": "code",
      "execution_count": null,
      "id": "4bb8fb4d",
      "metadata": {
        "id": "4bb8fb4d"
      },
      "outputs": [],
      "source": [
        "statistic, p_value = mannwhitneyu(has_coffee_df['총 방문자 수'], no_coffee_df['총 방문자 수'])\n",
        "\n",
        "print(\"검정 통계량:\", statistic)\n",
        "print(\"p-value:\", p_value)\n",
        "\n",
        "if p_value < 0.05:\n",
        "    print(\"\\n 두 집단의 중앙값은 유의미하게 다르다.\")\n",
        "else:\n",
        "    print(\"\\n 두 집단의 중앙값은 유의미하게 다르지 않다.\")"
      ]
    },
    {
      "cell_type": "markdown",
      "id": "b324b3b5",
      "metadata": {
        "id": "b324b3b5"
      },
      "source": [
        "### (11) '숙박시설정보' 가설"
      ]
    },
    {
      "cell_type": "markdown",
      "id": "ce5988ab",
      "metadata": {
        "id": "ce5988ab"
      },
      "source": [
        "#### ① 피어슨 상관계수 (Pearson correlation)\n",
        "- H0 : 관광지의 '숙박시설정보' 유무는 '총 방문자 수'와 상관관계가 없다.\n",
        "- H1 : 관광지의 '숙박시설정보' 유무는 '총 방문자 수'와 상관관계가 있다."
      ]
    },
    {
      "cell_type": "code",
      "execution_count": null,
      "id": "cb6db2b6",
      "metadata": {
        "id": "cb6db2b6"
      },
      "outputs": [],
      "source": [
        "selected_cols = ['숙박시설정보', '총 방문자 수']\n",
        "sleep_df = AB_merged_df[selected_cols]"
      ]
    },
    {
      "cell_type": "code",
      "execution_count": null,
      "id": "4c695c9c",
      "metadata": {
        "id": "4c695c9c"
      },
      "outputs": [],
      "source": [
        "# 상관계수 & p-value 계산\n",
        "corr_coef, p_value = pearsonr(sleep_df['숙박시설정보'], sleep_df['총 방문자 수'])\n",
        "\n",
        "print(\"상관계수:\", corr_coef)\n",
        "print(\"p-value:\", p_value)"
      ]
    },
    {
      "cell_type": "code",
      "execution_count": null,
      "id": "6aae1b54",
      "metadata": {
        "id": "6aae1b54"
      },
      "outputs": [],
      "source": [
        "# 가설 검정 수행\n",
        "if p_value < 0.05:\n",
        "    print(\"귀무가설(H0)을 기각. 관광지의 '숙박시설정보' 유무는 '총 방문자 수'와 상관관계가 있다.\")\n",
        "else:\n",
        "    print(\"귀무가설(H0)을 채택. 관광지의 '숙박시설정보' 유무는 '총 방문자 수'와 상관관계가 없다.\")"
      ]
    },
    {
      "cell_type": "markdown",
      "id": "3893f392",
      "metadata": {
        "id": "3893f392"
      },
      "source": [
        "#### ② t-검정 (t-test)\n",
        "- H0 : '숙박시설정보 있는 관광지'와 '숙박시설정보 없는 관광지'의 평균은 같다. (= 유의미한 차이가 없다.)\n",
        "- H1 : '숙박시설정보 있는 관광지'와 '숙박시설정보 없는 관광지'의 평균은 다르다. (= 유의미한 차이가 있다.)"
      ]
    },
    {
      "cell_type": "code",
      "execution_count": null,
      "id": "9c78edbd",
      "metadata": {
        "id": "9c78edbd"
      },
      "outputs": [],
      "source": [
        "has_sleep_df = AB_merged_df[AB_merged_df['숙박시설정보'] == 1]\n",
        "no_sleep_df = AB_merged_df[AB_merged_df['숙박시설정보'] == 0]"
      ]
    },
    {
      "cell_type": "code",
      "execution_count": null,
      "id": "1f7aeb3f",
      "metadata": {
        "scrolled": false,
        "id": "1f7aeb3f"
      },
      "outputs": [],
      "source": [
        "# 각 그룹의 '총 방문자 수' 분포 확인\n",
        "print(\"숙박시설정보 있는 관광지:\")\n",
        "print(has_sleep_df['총 방문자 수'].describe())\n",
        "\n",
        "print(\"\\n숙박시설정보 없는 관광지:\")\n",
        "print(no_sleep_df['총 방문자 수'].describe())"
      ]
    },
    {
      "cell_type": "code",
      "execution_count": null,
      "id": "6c32c87f",
      "metadata": {
        "id": "6c32c87f"
      },
      "outputs": [],
      "source": [
        "# '총 방문자 수' 로그 변환\n",
        "has_sleep_df['log_총 방문자 수'] = has_sleep_df['총 방문자 수'].apply(lambda x: 0 if x == 0 else np.log(x + 1))\n",
        "no_sleep_df['log_총 방문자 수'] = no_sleep_df['총 방문자 수'].apply(lambda x: 0 if x == 0 else np.log(x + 1))\n",
        "\n",
        "# Box Plot 그리기\n",
        "plt.figure(figsize=(8, 6))\n",
        "plt.boxplot([has_sleep_df['log_총 방문자 수'], no_sleep_df['log_총 방문자 수']], labels=['숙박시설정보 있는 관광지','숙박시설정보 없는 관광지'])\n",
        "plt.ylabel('총 방문자 수')\n",
        "plt.title(\"'총 방문자 수' 분포 비교\")\n",
        "plt.grid(True)\n",
        "plt.show()"
      ]
    },
    {
      "cell_type": "code",
      "execution_count": null,
      "id": "77bee9d4",
      "metadata": {
        "id": "77bee9d4"
      },
      "outputs": [],
      "source": [
        "# t-검정 전에 표본 수 확인\n",
        "print(f'숙박시설정보 있는 관광지 개수 : {len(has_sleep_df)}')\n",
        "print(f'숙박시설정보 없는 관광지 개수 : {len(no_sleep_df)}')"
      ]
    },
    {
      "cell_type": "code",
      "execution_count": null,
      "id": "4edcebbf",
      "metadata": {
        "id": "4edcebbf"
      },
      "outputs": [],
      "source": [
        "# 등분산 검정 (Levene's test)\n",
        "statistic, p_value = stats.levene(has_sleep_df['총 방문자 수'], no_sleep_df['총 방문자 수'])\n",
        "\n",
        "if p_value < 0.05:\n",
        "    print(\"두 집단은 이분산 가정을 만족한다.\")\n",
        "    t_statistic, p_value = stats.ttest_ind(has_sleep_df['총 방문자 수'], no_sleep_df['총 방문자 수'], equal_var=False)\n",
        "else:\n",
        "    print(\"두 집단은 등분산 가정을 만족한다.\")\n",
        "    t_statistic, p_value = stats.ttest_ind(has_sleep_df['총 방문자 수'], no_sleep_df['총 방문자 수'], equal_var=True)"
      ]
    },
    {
      "cell_type": "code",
      "execution_count": null,
      "id": "5ffc7713",
      "metadata": {
        "id": "5ffc7713"
      },
      "outputs": [],
      "source": [
        "# 독립표본 t-검정 수행\n",
        "t_statistic, p_value = ttest_ind(has_sleep_df['총 방문자 수'], no_sleep_df['총 방문자 수'])\n",
        "\n",
        "print(\"\\n독립표본 t-검정 결과:\")\n",
        "print(\"t-통계량:\", t_statistic)\n",
        "print(\"p-value:\", p_value)"
      ]
    },
    {
      "cell_type": "code",
      "execution_count": null,
      "id": "050ca4d9",
      "metadata": {
        "scrolled": true,
        "id": "050ca4d9"
      },
      "outputs": [],
      "source": [
        "# 가설 검정 수행\n",
        "if p_value < 0.05:\n",
        "    print(\"\\n'숙박시설정보 있는 관광지'와 '숙박시설정보 없는 관광지'의 '총 방문자 수'는 유의미한 차이가 있다.\")\n",
        "else:\n",
        "    print(\"\\n'숙박시설정보 있는 관광지'와 '숙박시설정보 없는 관광지'의 '총 방문자 수'는 유의미한 차이가 없다.\")"
      ]
    },
    {
      "cell_type": "markdown",
      "id": "49c27cda",
      "metadata": {
        "id": "49c27cda"
      },
      "source": [
        "### (12) '운동및오락시설정보' 가설"
      ]
    },
    {
      "cell_type": "markdown",
      "id": "b79ef6f0",
      "metadata": {
        "id": "b79ef6f0"
      },
      "source": [
        "#### ① 피어슨 상관계수 (Pearson correlation)\n",
        "- H0 : 관광지의 '운동및오락시설정보' 유무는 '총 방문자 수'와 상관관계가 없다.\n",
        "- H1 : 관광지의 '운동및오락시설정보' 유무는 '총 방문자 수'와 상관관계가 있다."
      ]
    },
    {
      "cell_type": "code",
      "execution_count": null,
      "id": "f10f123b",
      "metadata": {
        "id": "f10f123b"
      },
      "outputs": [],
      "source": [
        "selected_cols = ['운동및오락시설정보', '총 방문자 수']\n",
        "entertain_df = AB_merged_df[selected_cols]"
      ]
    },
    {
      "cell_type": "code",
      "execution_count": null,
      "id": "caf6bbb9",
      "metadata": {
        "id": "caf6bbb9"
      },
      "outputs": [],
      "source": [
        "# 상관계수 & p-value 계산\n",
        "corr_coef, p_value = pearsonr(entertain_df['운동및오락시설정보'], entertain_df['총 방문자 수'])\n",
        "\n",
        "print(\"상관계수:\", corr_coef)\n",
        "print(\"p-value:\", p_value)"
      ]
    },
    {
      "cell_type": "code",
      "execution_count": null,
      "id": "4a61ebc8",
      "metadata": {
        "id": "4a61ebc8"
      },
      "outputs": [],
      "source": [
        "# 가설 검정 수행\n",
        "if p_value < 0.05:\n",
        "    print(\"귀무가설(H0)을 기각. 관광지의 '운동및오락시설정보' 유무는 '총 방문자 수'와 상관관계가 있다.\")\n",
        "else:\n",
        "    print(\"귀무가설(H0)을 채택. 관광지의 '운동및오락시설정보' 유무는 '총 방문자 수'와 상관관계가 없다.\")"
      ]
    },
    {
      "cell_type": "markdown",
      "id": "93ee5f8e",
      "metadata": {
        "id": "93ee5f8e"
      },
      "source": [
        "#### ② t-검정 (t-test)\n",
        "- H0 : '운동및오락시설정보 있는 관광지'와 '운동및오락시설정보 없는 관광지'의 평균은 같다. (= 유의미한 차이가 없다.)\n",
        "- H1 : '운동및오락시설정보 있는 관광지'와 '운동및오락시설정보 없는 관광지'의 평균은 다르다. (= 유의미한 차이가 있다.)"
      ]
    },
    {
      "cell_type": "code",
      "execution_count": null,
      "id": "02583eac",
      "metadata": {
        "id": "02583eac"
      },
      "outputs": [],
      "source": [
        "has_entertain_df = AB_merged_df[AB_merged_df['운동및오락시설정보'] == 1]\n",
        "no_entertain_df = AB_merged_df[AB_merged_df['운동및오락시설정보'] == 0]"
      ]
    },
    {
      "cell_type": "code",
      "execution_count": null,
      "id": "8f72eaa0",
      "metadata": {
        "scrolled": false,
        "id": "8f72eaa0"
      },
      "outputs": [],
      "source": [
        "# 각 그룹의 '총 방문자 수' 분포 확인\n",
        "print(\"운동및오락시설정보 있는 관광지:\")\n",
        "print(has_entertain_df['총 방문자 수'].describe())\n",
        "\n",
        "print(\"\\n운동및오락시설정보 없는 관광지:\")\n",
        "print(no_entertain_df['총 방문자 수'].describe())"
      ]
    },
    {
      "cell_type": "code",
      "execution_count": null,
      "id": "0c505215",
      "metadata": {
        "id": "0c505215"
      },
      "outputs": [],
      "source": [
        "# '총 방문자 수' 로그 변환\n",
        "has_entertain_df['log_총 방문자 수'] = has_entertain_df['총 방문자 수'].apply(lambda x: 0 if x == 0 else np.log(x + 1))\n",
        "no_entertain_df['log_총 방문자 수'] = no_entertain_df['총 방문자 수'].apply(lambda x: 0 if x == 0 else np.log(x + 1))\n",
        "\n",
        "# Box Plot 그리기\n",
        "plt.figure(figsize=(8, 6))\n",
        "plt.boxplot([has_entertain_df['log_총 방문자 수'], no_entertain_df['log_총 방문자 수']], labels=['운동및오락시설정보 있는 관광지','운동및오락시설정보 없는 관광지'])\n",
        "plt.ylabel('총 방문자 수')\n",
        "plt.title(\"'총 방문자 수' 분포 비교\")\n",
        "plt.grid(True)\n",
        "plt.show()"
      ]
    },
    {
      "cell_type": "code",
      "execution_count": null,
      "id": "97a1fc95",
      "metadata": {
        "id": "97a1fc95"
      },
      "outputs": [],
      "source": [
        "# t-검정 전에 표본 수 확인\n",
        "print(f'운동및오락시설정보 있는 관광지 개수 : {len(has_entertain_df)}')\n",
        "print(f'운동및오락시설정보 없는 관광지 개수 : {len(no_entertain_df)}')"
      ]
    },
    {
      "cell_type": "code",
      "execution_count": null,
      "id": "d9370e77",
      "metadata": {
        "id": "d9370e77"
      },
      "outputs": [],
      "source": [
        "# 등분산 검정 (Levene's test)\n",
        "statistic, p_value = stats.levene(has_entertain_df['총 방문자 수'], no_entertain_df['총 방문자 수'])\n",
        "\n",
        "if p_value < 0.05:\n",
        "    print(\"두 집단은 이분산 가정을 만족한다.\")\n",
        "    t_statistic, p_value = stats.ttest_ind(has_entertain_df['총 방문자 수'], no_entertain_df['총 방문자 수'], equal_var=False)\n",
        "else:\n",
        "    print(\"두 집단은 등분산 가정을 만족한다.\")\n",
        "    t_statistic, p_value = stats.ttest_ind(has_entertain_df['총 방문자 수'], no_entertain_df['총 방문자 수'], equal_var=True)"
      ]
    },
    {
      "cell_type": "code",
      "execution_count": null,
      "id": "55e01c65",
      "metadata": {
        "id": "55e01c65"
      },
      "outputs": [],
      "source": [
        "# 독립표본 t-검정 수행\n",
        "t_statistic, p_value = ttest_ind(has_entertain_df['총 방문자 수'], no_entertain_df['총 방문자 수'])\n",
        "\n",
        "print(\"\\n독립표본 t-검정 결과:\")\n",
        "print(\"t-통계량:\", t_statistic)\n",
        "print(\"p-value:\", p_value)"
      ]
    },
    {
      "cell_type": "code",
      "execution_count": null,
      "id": "1d805af4",
      "metadata": {
        "scrolled": true,
        "id": "1d805af4"
      },
      "outputs": [],
      "source": [
        "# 가설 검정 수행\n",
        "if p_value < 0.05:\n",
        "    print(\"\\n'운동및오락시설정보 있는 관광지'와 '운동및오락시설정보 없는 관광지'의 '총 방문자 수'는 유의미한 차이가 있다.\")\n",
        "else:\n",
        "    print(\"\\n'운동및오락시설정보 있는 관광지'와 '운동및오락시설정보 없는 관광지'의 '총 방문자 수'는 유의미한 차이가 없다.\")"
      ]
    },
    {
      "cell_type": "markdown",
      "id": "b9d53a60",
      "metadata": {
        "id": "b9d53a60"
      },
      "source": [
        "### (13) '휴양및문화시설정보' 가설"
      ]
    },
    {
      "cell_type": "markdown",
      "id": "506c5f9f",
      "metadata": {
        "id": "506c5f9f"
      },
      "source": [
        "#### ① 피어슨 상관계수 (Pearson correlation)\n",
        "- H0 : 관광지의 '휴양및문화시설정보' 유무는 '총 방문자 수'와 상관관계가 없다.\n",
        "- H1 : 관광지의 '휴양및문화시설정보' 유무는 '총 방문자 수'와 상관관계가 있다."
      ]
    },
    {
      "cell_type": "code",
      "execution_count": null,
      "id": "a24d3421",
      "metadata": {
        "id": "a24d3421"
      },
      "outputs": [],
      "source": [
        "selected_cols = ['휴양및문화시설정보', '총 방문자 수']\n",
        "culture_df = AB_merged_df[selected_cols]"
      ]
    },
    {
      "cell_type": "code",
      "execution_count": null,
      "id": "de638219",
      "metadata": {
        "id": "de638219"
      },
      "outputs": [],
      "source": [
        "# 상관계수 & p-value 계산\n",
        "corr_coef, p_value = pearsonr(culture_df['휴양및문화시설정보'], culture_df['총 방문자 수'])\n",
        "\n",
        "print(\"상관계수:\", corr_coef)\n",
        "print(\"p-value:\", p_value)"
      ]
    },
    {
      "cell_type": "code",
      "execution_count": null,
      "id": "bac1b0a6",
      "metadata": {
        "id": "bac1b0a6"
      },
      "outputs": [],
      "source": [
        "# 가설 검정 수행\n",
        "if p_value < 0.05:\n",
        "    print(\"귀무가설(H0)을 기각. 관광지의 '휴양및문화시설정보' 유무는 '총 방문자 수'와 상관관계가 있다.\")\n",
        "else:\n",
        "    print(\"귀무가설(H0)을 채택. 관광지의 '휴양및문화시설정보' 유무는 '총 방문자 수'와 상관관계가 없다.\")"
      ]
    },
    {
      "cell_type": "markdown",
      "id": "497c52da",
      "metadata": {
        "id": "497c52da"
      },
      "source": [
        "#### ② t-검정 (t-test)\n",
        "- H0 : '휴양및문화시설정보 있는 관광지'와 '휴양및문화시설정보 없는 관광지'의 평균은 같다. (= 유의미한 차이가 없다.)\n",
        "- H1 : '휴양및문화시설정보 있는 관광지'와 '휴양및문화시설정보 없는 관광지'의 평균은 다르다. (= 유의미한 차이가 있다.)"
      ]
    },
    {
      "cell_type": "code",
      "execution_count": null,
      "id": "828520bd",
      "metadata": {
        "id": "828520bd"
      },
      "outputs": [],
      "source": [
        "has_culture_df = AB_merged_df[AB_merged_df['휴양및문화시설정보'] == 1]\n",
        "no_culture_df = AB_merged_df[AB_merged_df['휴양및문화시설정보'] == 0]"
      ]
    },
    {
      "cell_type": "code",
      "execution_count": null,
      "id": "5c121e42",
      "metadata": {
        "scrolled": false,
        "id": "5c121e42"
      },
      "outputs": [],
      "source": [
        "# 각 그룹의 '총 방문자 수' 분포 확인\n",
        "print(\"휴양및문화시설정보 있는 관광지:\")\n",
        "print(has_culture_df['총 방문자 수'].describe())\n",
        "\n",
        "print(\"\\n휴양및문화시설정보 없는 관광지:\")\n",
        "print(no_culture_df['총 방문자 수'].describe())"
      ]
    },
    {
      "cell_type": "code",
      "execution_count": null,
      "id": "4f03241b",
      "metadata": {
        "id": "4f03241b"
      },
      "outputs": [],
      "source": [
        "# '총 방문자 수' 로그 변환\n",
        "has_culture_df['log_총 방문자 수'] = has_culture_df['총 방문자 수'].apply(lambda x: 0 if x == 0 else np.log(x + 1))\n",
        "no_culture_df['log_총 방문자 수'] = no_culture_df['총 방문자 수'].apply(lambda x: 0 if x == 0 else np.log(x + 1))\n",
        "\n",
        "# Box Plot 그리기\n",
        "plt.figure(figsize=(8, 6))\n",
        "plt.boxplot([has_culture_df['log_총 방문자 수'], no_culture_df['log_총 방문자 수']], labels=['휴양및문화시설정보 있는 관광지','휴양및문화시설정보 없는 관광지'])\n",
        "plt.ylabel('총 방문자 수')\n",
        "plt.title(\"'총 방문자 수' 분포 비교\")\n",
        "plt.grid(True)\n",
        "plt.show()"
      ]
    },
    {
      "cell_type": "code",
      "execution_count": null,
      "id": "b4627c12",
      "metadata": {
        "id": "b4627c12"
      },
      "outputs": [],
      "source": [
        "# t-검정 전에 표본 수 확인\n",
        "print(f'휴양및문화시설정보 있는 관광지 개수 : {len(has_culture_df)}')\n",
        "print(f'휴양및문화시설정보 없는 관광지 개수 : {len(no_culture_df)}')"
      ]
    },
    {
      "cell_type": "code",
      "execution_count": null,
      "id": "46b93498",
      "metadata": {
        "id": "46b93498"
      },
      "outputs": [],
      "source": [
        "# 등분산 검정 (Levene's test)\n",
        "statistic, p_value = stats.levene(has_culture_df['총 방문자 수'], no_culture_df['총 방문자 수'])\n",
        "\n",
        "if p_value < 0.05:\n",
        "    print(\"두 집단은 이분산 가정을 만족한다.\")\n",
        "    t_statistic, p_value = stats.ttest_ind(has_culture_df['총 방문자 수'], no_culture_df['총 방문자 수'], equal_var=False)\n",
        "else:\n",
        "    print(\"두 집단은 등분산 가정을 만족한다.\")\n",
        "    t_statistic, p_value = stats.ttest_ind(has_culture_df['총 방문자 수'], no_culture_df['총 방문자 수'], equal_var=True)"
      ]
    },
    {
      "cell_type": "code",
      "execution_count": null,
      "id": "0d26a62d",
      "metadata": {
        "id": "0d26a62d"
      },
      "outputs": [],
      "source": [
        "# 독립표본 t-검정 수행\n",
        "t_statistic, p_value = ttest_ind(has_culture_df['총 방문자 수'], no_culture_df['총 방문자 수'])\n",
        "\n",
        "print(\"\\n독립표본 t-검정 결과:\")\n",
        "print(\"t-통계량:\", t_statistic)\n",
        "print(\"p-value:\", p_value)"
      ]
    },
    {
      "cell_type": "code",
      "execution_count": null,
      "id": "9f682ca0",
      "metadata": {
        "scrolled": true,
        "id": "9f682ca0"
      },
      "outputs": [],
      "source": [
        "# 가설 검정 수행\n",
        "if p_value < 0.05:\n",
        "    print(\"\\n'휴양및문화시설정보 있는 관광지'와 '휴양및문화시설정보 없는 관광지'의 '총 방문자 수'는 유의미한 차이가 있다.\")\n",
        "else:\n",
        "    print(\"\\n'휴양및문화시설정보 있는 관광지'와 '휴양및문화시설정보 없는 관광지'의 '총 방문자 수'는 유의미한 차이가 없다.\")"
      ]
    },
    {
      "cell_type": "markdown",
      "id": "98604721",
      "metadata": {
        "id": "98604721"
      },
      "source": [
        "### (14) '접객시설정보' 가설"
      ]
    },
    {
      "cell_type": "markdown",
      "id": "1a99cbb7",
      "metadata": {
        "id": "1a99cbb7"
      },
      "source": [
        "#### ① 피어슨 상관계수 (Pearson correlation)\n",
        "- H0 : 관광지의 '접객시설정보' 유무는 '총 방문자 수'와 상관관계가 없다.\n",
        "- H1 : 관광지의 '접객시설정보' 유무는 '총 방문자 수'와 상관관계가 있다."
      ]
    },
    {
      "cell_type": "code",
      "execution_count": null,
      "id": "0107f5fb",
      "metadata": {
        "id": "0107f5fb"
      },
      "outputs": [],
      "source": [
        "selected_cols = ['접객시설정보', '총 방문자 수']\n",
        "hospitality_df = AB_merged_df[selected_cols]"
      ]
    },
    {
      "cell_type": "code",
      "execution_count": null,
      "id": "5bfd94c1",
      "metadata": {
        "id": "5bfd94c1"
      },
      "outputs": [],
      "source": [
        "# 상관계수 & p-value 계산\n",
        "corr_coef, p_value = pearsonr(hospitality_df['접객시설정보'], hospitality_df['총 방문자 수'])\n",
        "\n",
        "print(\"상관계수:\", corr_coef)\n",
        "print(\"p-value:\", p_value)"
      ]
    },
    {
      "cell_type": "code",
      "execution_count": null,
      "id": "1f91ddca",
      "metadata": {
        "id": "1f91ddca"
      },
      "outputs": [],
      "source": [
        "# 가설 검정 수행\n",
        "if p_value < 0.05:\n",
        "    print(\"귀무가설(H0)을 기각. 관광지의 '접객시설정보' 유무는 '총 방문자 수'와 상관관계가 있다.\")\n",
        "else:\n",
        "    print(\"귀무가설(H0)을 채택. 관광지의 '접객시설정보' 유무는 '총 방문자 수'와 상관관계가 없다.\")"
      ]
    },
    {
      "cell_type": "markdown",
      "id": "c85ef926",
      "metadata": {
        "id": "c85ef926"
      },
      "source": [
        "#### ② t-검정 (t-test)\n",
        "- H0 : '접객시설정보 있는 관광지'와 '접객시설정보 없는 관광지'의 평균은 같다. (= 유의미한 차이가 없다.)\n",
        "- H1 : '접객시설정보 있는 관광지'와 '접객시설정보 없는 관광지'의 평균은 다르다. (= 유의미한 차이가 있다.)"
      ]
    },
    {
      "cell_type": "code",
      "execution_count": null,
      "id": "588912ba",
      "metadata": {
        "id": "588912ba"
      },
      "outputs": [],
      "source": [
        "has_hospitality_df = AB_merged_df[AB_merged_df['접객시설정보'] == 1]\n",
        "no_hospitality_df = AB_merged_df[AB_merged_df['접객시설정보'] == 0]"
      ]
    },
    {
      "cell_type": "code",
      "execution_count": null,
      "id": "ff4b73ee",
      "metadata": {
        "scrolled": false,
        "id": "ff4b73ee"
      },
      "outputs": [],
      "source": [
        "# 각 그룹의 '총 방문자 수' 분포 확인\n",
        "print(\"접객시설정보 있는 관광지:\")\n",
        "print(has_hospitality_df['총 방문자 수'].describe())\n",
        "\n",
        "print(\"\\n접객시설정보 없는 관광지:\")\n",
        "print(no_hospitality_df['총 방문자 수'].describe())"
      ]
    },
    {
      "cell_type": "code",
      "execution_count": null,
      "id": "f801d7f2",
      "metadata": {
        "id": "f801d7f2"
      },
      "outputs": [],
      "source": [
        "# '총 방문자 수' 로그 변환\n",
        "has_hospitality_df['log_총 방문자 수'] = has_hospitality_df['총 방문자 수'].apply(lambda x: 0 if x == 0 else np.log(x + 1))\n",
        "no_hospitality_df['log_총 방문자 수'] = no_hospitality_df['총 방문자 수'].apply(lambda x: 0 if x == 0 else np.log(x + 1))\n",
        "\n",
        "# Box Plot 그리기\n",
        "plt.figure(figsize=(8, 6))\n",
        "plt.boxplot([has_hospitality_df['log_총 방문자 수'], no_hospitality_df['log_총 방문자 수']], labels=['접객시설정보 있는 관광지','접객시설정보 없는 관광지'])\n",
        "plt.ylabel('총 방문자 수')\n",
        "plt.title(\"'총 방문자 수' 분포 비교\")\n",
        "plt.grid(True)\n",
        "plt.show()"
      ]
    },
    {
      "cell_type": "code",
      "execution_count": null,
      "id": "0defc316",
      "metadata": {
        "id": "0defc316"
      },
      "outputs": [],
      "source": [
        "# t-검정 전에 표본 수 확인\n",
        "print(f'접객시설정보 있는 관광지 개수 : {len(has_hospitality_df)}')\n",
        "print(f'접객시설정보 없는 관광지 개수 : {len(no_hospitality_df)}')"
      ]
    },
    {
      "cell_type": "code",
      "execution_count": null,
      "id": "36db0a06",
      "metadata": {
        "id": "36db0a06"
      },
      "outputs": [],
      "source": [
        "# 등분산 검정 (Levene's test)\n",
        "statistic, p_value = stats.levene(has_hospitality_df['총 방문자 수'], no_hospitality_df['총 방문자 수'])\n",
        "\n",
        "if p_value < 0.05:\n",
        "    print(\"두 집단은 이분산 가정을 만족한다.\")\n",
        "    t_statistic, p_value = stats.ttest_ind(has_hospitality_df['총 방문자 수'], no_hospitality_df['총 방문자 수'], equal_var=False)\n",
        "else:\n",
        "    print(\"두 집단은 등분산 가정을 만족한다.\")\n",
        "    t_statistic, p_value = stats.ttest_ind(has_hospitality_df['총 방문자 수'], no_hospitality_df['총 방문자 수'], equal_var=True)"
      ]
    },
    {
      "cell_type": "code",
      "execution_count": null,
      "id": "63dba139",
      "metadata": {
        "id": "63dba139"
      },
      "outputs": [],
      "source": [
        "# 독립표본 t-검정 수행\n",
        "t_statistic, p_value = ttest_ind(has_hospitality_df['총 방문자 수'], no_hospitality_df['총 방문자 수'])\n",
        "\n",
        "print(\"\\n독립표본 t-검정 결과:\")\n",
        "print(\"t-통계량:\", t_statistic)\n",
        "print(\"p-value:\", p_value)"
      ]
    },
    {
      "cell_type": "code",
      "execution_count": null,
      "id": "0f103cfc",
      "metadata": {
        "scrolled": true,
        "id": "0f103cfc"
      },
      "outputs": [],
      "source": [
        "# 가설 검정 수행\n",
        "if p_value < 0.05:\n",
        "    print(\"\\n'접객시설정보 있는 관광지'와 '접객시설정보 없는 관광지'의 '총 방문자 수'는 유의미한 차이가 있다.\")\n",
        "else:\n",
        "    print(\"\\n'접객시설정보 있는 관광지'와 '접객시설정보 없는 관광지'의 '총 방문자 수'는 유의미한 차이가 없다.\")"
      ]
    },
    {
      "cell_type": "markdown",
      "id": "d9a0e9c7",
      "metadata": {
        "id": "d9a0e9c7"
      },
      "source": [
        "### (15) '지원시설정보' 가설"
      ]
    },
    {
      "cell_type": "markdown",
      "id": "18905266",
      "metadata": {
        "id": "18905266"
      },
      "source": [
        "#### ① 피어슨 상관계수 (Pearson correlation)\n",
        "- H0 : 관광지의 '지원시설정보' 유무는 '총 방문자 수'와 상관관계가 없다.\n",
        "- H1 : 관광지의 '지원시설정보' 유무는 '총 방문자 수'와 상관관계가 있다."
      ]
    },
    {
      "cell_type": "code",
      "execution_count": null,
      "id": "dd173f80",
      "metadata": {
        "id": "dd173f80"
      },
      "outputs": [],
      "source": [
        "selected_cols = ['지원시설정보', '총 방문자 수']\n",
        "support_df = AB_merged_df[selected_cols]"
      ]
    },
    {
      "cell_type": "code",
      "execution_count": null,
      "id": "1e10a586",
      "metadata": {
        "id": "1e10a586"
      },
      "outputs": [],
      "source": [
        "# 상관계수 & p-value 계산\n",
        "corr_coef, p_value = pearsonr(support_df['지원시설정보'], support_df['총 방문자 수'])\n",
        "\n",
        "print(\"상관계수:\", corr_coef)\n",
        "print(\"p-value:\", p_value)"
      ]
    },
    {
      "cell_type": "code",
      "execution_count": null,
      "id": "6be189f5",
      "metadata": {
        "id": "6be189f5"
      },
      "outputs": [],
      "source": [
        "# 가설 검정 수행\n",
        "if p_value < 0.05:\n",
        "    print(\"귀무가설(H0)을 기각. 관광지의 '지원시설정보' 유무는 '총 방문자 수'와 상관관계가 있다.\")\n",
        "else:\n",
        "    print(\"귀무가설(H0)을 채택. 관광지의 '지원시설정보' 유무는 '총 방문자 수'와 상관관계가 없다.\")"
      ]
    },
    {
      "cell_type": "markdown",
      "id": "2c31315e",
      "metadata": {
        "id": "2c31315e"
      },
      "source": [
        "#### ② t-검정 (t-test)\n",
        "- H0 : '지원시설정보 있는 관광지'와 '지원시설정보 없는 관광지'의 평균은 같다. (= 유의미한 차이가 없다.)\n",
        "- H1 : '지원시설정보 있는 관광지'와 '지원시설정보 없는 관광지'의 평균은 다르다. (= 유의미한 차이가 있다.)"
      ]
    },
    {
      "cell_type": "code",
      "execution_count": null,
      "id": "c158f9fb",
      "metadata": {
        "id": "c158f9fb"
      },
      "outputs": [],
      "source": [
        "has_support_df = AB_merged_df[AB_merged_df['지원시설정보'] == 1]\n",
        "no_support_df = AB_merged_df[AB_merged_df['지원시설정보'] == 0]"
      ]
    },
    {
      "cell_type": "code",
      "execution_count": null,
      "id": "107b3655",
      "metadata": {
        "scrolled": false,
        "id": "107b3655"
      },
      "outputs": [],
      "source": [
        "# 각 그룹의 '총 방문자 수' 분포 확인\n",
        "print(\"지원시설정보 있는 관광지:\")\n",
        "print(has_support_df['총 방문자 수'].describe())\n",
        "\n",
        "print(\"\\n지원시설정보 없는 관광지:\")\n",
        "print(no_support_df['총 방문자 수'].describe())"
      ]
    },
    {
      "cell_type": "code",
      "execution_count": null,
      "id": "949089de",
      "metadata": {
        "id": "949089de"
      },
      "outputs": [],
      "source": [
        "# '총 방문자 수' 로그 변환\n",
        "has_support_df['log_총 방문자 수'] = has_support_df['총 방문자 수'].apply(lambda x: 0 if x == 0 else np.log(x + 1))\n",
        "no_support_df['log_총 방문자 수'] = no_support_df['총 방문자 수'].apply(lambda x: 0 if x == 0 else np.log(x + 1))\n",
        "\n",
        "# Box Plot 그리기\n",
        "plt.figure(figsize=(8, 6))\n",
        "plt.boxplot([has_support_df['log_총 방문자 수'], no_support_df['log_총 방문자 수']], labels=['지원시설정보 있는 관광지','지원시설정보 없는 관광지'])\n",
        "plt.ylabel('총 방문자 수')\n",
        "plt.title(\"'총 방문자 수' 분포 비교\")\n",
        "plt.grid(True)\n",
        "plt.show()"
      ]
    },
    {
      "cell_type": "code",
      "execution_count": null,
      "id": "808a5510",
      "metadata": {
        "id": "808a5510"
      },
      "outputs": [],
      "source": [
        "# t-검정 전에 표본 수 확인\n",
        "print(f'지원시설정보 있는 관광지 개수 : {len(has_support_df)}')\n",
        "print(f'지원시설정보 없는 관광지 개수 : {len(no_support_df)}')"
      ]
    },
    {
      "cell_type": "code",
      "execution_count": null,
      "id": "196eb1ff",
      "metadata": {
        "id": "196eb1ff"
      },
      "outputs": [],
      "source": [
        "# 등분산 검정 (Levene's test)\n",
        "statistic, p_value = stats.levene(has_support_df['총 방문자 수'], no_support_df['총 방문자 수'])\n",
        "\n",
        "if p_value < 0.05:\n",
        "    print(\"두 집단은 이분산 가정을 만족한다.\")\n",
        "    t_statistic, p_value = stats.ttest_ind(has_support_df['총 방문자 수'], no_support_df['총 방문자 수'], equal_var=False)\n",
        "else:\n",
        "    print(\"두 집단은 등분산 가정을 만족한다.\")\n",
        "    t_statistic, p_value = stats.ttest_ind(has_support_df['총 방문자 수'], no_support_df['총 방문자 수'], equal_var=True)"
      ]
    },
    {
      "cell_type": "code",
      "execution_count": null,
      "id": "4ac7cb4e",
      "metadata": {
        "id": "4ac7cb4e"
      },
      "outputs": [],
      "source": [
        "# 독립표본 t-검정 수행\n",
        "t_statistic, p_value = ttest_ind(has_support_df['총 방문자 수'], no_support_df['총 방문자 수'])\n",
        "\n",
        "print(\"\\n독립표본 t-검정 결과:\")\n",
        "print(\"t-통계량:\", t_statistic)\n",
        "print(\"p-value:\", p_value)"
      ]
    },
    {
      "cell_type": "code",
      "execution_count": null,
      "id": "48569ebf",
      "metadata": {
        "scrolled": true,
        "id": "48569ebf"
      },
      "outputs": [],
      "source": [
        "# 가설 검정 수행\n",
        "if p_value < 0.05:\n",
        "    print(\"\\n'지원시설정보 있는 관광지'와 '지원시설정보 없는 관광지'의 '총 방문자 수'는 유의미한 차이가 있다.\")\n",
        "else:\n",
        "    print(\"\\n'지원시설정보 있는 관광지'와 '지원시설정보 없는 관광지'의 '총 방문자 수'는 유의미한 차이가 없다.\")"
      ]
    },
    {
      "cell_type": "markdown",
      "id": "94d74c96",
      "metadata": {
        "id": "94d74c96"
      },
      "source": [
        "### ※ 15개 요소들 가설 검정 결과 (요약)\n",
        "\n",
        "- '화장실’ (표본수 충분/등분산/유의미한 차이 X)\n",
        "- '주차장’ (표본수 충분/등분산/유의미한 차이 X)\n",
        "- '관리사무소’ (표본수 충분/등분산/유의미한 차이 X)\n",
        "- ***'안내소' (표본수 충분/이분산/유의미한 차이 O)***\n",
        "- '샤워장’ (표본수 부족/등분산/유의미한 차이 X)\n",
        "- ***'광장' (표본수 부족/이분산/유의미한 차이 O)***\n",
        "- '수유실' (표본수 부족/등분산/유의미한 차이 X)\n",
        "- '휴게/쉼터' (표본수 부족/등분산/유의미한 차이 X)\n",
        "- '공원' (표본수 부족/등분산/유의미한 차이 X)\n",
        "- '카페/커피' (표본수 부족/등분산/유의미한 차이 X)\n",
        "####\n",
        "- '숙박시설정보' (표본수 충분/등분산/유의미한 차이 X)\n",
        "- '운동및오락시설정보' (표본수 충분/등분산/유의미한 차이 X)\n",
        "- '휴양및문화시설정보' (표본수 충분/등분산/유의미한 차이 X)\n",
        "- '접객시설정보' (표본수 충분/등분산/유의미한 차이 X)\n",
        "- '지원시설정보' (표본수 충분/등분산/유의미한 차이 X)"
      ]
    },
    {
      "cell_type": "markdown",
      "id": "6bd88dc9",
      "metadata": {
        "id": "6bd88dc9"
      },
      "source": [
        "## E. Word Cloud 그리기"
      ]
    },
    {
      "cell_type": "code",
      "execution_count": null,
      "id": "cea5f406",
      "metadata": {
        "id": "cea5f406"
      },
      "outputs": [],
      "source": [
        "import re\n",
        "import nltk\n",
        "\n",
        "from konlpy.tag import Okt\n",
        "from collections import Counter\n",
        "from nltk.corpus import stopwords\n",
        "\n",
        "from wordcloud import WordCloud\n",
        "from wordcloud import ImageColorGenerator"
      ]
    },
    {
      "cell_type": "markdown",
      "id": "1d588010",
      "metadata": {
        "id": "1d588010"
      },
      "source": [
        "### E-1. 인기 관광지 소개글 키워드 (CA_merged_df 사용)"
      ]
    },
    {
      "cell_type": "markdown",
      "id": "f63d228a",
      "metadata": {
        "id": "f63d228a"
      },
      "source": [
        "### (0) C. 인기관광지_외지인 데이터 (한국관광데이터랩)"
      ]
    },
    {
      "cell_type": "code",
      "execution_count": null,
      "id": "eecab339",
      "metadata": {
        "scrolled": true,
        "id": "eecab339"
      },
      "outputs": [],
      "source": [
        "# \"인기관광지_외지인.csv\" 불러오기\n",
        "\n",
        "df1 = pd.read_csv('./인기관광지 데이터/[2207-2306] 강원도_인기관광지/인기관광지_외지인.csv', encoding = 'cp949')\n",
        "df2 = pd.read_csv('./인기관광지 데이터/[2207-2306] 경기도_인기관광지/인기관광지_외지인.csv', encoding = 'cp949')\n",
        "df3 = pd.read_csv('./인기관광지 데이터/[2207-2306] 충청남도_인기관광지/인기관광지_외지인.csv', encoding = 'cp949')\n",
        "df4 = pd.read_csv('./인기관광지 데이터/[2207-2306] 충청북도_인기관광지/인기관광지_외지인.csv', encoding = 'cp949')\n",
        "df5 = pd.read_csv('./인기관광지 데이터/[2207-2306] 경상남도_인기관광지/인기관광지_외지인.csv', encoding = 'cp949')\n",
        "df6 = pd.read_csv('./인기관광지 데이터/[2207-2306] 경상북도_인기관광지/인기관광지_외지인.csv', encoding = 'cp949')\n",
        "df7 = pd.read_csv('./인기관광지 데이터/[2207-2306] 전라남도_인기관광지/인기관광지_외지인.csv', encoding = 'cp949')\n",
        "df8 = pd.read_csv('./인기관광지 데이터/[2207-2306] 전라북도_인기관광지/인기관광지_외지인.csv', encoding = 'cp949')\n",
        "df9 = pd.read_csv('./인기관광지 데이터/[2207-2306] 서울특별시_인기관광지/인기관광지_외지인.csv', encoding = 'cp949')\n",
        "df10 = pd.read_csv('./인기관광지 데이터/[2207-2306] 세종특별자치시_인기관광지/인기관광지_외지인.csv', encoding = 'cp949')\n",
        "df11 = pd.read_csv('./인기관광지 데이터/[2207-2306] 대전광역시_인기관광지/인기관광지_외지인.csv', encoding = 'cp949')\n",
        "df12 = pd.read_csv('./인기관광지 데이터/[2207-2306] 대구광역시_인기관광지/인기관광지_외지인.csv', encoding = 'cp949')\n",
        "df13 = pd.read_csv('./인기관광지 데이터/[2207-2306] 울산광역시_인기관광지/인기관광지_외지인.csv', encoding = 'cp949')\n",
        "df14 = pd.read_csv('./인기관광지 데이터/[2207-2306] 인천광역시_인기관광지/인기관광지_외지인.csv', encoding = 'cp949')\n",
        "df15 = pd.read_csv('./인기관광지 데이터/[2207-2306] 광주광역시_인기관광지/인기관광지_외지인.csv', encoding = 'cp949')\n",
        "df16 = pd.read_csv('./인기관광지 데이터/[2207-2306] 부산광역시_인기관광지/인기관광지_외지인.csv', encoding = 'cp949')\n",
        "df17 = pd.read_csv('./인기관광지 데이터/[2207-2306] 제주특별자치도_인기관광지/인기관광지_외지인.csv', encoding = 'cp949')\n",
        "\n",
        "dflist = [df1, df2, df3, df4, df5, df6, df7, df8, df9, df10, df11, df12, df13, df14, df15, df16, df17]\n",
        "result_df = pd.concat(dflist)\n",
        "result_df"
      ]
    },
    {
      "cell_type": "markdown",
      "id": "9b31c3fb",
      "metadata": {
        "id": "9b31c3fb"
      },
      "source": [
        "### (0-0) 데이터 전처리"
      ]
    },
    {
      "cell_type": "markdown",
      "id": "1554eba9",
      "metadata": {
        "id": "1554eba9"
      },
      "source": [
        "#### (0-1) '시도명' & '시군구명' 컬럼으로 변환"
      ]
    },
    {
      "cell_type": "code",
      "execution_count": null,
      "id": "dbc9937d",
      "metadata": {
        "id": "dbc9937d"
      },
      "outputs": [],
      "source": [
        "# '주소' 컬럼 기반으로 시도명'과 '시군구명' 컬럼 생성\n",
        "result_df['시도명'] = result_df['주소'].str.split(' ', n=1).str[0]\n",
        "result_df['시군구명'] = result_df['주소'].str.split(' ', n=1).str[1].str.split(' ').str[0]\n",
        "\n",
        "# 기존의 '주소' 컬럼 삭제\n",
        "result_df.drop(['주소'], axis=1, inplace=True)\n",
        "\n",
        "# '시도명'과 '시군구명' 컬럼을 가장 앞쪽 열로 위치\n",
        "result_df.insert(0, '시군구명', result_df.pop('시군구명'))\n",
        "result_df.insert(0, '시도명', result_df.pop('시도명'))"
      ]
    },
    {
      "cell_type": "code",
      "execution_count": null,
      "id": "f775a5a9",
      "metadata": {
        "id": "f775a5a9"
      },
      "outputs": [],
      "source": [
        "# '시도명'이 '세종시'인 행의 '시군구명'을 → '세종'으로 변경\n",
        "result_df.loc[result_df['시도명'] == '세종시', '시군구명'] = '세종'\n",
        "\n",
        "# result_df[result_df['시도명'].str.contains('세종')]"
      ]
    },
    {
      "cell_type": "markdown",
      "id": "938952c2",
      "metadata": {
        "id": "938952c2"
      },
      "source": [
        "#### (0-2) '시도명' 값 일치시키기"
      ]
    },
    {
      "cell_type": "code",
      "execution_count": null,
      "id": "eb8acf3c",
      "metadata": {
        "id": "eb8acf3c"
      },
      "outputs": [],
      "source": [
        "# whole_tour의 '시도명' 값 확인\n",
        "whole_tour['시도명'].unique()"
      ]
    },
    {
      "cell_type": "code",
      "execution_count": null,
      "id": "28445868",
      "metadata": {
        "id": "28445868"
      },
      "outputs": [],
      "source": [
        "# result_df의 '시도명' 값 확인\n",
        "result_df['시도명'].unique()"
      ]
    },
    {
      "cell_type": "code",
      "execution_count": null,
      "id": "3aaef4fd",
      "metadata": {
        "id": "3aaef4fd"
      },
      "outputs": [],
      "source": [
        "# result_df의 '시도명' 값 변경\n",
        "result_df['시도명'] = result_df['시도명'].replace({'강원':'강원특별자치도', '경기':'경기도', '경남':'경상남도', '경북':'경상북도', '광주':'광주광역시', '대구':'대구광역시',\n",
        "                             '대전':'대전광역시', '부산':'부산광역시', '서울':'서울특별시', '세종시':'세종특별자치시', '울산':'울산광역시', '인천':'인천광역시',\n",
        "                            '전남':'전라남도', '전북':'전라북도', '제주':'제주특별자치도', '충남':'충청남도', '충북':'충청북도'})\n",
        "\n",
        "result_df['시도명'].unique()"
      ]
    },
    {
      "cell_type": "markdown",
      "id": "1dde9361",
      "metadata": {
        "id": "1dde9361"
      },
      "source": [
        "#### (0-3) '순위' 컬럼 삭제"
      ]
    },
    {
      "cell_type": "code",
      "execution_count": null,
      "id": "0d9815d9",
      "metadata": {
        "id": "0d9815d9"
      },
      "outputs": [],
      "source": [
        "result_df = result_df.drop('순위', axis=1)"
      ]
    },
    {
      "cell_type": "markdown",
      "id": "0014de81",
      "metadata": {
        "id": "0014de81"
      },
      "source": [
        "#### ※ 최종 확인"
      ]
    },
    {
      "cell_type": "code",
      "execution_count": null,
      "id": "03fa2ee5",
      "metadata": {
        "id": "03fa2ee5"
      },
      "outputs": [],
      "source": [
        "result_df  # 1700 rows × 5 columns"
      ]
    },
    {
      "cell_type": "markdown",
      "id": "1d23e59b",
      "metadata": {
        "id": "1d23e59b"
      },
      "source": [
        "### (1) \"C.인기관광지_외지인 데이터\"에 \"A. 전국관광지정보표준데이터\"를 병합"
      ]
    },
    {
      "cell_type": "markdown",
      "id": "2cdb06a0",
      "metadata": {
        "id": "2cdb06a0"
      },
      "source": [
        "#### '관광지명', '시도명', '시군구명' 모두 일치하는 행들을 추출하여 병합"
      ]
    },
    {
      "cell_type": "code",
      "execution_count": null,
      "id": "78639beb",
      "metadata": {
        "scrolled": true,
        "id": "78639beb"
      },
      "outputs": [],
      "source": [
        "CA_merged_df = whole_tour.merge(result_df, on=['관광지명', '시도명', '시군구명'], how = 'inner')\n",
        "\n",
        "# '외지인 검색 수'로 내림차순\n",
        "CA_merged_df = CA_merged_df.sort_values(by='외지인 검색 수', ascending=False)\n",
        "\n",
        "CA_merged_df  # 총 63개 관광지"
      ]
    },
    {
      "cell_type": "markdown",
      "id": "95789eb9",
      "metadata": {
        "id": "95789eb9"
      },
      "source": [
        "### (2) Word Cloud 그리기"
      ]
    },
    {
      "cell_type": "code",
      "execution_count": null,
      "id": "71aa07c6",
      "metadata": {
        "id": "71aa07c6"
      },
      "outputs": [],
      "source": [
        "# 텍스트 데이터 지정\n",
        "intro_data = CA_merged_df['관광지소개']"
      ]
    },
    {
      "cell_type": "code",
      "execution_count": null,
      "id": "a24edd45",
      "metadata": {
        "id": "a24edd45"
      },
      "outputs": [],
      "source": [
        "okt = Okt()"
      ]
    },
    {
      "cell_type": "code",
      "execution_count": null,
      "id": "83751193",
      "metadata": {
        "id": "83751193"
      },
      "outputs": [],
      "source": [
        "# 빈 줄 및 공백 제거, 특수문자 제거, 형태소 분석, 불용어 처리 및 한 글자 제거\n",
        "def preprocess_text(text):\n",
        "    text = text.strip()  # 빈 줄 및 공백 제거\n",
        "    text = ''.join(char for char in text if char.isalnum() or char.isspace())  # 특수문자 제거\n",
        "    words = okt.nouns(text)  # 형태소 분석 및 명사 추출\n",
        "    words = [word for word in words if len(word) > 1]  # 한 글자 제거\n",
        "    return ' '.join(words)"
      ]
    },
    {
      "cell_type": "code",
      "execution_count": null,
      "id": "e96981e7",
      "metadata": {
        "id": "e96981e7"
      },
      "outputs": [],
      "source": [
        "# '관광지소개' 컬럼의 텍스트 전처리\n",
        "intro_data_preprocessed = intro_data.apply(preprocess_text)"
      ]
    },
    {
      "cell_type": "code",
      "execution_count": null,
      "id": "6e79ce54",
      "metadata": {
        "id": "6e79ce54"
      },
      "outputs": [],
      "source": [
        "# '관광지소개' 컬럼의 텍스트 전처리 후 텍스트를 단어로 분할하여 리스트로 만듦\n",
        "words_list = intro_data_preprocessed.str.split()\n",
        "\n",
        "# 모든 단어들을 하나의 리스트로 합침\n",
        "all_words = [word for words in words_list for word in words]\n",
        "\n",
        "# 각 단어들의 빈도 계산\n",
        "word_freq = Counter(all_words)\n",
        "\n",
        "# 빈도 분석 (상위 20개 단어)\n",
        "print(word_freq.most_common(20))"
      ]
    },
    {
      "cell_type": "code",
      "execution_count": null,
      "id": "39ce896d",
      "metadata": {
        "id": "39ce896d"
      },
      "outputs": [],
      "source": [
        "# 워드 클라우드를 그리기 위해 텍스트를 하나의 문자열로 합침\n",
        "text_combined = ' '.join(intro_data_preprocessed)"
      ]
    },
    {
      "cell_type": "code",
      "execution_count": null,
      "id": "900795da",
      "metadata": {
        "id": "900795da"
      },
      "outputs": [],
      "source": [
        "# 폰트 경로 설정\n",
        "font_path = r'C:/Windows/Fonts/malgun.ttf'"
      ]
    },
    {
      "cell_type": "code",
      "execution_count": null,
      "id": "30823380",
      "metadata": {
        "id": "30823380"
      },
      "outputs": [],
      "source": [
        "# 워드 클라우드 생성 및 그리기\n",
        "wordcloud = WordCloud(font_path=font_path, background_color='white').generate(text_combined)\n",
        "\n",
        "plt.figure(figsize=(10, 6))\n",
        "plt.imshow(wordcloud, interpolation='bilinear')\n",
        "plt.axis('off')\n",
        "plt.show()"
      ]
    },
    {
      "cell_type": "markdown",
      "id": "41d128f3",
      "metadata": {
        "id": "41d128f3"
      },
      "source": [
        "### E-2. 전체 관광지 소개글 키워드 (whole_tour 사용)"
      ]
    },
    {
      "cell_type": "code",
      "execution_count": null,
      "id": "6242be1a",
      "metadata": {
        "id": "6242be1a"
      },
      "outputs": [],
      "source": [
        "# 텍스트 데이터 지정\n",
        "intro_data = whole_tour['관광지소개']"
      ]
    },
    {
      "cell_type": "code",
      "execution_count": null,
      "id": "c735b4a2",
      "metadata": {
        "id": "c735b4a2"
      },
      "outputs": [],
      "source": [
        "okt = Okt()"
      ]
    },
    {
      "cell_type": "code",
      "execution_count": null,
      "id": "caab14b4",
      "metadata": {
        "id": "caab14b4"
      },
      "outputs": [],
      "source": [
        "# 빈 줄 및 공백 제거, 특수문자 제거, 형태소 분석, 불용어 처리 및 한 글자 제거\n",
        "def preprocess_text(text):\n",
        "    text = text.strip()  # 빈 줄 및 공백 제거\n",
        "    text = ''.join(char for char in text if char.isalnum() or char.isspace())  # 특수문자 제거\n",
        "    words = okt.nouns(text)  # 형태소 분석 및 명사 추출\n",
        "    words = [word for word in words if len(word) > 1]  # 한 글자 제거\n",
        "    return ' '.join(words)"
      ]
    },
    {
      "cell_type": "code",
      "execution_count": null,
      "id": "e9731bb2",
      "metadata": {
        "id": "e9731bb2"
      },
      "outputs": [],
      "source": [
        "# '관광지소개' 컬럼의 텍스트 전처리\n",
        "intro_data_preprocessed = intro_data.apply(preprocess_text)"
      ]
    },
    {
      "cell_type": "code",
      "execution_count": null,
      "id": "c1014abf",
      "metadata": {
        "id": "c1014abf"
      },
      "outputs": [],
      "source": [
        "# '관광지소개' 컬럼의 텍스트 전처리 후 텍스트를 단어로 분할하여 리스트로 만듦\n",
        "words_list = intro_data_preprocessed.str.split()\n",
        "\n",
        "# 모든 단어들을 하나의 리스트로 합침\n",
        "all_words = [word for words in words_list for word in words]\n",
        "\n",
        "# 각 단어들의 빈도를 계산\n",
        "word_freq = Counter(all_words)\n",
        "\n",
        "# 빈도 분석 (상위 20개 단어)\n",
        "print(word_freq.most_common(20))"
      ]
    },
    {
      "cell_type": "code",
      "execution_count": null,
      "id": "51544950",
      "metadata": {
        "id": "51544950"
      },
      "outputs": [],
      "source": [
        "# 워드 클라우드를 그리기 위해 텍스트를 하나의 문자열로 합침\n",
        "text_combined = ' '.join(intro_data_preprocessed)"
      ]
    },
    {
      "cell_type": "code",
      "execution_count": null,
      "id": "75d24792",
      "metadata": {
        "id": "75d24792"
      },
      "outputs": [],
      "source": [
        "# 폰트 경로 설정\n",
        "font_path = r'C:/Windows/Fonts/malgun.ttf'"
      ]
    },
    {
      "cell_type": "code",
      "execution_count": null,
      "id": "a3ba79d0",
      "metadata": {
        "id": "a3ba79d0"
      },
      "outputs": [],
      "source": [
        "# 워드 클라우드 생성 및 그리기\n",
        "wordcloud = WordCloud(font_path=font_path, background_color='white').generate(text_combined)\n",
        "\n",
        "plt.figure(figsize=(10, 6))\n",
        "plt.imshow(wordcloud, interpolation='bilinear')\n",
        "plt.axis('off')\n",
        "plt.show()"
      ]
    },
    {
      "cell_type": "markdown",
      "id": "019efc4a",
      "metadata": {
        "id": "019efc4a"
      },
      "source": [
        "### (c.f.) 관광지 소개글 키워드 (AB_merged_df 사용)"
      ]
    },
    {
      "cell_type": "code",
      "execution_count": null,
      "id": "eed774ce",
      "metadata": {
        "id": "eed774ce"
      },
      "outputs": [],
      "source": [
        "# 텍스트 데이터 지정\n",
        "intro_data = AB_merged_df['관광지소개']"
      ]
    },
    {
      "cell_type": "code",
      "execution_count": null,
      "id": "9ac8deb5",
      "metadata": {
        "id": "9ac8deb5"
      },
      "outputs": [],
      "source": [
        "okt = Okt()"
      ]
    },
    {
      "cell_type": "code",
      "execution_count": null,
      "id": "ea367254",
      "metadata": {
        "id": "ea367254"
      },
      "outputs": [],
      "source": [
        "# 빈 줄 및 공백 제거, 특수문자 제거, 형태소 분석, 불용어 처리 및 한 글자 제거\n",
        "def preprocess_text(text):\n",
        "    text = text.strip()  # 빈 줄 및 공백 제거\n",
        "    text = ''.join(char for char in text if char.isalnum() or char.isspace())  # 특수문자 제거\n",
        "    words = okt.nouns(text)  # 형태소 분석 및 명사 추출\n",
        "    words = [word for word in words if len(word) > 1]  # 한 글자 제거\n",
        "    return ' '.join(words)"
      ]
    },
    {
      "cell_type": "code",
      "execution_count": null,
      "id": "262c1537",
      "metadata": {
        "id": "262c1537"
      },
      "outputs": [],
      "source": [
        "# '관광지소개' 컬럼의 텍스트 전처리\n",
        "intro_data_preprocessed = intro_data.apply(preprocess_text)"
      ]
    },
    {
      "cell_type": "code",
      "execution_count": null,
      "id": "1733e515",
      "metadata": {
        "id": "1733e515"
      },
      "outputs": [],
      "source": [
        "# '관광지소개' 컬럼의 텍스트 전처리 후 텍스트를 단어로 분할하여 리스트로 만듦\n",
        "words_list = intro_data_preprocessed.str.split()\n",
        "\n",
        "# 모든 단어들을 하나의 리스트로 합침\n",
        "all_words = [word for words in words_list for word in words]\n",
        "\n",
        "# 각 단어들의 빈도를 계산\n",
        "word_freq = Counter(all_words)\n",
        "\n",
        "# 빈도 분석 (상위 20개 단어)\n",
        "print(word_freq.most_common(20))"
      ]
    },
    {
      "cell_type": "code",
      "execution_count": null,
      "id": "ff4e2604",
      "metadata": {
        "id": "ff4e2604"
      },
      "outputs": [],
      "source": [
        "# 워드 클라우드를 그리기 위해 텍스트를 하나의 문자열로 합침\n",
        "text_combined = ' '.join(intro_data_preprocessed)"
      ]
    },
    {
      "cell_type": "code",
      "execution_count": null,
      "id": "ace4e7f6",
      "metadata": {
        "id": "ace4e7f6"
      },
      "outputs": [],
      "source": [
        "# 폰트 경로 설정\n",
        "font_path = r'C:/Windows/Fonts/malgun.ttf'"
      ]
    },
    {
      "cell_type": "code",
      "execution_count": null,
      "id": "80761ba8",
      "metadata": {
        "id": "80761ba8"
      },
      "outputs": [],
      "source": [
        "# 워드 클라우드 생성 및 그리기\n",
        "wordcloud = WordCloud(font_path=font_path, background_color='white').generate(text_combined)\n",
        "\n",
        "plt.figure(figsize=(10, 6))\n",
        "plt.imshow(wordcloud, interpolation='bilinear')\n",
        "plt.axis('off')\n",
        "plt.show()"
      ]
    },
    {
      "cell_type": "code",
      "execution_count": null,
      "id": "c5d88323",
      "metadata": {
        "id": "c5d88323"
      },
      "outputs": [],
      "source": []
    },
    {
      "cell_type": "markdown",
      "source": [
        "# 관광지 유형에 따른 외지인 검색량 차이"
      ],
      "metadata": {
        "id": "Q32wEZOJf4aP"
      },
      "id": "Q32wEZOJf4aP"
    },
    {
      "cell_type": "markdown",
      "metadata": {
        "id": "OqUxUPurf13g"
      },
      "source": [
        "## 한글 폰트 설정"
      ],
      "id": "OqUxUPurf13g"
    },
    {
      "cell_type": "code",
      "execution_count": null,
      "metadata": {
        "scrolled": false,
        "id": "dC9S2mSaf132"
      },
      "outputs": [],
      "source": [
        "# 한글 폰트 설정\n",
        "plt.rcParams['font.family'] = 'NanumGothic'  # 사용할 폰트 설정\n",
        "\n",
        "# 기본적인 폰트 설정(옵션)\n",
        "plt.rcParams['font.size'] = 12            # 기본 폰트 크기\n",
        "plt.rcParams['axes.unicode_minus'] = False  # 마이너스 기호 깨짐 방지"
      ],
      "id": "dC9S2mSaf132"
    },
    {
      "cell_type": "markdown",
      "metadata": {
        "id": "325a1178"
      },
      "source": [
        "## 1. 데이터 전처리"
      ],
      "id": "325a1178"
    },
    {
      "cell_type": "markdown",
      "metadata": {
        "id": "6321b75b"
      },
      "source": [
        "## 1-1) 인구수 Data"
      ],
      "id": "6321b75b"
    },
    {
      "cell_type": "code",
      "execution_count": null,
      "metadata": {
        "scrolled": true,
        "id": "e7ae103e",
        "outputId": "91f6f342-edfc-4633-e897-4035312d33c2"
      },
      "outputs": [
        {
          "data": {
            "text/html": [
              "<div>\n",
              "<style scoped>\n",
              "    .dataframe tbody tr th:only-of-type {\n",
              "        vertical-align: middle;\n",
              "    }\n",
              "\n",
              "    .dataframe tbody tr th {\n",
              "        vertical-align: top;\n",
              "    }\n",
              "\n",
              "    .dataframe thead th {\n",
              "        text-align: right;\n",
              "    }\n",
              "</style>\n",
              "<table border=\"1\" class=\"dataframe\">\n",
              "  <thead>\n",
              "    <tr style=\"text-align: right;\">\n",
              "      <th></th>\n",
              "      <th>기준연월</th>\n",
              "      <th>시도명</th>\n",
              "      <th>시군구명</th>\n",
              "      <th>읍면동명</th>\n",
              "      <th>리명</th>\n",
              "      <th>계</th>\n",
              "      <th>남자</th>\n",
              "      <th>여자</th>\n",
              "    </tr>\n",
              "  </thead>\n",
              "  <tbody>\n",
              "    <tr>\n",
              "      <th>0</th>\n",
              "      <td>2023-06-30</td>\n",
              "      <td>서울특별시</td>\n",
              "      <td>종로구</td>\n",
              "      <td>청운동</td>\n",
              "      <td>청운동</td>\n",
              "      <td>2343</td>\n",
              "      <td>1166</td>\n",
              "      <td>1177</td>\n",
              "    </tr>\n",
              "    <tr>\n",
              "      <th>1</th>\n",
              "      <td>2023-06-30</td>\n",
              "      <td>서울특별시</td>\n",
              "      <td>종로구</td>\n",
              "      <td>신교동</td>\n",
              "      <td>신교동</td>\n",
              "      <td>1347</td>\n",
              "      <td>603</td>\n",
              "      <td>744</td>\n",
              "    </tr>\n",
              "    <tr>\n",
              "      <th>2</th>\n",
              "      <td>2023-06-30</td>\n",
              "      <td>서울특별시</td>\n",
              "      <td>종로구</td>\n",
              "      <td>궁정동</td>\n",
              "      <td>궁정동</td>\n",
              "      <td>196</td>\n",
              "      <td>86</td>\n",
              "      <td>110</td>\n",
              "    </tr>\n",
              "    <tr>\n",
              "      <th>3</th>\n",
              "      <td>2023-06-30</td>\n",
              "      <td>서울특별시</td>\n",
              "      <td>종로구</td>\n",
              "      <td>효자동</td>\n",
              "      <td>효자동</td>\n",
              "      <td>563</td>\n",
              "      <td>249</td>\n",
              "      <td>314</td>\n",
              "    </tr>\n",
              "    <tr>\n",
              "      <th>4</th>\n",
              "      <td>2023-06-30</td>\n",
              "      <td>서울특별시</td>\n",
              "      <td>종로구</td>\n",
              "      <td>창성동</td>\n",
              "      <td>창성동</td>\n",
              "      <td>414</td>\n",
              "      <td>171</td>\n",
              "      <td>243</td>\n",
              "    </tr>\n",
              "  </tbody>\n",
              "</table>\n",
              "</div>"
            ],
            "text/plain": [
              "         기준연월    시도명 시군구명 읍면동명   리명     계    남자    여자\n",
              "0  2023-06-30  서울특별시  종로구  청운동  청운동  2343  1166  1177\n",
              "1  2023-06-30  서울특별시  종로구  신교동  신교동  1347   603   744\n",
              "2  2023-06-30  서울특별시  종로구  궁정동  궁정동   196    86   110\n",
              "3  2023-06-30  서울특별시  종로구  효자동  효자동   563   249   314\n",
              "4  2023-06-30  서울특별시  종로구  창성동  창성동   414   171   243"
            ]
          },
          "execution_count": 3,
          "metadata": {},
          "output_type": "execute_result"
        }
      ],
      "source": [
        "# 인구수 data - 2023년 6월 30일 기준\n",
        "pre_popu = pd.read_csv('/Users/bagtaejeong/Desktop/DSL/EDA/관광/데이터/행정안전부_지역별(법정동) 성별 연령별 주민등록 인구수6월(7.11).csv', encoding = 'cp949')\n",
        "pre_popu = pre_popu.iloc[:,1:9]\n",
        "pre_popu.head()"
      ],
      "id": "e7ae103e"
    },
    {
      "cell_type": "markdown",
      "metadata": {
        "id": "86080110"
      },
      "source": [
        "## 1-2) 인구수 Data 전처리\n",
        "- popu 만들기(인구수를 '시도명', '시군구명'으로 grouby)"
      ],
      "id": "86080110"
    },
    {
      "cell_type": "code",
      "execution_count": null,
      "metadata": {
        "scrolled": true,
        "id": "2903f434",
        "outputId": "5c60ffac-c1ff-4f52-8e01-a8014fac6518"
      },
      "outputs": [
        {
          "data": {
            "text/html": [
              "<div>\n",
              "<style scoped>\n",
              "    .dataframe tbody tr th:only-of-type {\n",
              "        vertical-align: middle;\n",
              "    }\n",
              "\n",
              "    .dataframe tbody tr th {\n",
              "        vertical-align: top;\n",
              "    }\n",
              "\n",
              "    .dataframe thead th {\n",
              "        text-align: right;\n",
              "    }\n",
              "</style>\n",
              "<table border=\"1\" class=\"dataframe\">\n",
              "  <thead>\n",
              "    <tr style=\"text-align: right;\">\n",
              "      <th></th>\n",
              "      <th>시도명</th>\n",
              "      <th>시군구명</th>\n",
              "      <th>계</th>\n",
              "      <th>남자</th>\n",
              "      <th>여자</th>\n",
              "    </tr>\n",
              "  </thead>\n",
              "  <tbody>\n",
              "    <tr>\n",
              "      <th>0</th>\n",
              "      <td>강원특별자치도</td>\n",
              "      <td>강릉시</td>\n",
              "      <td>210456</td>\n",
              "      <td>104324</td>\n",
              "      <td>106132</td>\n",
              "    </tr>\n",
              "    <tr>\n",
              "      <th>1</th>\n",
              "      <td>강원특별자치도</td>\n",
              "      <td>고성군</td>\n",
              "      <td>27311</td>\n",
              "      <td>14064</td>\n",
              "      <td>13247</td>\n",
              "    </tr>\n",
              "    <tr>\n",
              "      <th>2</th>\n",
              "      <td>강원특별자치도</td>\n",
              "      <td>동해시</td>\n",
              "      <td>89058</td>\n",
              "      <td>45253</td>\n",
              "      <td>43805</td>\n",
              "    </tr>\n",
              "    <tr>\n",
              "      <th>3</th>\n",
              "      <td>강원특별자치도</td>\n",
              "      <td>삼척시</td>\n",
              "      <td>63270</td>\n",
              "      <td>32093</td>\n",
              "      <td>31177</td>\n",
              "    </tr>\n",
              "    <tr>\n",
              "      <th>4</th>\n",
              "      <td>강원특별자치도</td>\n",
              "      <td>속초시</td>\n",
              "      <td>82474</td>\n",
              "      <td>40873</td>\n",
              "      <td>41601</td>\n",
              "    </tr>\n",
              "    <tr>\n",
              "      <th>...</th>\n",
              "      <td>...</td>\n",
              "      <td>...</td>\n",
              "      <td>...</td>\n",
              "      <td>...</td>\n",
              "      <td>...</td>\n",
              "    </tr>\n",
              "    <tr>\n",
              "      <th>224</th>\n",
              "      <td>충청북도</td>\n",
              "      <td>제천시</td>\n",
              "      <td>131231</td>\n",
              "      <td>65990</td>\n",
              "      <td>65241</td>\n",
              "    </tr>\n",
              "    <tr>\n",
              "      <th>225</th>\n",
              "      <td>충청북도</td>\n",
              "      <td>증평군</td>\n",
              "      <td>37349</td>\n",
              "      <td>19472</td>\n",
              "      <td>17877</td>\n",
              "    </tr>\n",
              "    <tr>\n",
              "      <th>226</th>\n",
              "      <td>충청북도</td>\n",
              "      <td>진천군</td>\n",
              "      <td>85876</td>\n",
              "      <td>45448</td>\n",
              "      <td>40428</td>\n",
              "    </tr>\n",
              "    <tr>\n",
              "      <th>227</th>\n",
              "      <td>충청북도</td>\n",
              "      <td>청주시</td>\n",
              "      <td>850168</td>\n",
              "      <td>429590</td>\n",
              "      <td>420578</td>\n",
              "    </tr>\n",
              "    <tr>\n",
              "      <th>228</th>\n",
              "      <td>충청북도</td>\n",
              "      <td>충주시</td>\n",
              "      <td>207893</td>\n",
              "      <td>105400</td>\n",
              "      <td>102493</td>\n",
              "    </tr>\n",
              "  </tbody>\n",
              "</table>\n",
              "<p>229 rows × 5 columns</p>\n",
              "</div>"
            ],
            "text/plain": [
              "         시도명 시군구명       계      남자      여자\n",
              "0    강원특별자치도  강릉시  210456  104324  106132\n",
              "1    강원특별자치도  고성군   27311   14064   13247\n",
              "2    강원특별자치도  동해시   89058   45253   43805\n",
              "3    강원특별자치도  삼척시   63270   32093   31177\n",
              "4    강원특별자치도  속초시   82474   40873   41601\n",
              "..       ...  ...     ...     ...     ...\n",
              "224     충청북도  제천시  131231   65990   65241\n",
              "225     충청북도  증평군   37349   19472   17877\n",
              "226     충청북도  진천군   85876   45448   40428\n",
              "227     충청북도  청주시  850168  429590  420578\n",
              "228     충청북도  충주시  207893  105400  102493\n",
              "\n",
              "[229 rows x 5 columns]"
            ]
          },
          "execution_count": 4,
          "metadata": {},
          "output_type": "execute_result"
        }
      ],
      "source": [
        "# 시군구명 수정 -> 천안시 동남구, 성남시 수정구 등을 없애기 위해\n",
        "pre_popu['시군구명'] = pre_popu['시군구명'].str.split(pat = ' ').str[0]\n",
        "\n",
        "# 시군구명의 139개 결측치 처리\n",
        "na_popu = pre_popu.fillna('세종') # 시도명이 세종특별자치시인 경우 시군구명이 비어있었음.\n",
        "# na_popu.isna().sum()\n",
        "\n",
        "# 그룹화 : '시도명', '시군구명'\n",
        "popu = na_popu.groupby(['시도명', '시군구명']).sum(numeric_only=True).reset_index()\n",
        "popu"
      ],
      "id": "2903f434"
    },
    {
      "cell_type": "markdown",
      "metadata": {
        "id": "db5ed6ab"
      },
      "source": [
        "## 1-3) 관광 Data"
      ],
      "id": "db5ed6ab"
    },
    {
      "cell_type": "code",
      "execution_count": null,
      "metadata": {
        "scrolled": true,
        "id": "84663098"
      },
      "outputs": [],
      "source": [
        "# 인기관광지_외지인 데이터 불러오기\n",
        "# 강원/경기/충남/충북/경남/경북/전남/전북/서울/세종/대전/대구/울산/인천/광주/부산/제주 <=> 1~17\n",
        "sido_list = [(1,'강원특별자치도'), (2,'경기도'), (3,'충청남도'), (4,'충청북도'), (5,'경상남도'), (6,'경상북도'), (7,'전라남도'), (8,'전라북도'),(9,'서울특별시'),\n",
        "             (10,'세종특별자치시'), (11,'대전광역시'), (12,'대구광역시'), (13,'울산광역시'), (14,'인천광역시'), (15,'광주광역시'), (16,'부산광역시'), (17,'제주특별자치도')]\n",
        "\n",
        "df1 = pd.read_csv(f'/Users/bagtaejeong/Desktop/DSL/EDA/관광/데이터/인기관광지/[22072306] 강원도 인기관광지/인기관광지_외지인.csv', encoding = 'cp949')\n",
        "df2 = pd.read_csv(f'/Users/bagtaejeong/Desktop/DSL/EDA/관광/데이터/인기관광지/[22072306] 경기도 인기관광지/인기관광지_외지인.csv', encoding = 'cp949')\n",
        "df3 = pd.read_csv(f'/Users/bagtaejeong/Desktop/DSL/EDA/관광/데이터/인기관광지/[22072306] 충청남도 인기관광지/인기관광지_외지인.csv', encoding = 'cp949')\n",
        "df4 = pd.read_csv(f'/Users/bagtaejeong/Desktop/DSL/EDA/관광/데이터/인기관광지/[22072306] 충청북도 인기관광지/인기관광지_외지인.csv', encoding = 'cp949')\n",
        "df5 = pd.read_csv(f'/Users/bagtaejeong/Desktop/DSL/EDA/관광/데이터/인기관광지/[22072306] 경상남도 인기관광지/인기관광지_외지인.csv', encoding = 'cp949')\n",
        "df6 = pd.read_csv(f'/Users/bagtaejeong/Desktop/DSL/EDA/관광/데이터/인기관광지/[22072306] 경상북도 인기관광지/인기관광지_외지인.csv', encoding = 'cp949')\n",
        "df7 = pd.read_csv(f'/Users/bagtaejeong/Desktop/DSL/EDA/관광/데이터/인기관광지/[22072306] 전라남도 인기관광지/인기관광지_외지인.csv', encoding = 'cp949')\n",
        "df8 = pd.read_csv(f'/Users/bagtaejeong/Desktop/DSL/EDA/관광/데이터/인기관광지/[22072306] 전라북도 인기관광지/인기관광지_외지인.csv', encoding = 'cp949')\n",
        "df9 = pd.read_csv(f'/Users/bagtaejeong/Desktop/DSL/EDA/관광/데이터/인기관광지/[22072306] 서울 인기관광지/인기관광지_외지인.csv', encoding = 'cp949')\n",
        "df10 = pd.read_csv(f'/Users/bagtaejeong/Desktop/DSL/EDA/관광/데이터/인기관광지/[22072306] 세종 인기관광지/인기관광지_외지인.csv', encoding = 'cp949')\n",
        "df11 = pd.read_csv(f'/Users/bagtaejeong/Desktop/DSL/EDA/관광/데이터/인기관광지/[22072306] 대전 인기관광지/인기관광지_외지인.csv', encoding = 'cp949')\n",
        "df12 = pd.read_csv(f'/Users/bagtaejeong/Desktop/DSL/EDA/관광/데이터/인기관광지/[22072306] 대구 인기관광지/인기관광지_외지인.csv', encoding = 'cp949')\n",
        "df13 = pd.read_csv(f'/Users/bagtaejeong/Desktop/DSL/EDA/관광/데이터/인기관광지/[22072306] 울산 인기관광지/인기관광지_외지인.csv', encoding = 'cp949')\n",
        "df14 = pd.read_csv(f'/Users/bagtaejeong/Desktop/DSL/EDA/관광/데이터/인기관광지/[22072306] 인천 인기관광지/인기관광지_외지인.csv', encoding = 'cp949')\n",
        "df15 = pd.read_csv(f'/Users/bagtaejeong/Desktop/DSL/EDA/관광/데이터/인기관광지/[22072306] 광주 인기관광지/인기관광지_외지인.csv', encoding = 'cp949')\n",
        "df16 = pd.read_csv(f'/Users/bagtaejeong/Desktop/DSL/EDA/관광/데이터/인기관광지/[22072306] 부산 인기관광지/인기관광지_외지인.csv', encoding = 'cp949')\n",
        "df17 = pd.read_csv(f'/Users/bagtaejeong/Desktop/DSL/EDA/관광/데이터/인기관광지/[22072306] 제주도 인기관광지/인기관광지_외지인.csv', encoding = 'cp949')\n",
        "\n",
        "dflist = [df1, df2, df3, df4, df5, df6, df7, df8, df9, df10, df11, df12, df13, df14, df15, df16, df17]"
      ],
      "id": "84663098"
    },
    {
      "cell_type": "markdown",
      "metadata": {
        "id": "d52980fe"
      },
      "source": [
        "## 1-4) 관광 Data 전처리\n",
        "- tour_result 만들기(관광데이터 전처리 이후 데이터)"
      ],
      "id": "d52980fe"
    },
    {
      "cell_type": "code",
      "execution_count": null,
      "metadata": {
        "scrolled": true,
        "id": "9318d91d",
        "outputId": "3bb45f41-5443-488b-dabc-1690a052da13"
      },
      "outputs": [
        {
          "data": {
            "text/html": [
              "<div>\n",
              "<style scoped>\n",
              "    .dataframe tbody tr th:only-of-type {\n",
              "        vertical-align: middle;\n",
              "    }\n",
              "\n",
              "    .dataframe tbody tr th {\n",
              "        vertical-align: top;\n",
              "    }\n",
              "\n",
              "    .dataframe thead th {\n",
              "        text-align: right;\n",
              "    }\n",
              "</style>\n",
              "<table border=\"1\" class=\"dataframe\">\n",
              "  <thead>\n",
              "    <tr style=\"text-align: right;\">\n",
              "      <th></th>\n",
              "      <th>시도명</th>\n",
              "      <th>시군구명</th>\n",
              "      <th>대분류</th>\n",
              "      <th>분류</th>\n",
              "      <th>관광지명</th>\n",
              "      <th>외지인 검색 수</th>\n",
              "      <th>관광지 수</th>\n",
              "    </tr>\n",
              "  </thead>\n",
              "  <tbody>\n",
              "    <tr>\n",
              "      <th>0</th>\n",
              "      <td>강원특별자치도</td>\n",
              "      <td>속초시</td>\n",
              "      <td>시장</td>\n",
              "      <td>시장</td>\n",
              "      <td>속초관광수산시장</td>\n",
              "      <td>811824</td>\n",
              "      <td>1</td>\n",
              "    </tr>\n",
              "    <tr>\n",
              "      <th>1</th>\n",
              "      <td>강원특별자치도</td>\n",
              "      <td>삼척시</td>\n",
              "      <td>콘도미니엄</td>\n",
              "      <td>콘도미니엄</td>\n",
              "      <td>쏠비치삼척</td>\n",
              "      <td>613581</td>\n",
              "      <td>1</td>\n",
              "    </tr>\n",
              "    <tr>\n",
              "      <th>2</th>\n",
              "      <td>강원특별자치도</td>\n",
              "      <td>홍천군</td>\n",
              "      <td>콘도미니엄</td>\n",
              "      <td>콘도미니엄</td>\n",
              "      <td>소노벨비발디파크</td>\n",
              "      <td>509816</td>\n",
              "      <td>1</td>\n",
              "    </tr>\n",
              "    <tr>\n",
              "      <th>3</th>\n",
              "      <td>강원특별자치도</td>\n",
              "      <td>홍천군</td>\n",
              "      <td>콘도미니엄</td>\n",
              "      <td>콘도미니엄</td>\n",
              "      <td>소노펠리체 비발디파크</td>\n",
              "      <td>375248</td>\n",
              "      <td>1</td>\n",
              "    </tr>\n",
              "    <tr>\n",
              "      <th>4</th>\n",
              "      <td>강원특별자치도</td>\n",
              "      <td>속초시</td>\n",
              "      <td>호텔</td>\n",
              "      <td>호텔</td>\n",
              "      <td>체스터톤스속초</td>\n",
              "      <td>360474</td>\n",
              "      <td>1</td>\n",
              "    </tr>\n",
              "    <tr>\n",
              "      <th>...</th>\n",
              "      <td>...</td>\n",
              "      <td>...</td>\n",
              "      <td>...</td>\n",
              "      <td>...</td>\n",
              "      <td>...</td>\n",
              "      <td>...</td>\n",
              "      <td>...</td>\n",
              "    </tr>\n",
              "    <tr>\n",
              "      <th>94</th>\n",
              "      <td>제주특별자치도</td>\n",
              "      <td>제주시</td>\n",
              "      <td>호텔</td>\n",
              "      <td>호텔</td>\n",
              "      <td>에코랜드호텔</td>\n",
              "      <td>15483</td>\n",
              "      <td>1</td>\n",
              "    </tr>\n",
              "    <tr>\n",
              "      <th>95</th>\n",
              "      <td>제주특별자치도</td>\n",
              "      <td>제주시</td>\n",
              "      <td>호텔</td>\n",
              "      <td>호텔</td>\n",
              "      <td>라마다제주시티홀호텔</td>\n",
              "      <td>15373</td>\n",
              "      <td>1</td>\n",
              "    </tr>\n",
              "    <tr>\n",
              "      <th>96</th>\n",
              "      <td>제주특별자치도</td>\n",
              "      <td>제주시</td>\n",
              "      <td>호텔</td>\n",
              "      <td>호텔</td>\n",
              "      <td>호텔휘슬락</td>\n",
              "      <td>15208</td>\n",
              "      <td>1</td>\n",
              "    </tr>\n",
              "    <tr>\n",
              "      <th>98</th>\n",
              "      <td>제주특별자치도</td>\n",
              "      <td>서귀포시</td>\n",
              "      <td>기타관광</td>\n",
              "      <td>기타관광</td>\n",
              "      <td>보롬왓</td>\n",
              "      <td>14789</td>\n",
              "      <td>1</td>\n",
              "    </tr>\n",
              "    <tr>\n",
              "      <th>99</th>\n",
              "      <td>제주특별자치도</td>\n",
              "      <td>제주시</td>\n",
              "      <td>호텔</td>\n",
              "      <td>호텔</td>\n",
              "      <td>베스트웨스턴제주호텔</td>\n",
              "      <td>14604</td>\n",
              "      <td>1</td>\n",
              "    </tr>\n",
              "  </tbody>\n",
              "</table>\n",
              "<p>1102 rows × 7 columns</p>\n",
              "</div>"
            ],
            "text/plain": [
              "        시도명  시군구명    대분류     분류         관광지명  외지인 검색 수  관광지 수\n",
              "0   강원특별자치도   속초시     시장     시장     속초관광수산시장    811824      1\n",
              "1   강원특별자치도   삼척시  콘도미니엄  콘도미니엄        쏠비치삼척    613581      1\n",
              "2   강원특별자치도   홍천군  콘도미니엄  콘도미니엄     소노벨비발디파크    509816      1\n",
              "3   강원특별자치도   홍천군  콘도미니엄  콘도미니엄  소노펠리체 비발디파크    375248      1\n",
              "4   강원특별자치도   속초시     호텔     호텔      체스터톤스속초    360474      1\n",
              "..      ...   ...    ...    ...          ...       ...    ...\n",
              "94  제주특별자치도   제주시     호텔     호텔       에코랜드호텔     15483      1\n",
              "95  제주특별자치도   제주시     호텔     호텔   라마다제주시티홀호텔     15373      1\n",
              "96  제주특별자치도   제주시     호텔     호텔        호텔휘슬락     15208      1\n",
              "98  제주특별자치도  서귀포시   기타관광   기타관광          보롬왓     14789      1\n",
              "99  제주특별자치도   제주시     호텔     호텔   베스트웨스턴제주호텔     14604      1\n",
              "\n",
              "[1102 rows x 7 columns]"
            ]
          },
          "execution_count": 6,
          "metadata": {},
          "output_type": "execute_result"
        }
      ],
      "source": [
        "# 관광데이터 concat\n",
        "result_df = pd.concat(dflist)\n",
        "\n",
        "# 시도명 column 만들기\n",
        "result_df['시도명'] = result_df['주소'].str.split(pat=' ', n=2).str[0]\n",
        "\n",
        "# 시군구명 column 만들기\n",
        "result_df['시군구명'] = result_df['주소'].str.split(pat=' ', n=3).str[1]\n",
        "\n",
        "# 관광지 수 column 만들기\n",
        "result_df['관광지 수'] = 1\n",
        "result_df.loc[result_df['시도명'] == '세종시', '시군구명'] = '세종'\n",
        "\n",
        "# 부적절한 \"관광지명\" 제거\n",
        "# 대형마트, 백화점, 쇼핑몰, 면세점, 레저스포츠시설(야구장), 영화관, 자동차극장 => 관광의 의미와 맞지 않음\n",
        "# 교통시설의 경우도 도로를 새로 만들어야 하는 것 + 관광의 의미와 맞지 않음.\n",
        "filter1_result = result_df[~result_df['관광지명'].str.contains('롯데시네마|CGV|메가박스|자동차극장')]\n",
        "\n",
        "# 부적절한 \"분류\" 제거\n",
        "# 개수가 너무 적은 관광지 유형 삭제 -> 농/산/어촌체험(2개)/캠핑(11개)/수상레저스포츠(2개)/기타숙박(1개)/모텔(17개)/펜션/민박(2개)\n",
        "filter2_result = filter1_result[~filter1_result['분류'].str.contains('교통시설|농/산/어촌체험|캠핑|수상레저스포츠|기타숙박|모텔|펜션/민박|대형마트|백화점|쇼핑몰|면세점|레저스포츠시설')]\n",
        "\n",
        "# 대분류로 매핑할 조건을 딕셔너리로 정의\n",
        "large_category_mapping = {\n",
        "    '복합관광시설':'복합관광지', '웰니스관광':'복합관광지', '데이트코스':'복합관광지', '랜드마크관광':'복합관광지', '기타레저스포츠':'복합관광지', # 복합관광지\n",
        "    '자연경관(산)':'자연관광지', '자연관광(산)':'자연관광지', '자연생태':'자연관광지', '자연공원':'자연관광지', # 자연관광지\n",
        "    '역사유적지':'역사유적지', '역사유물': '역사유적지', # 역사유적지\n",
        "    '전시시설':'전시시설', '공연시설':'전시시설', # 전시시설\n",
        "    '육상레저스포츠':'골프장(육상레저스포츠)', '자연경관(하천/해양)':'자연경관(하천/해양)', '콘도미니엄':'콘도미니엄', '호텔':'호텔',\n",
        "    '시장':'시장', '테마공원':'테마공원', '기타관광':'기타관광', '기타문화관광지': '기타문화관광지',\n",
        "    '교통시설':'교통시설','도시공원':'도시공원', '종교성지':'종교성지'}\n",
        "\n",
        "# '분류' 컬럼을 '대분류'로 매핑\n",
        "tour_result = filter2_result.copy()\n",
        "tour_result['대분류'] = tour_result.loc[:,'분류'].map(large_category_mapping)\n",
        "\n",
        "# '주소', '순위' 컬럼 삭제\n",
        "tour_result = tour_result.loc[:,['시도명', '시군구명', '대분류', '분류', '관광지명', '외지인 검색 수', '관광지 수']]\n",
        "\n",
        "# 시도명 일치시키기\n",
        "tour_result['시도명'] = tour_result['시도명'].replace({'강원':'강원특별자치도', '경기':'경기도', '경남':'경상남도', '경북':'경상북도', '광주':'광주광역시', '대구':'대구광역시',\n",
        "                             '대전':'대전광역시', '부산':'부산광역시', '서울':'서울특별시', '세종시':'세종특별자치시', '울산':'울산광역시', '인천':'인천광역시',\n",
        "                            '전남':'전라남도', '전북':'전라북도', '제주':'제주특별자치도', '충남':'충청남도', '충북':'충청북도'})\n",
        "\n",
        "\n",
        "tour_result"
      ],
      "id": "9318d91d"
    },
    {
      "cell_type": "markdown",
      "metadata": {
        "id": "5e3dd42d"
      },
      "source": [
        "## 2. 분석 전처리"
      ],
      "id": "5e3dd42d"
    },
    {
      "cell_type": "markdown",
      "metadata": {
        "id": "ef4c6f8a"
      },
      "source": [
        "## 2-1) 2개의 데이터프레임 만들기\n",
        "- tour_result 활용\n",
        "\n",
        "#### 1) tour_sigungu : 시도-시군구에 따른 외지인 검색 수와 관광지 수\n",
        "\n",
        "#### 2) tour_general_category : 시도-시군구에 따른 대분류별 관광지 수\n",
        "- 관광지 유형을 column에 넣어주는 작업"
      ],
      "id": "ef4c6f8a"
    },
    {
      "cell_type": "code",
      "execution_count": null,
      "metadata": {
        "scrolled": true,
        "id": "bdd5cf43",
        "outputId": "c41a5aaf-ca9d-4069-e704-5c42f4641b5a"
      },
      "outputs": [
        {
          "data": {
            "text/html": [
              "<div>\n",
              "<style scoped>\n",
              "    .dataframe tbody tr th:only-of-type {\n",
              "        vertical-align: middle;\n",
              "    }\n",
              "\n",
              "    .dataframe tbody tr th {\n",
              "        vertical-align: top;\n",
              "    }\n",
              "\n",
              "    .dataframe thead th {\n",
              "        text-align: right;\n",
              "    }\n",
              "</style>\n",
              "<table border=\"1\" class=\"dataframe\">\n",
              "  <thead>\n",
              "    <tr style=\"text-align: right;\">\n",
              "      <th>대분류</th>\n",
              "      <th>시도명</th>\n",
              "      <th>시군구명</th>\n",
              "      <th>골프장(육상레저스포츠)</th>\n",
              "      <th>기타관광</th>\n",
              "      <th>기타문화관광지</th>\n",
              "      <th>도시공원</th>\n",
              "      <th>복합관광지</th>\n",
              "      <th>시장</th>\n",
              "      <th>역사유적지</th>\n",
              "      <th>자연경관(하천/해양)</th>\n",
              "      <th>자연관광지</th>\n",
              "      <th>전시시설</th>\n",
              "      <th>종교성지</th>\n",
              "      <th>콘도미니엄</th>\n",
              "      <th>테마공원</th>\n",
              "      <th>호텔</th>\n",
              "    </tr>\n",
              "  </thead>\n",
              "  <tbody>\n",
              "    <tr>\n",
              "      <th>0</th>\n",
              "      <td>강원특별자치도</td>\n",
              "      <td>강릉시</td>\n",
              "      <td>0</td>\n",
              "      <td>0</td>\n",
              "      <td>0</td>\n",
              "      <td>0</td>\n",
              "      <td>2</td>\n",
              "      <td>2</td>\n",
              "      <td>1</td>\n",
              "      <td>5</td>\n",
              "      <td>0</td>\n",
              "      <td>1</td>\n",
              "      <td>0</td>\n",
              "      <td>2</td>\n",
              "      <td>0</td>\n",
              "      <td>3</td>\n",
              "    </tr>\n",
              "    <tr>\n",
              "      <th>1</th>\n",
              "      <td>강원특별자치도</td>\n",
              "      <td>고성군</td>\n",
              "      <td>1</td>\n",
              "      <td>0</td>\n",
              "      <td>0</td>\n",
              "      <td>0</td>\n",
              "      <td>1</td>\n",
              "      <td>0</td>\n",
              "      <td>0</td>\n",
              "      <td>2</td>\n",
              "      <td>0</td>\n",
              "      <td>0</td>\n",
              "      <td>0</td>\n",
              "      <td>3</td>\n",
              "      <td>0</td>\n",
              "      <td>0</td>\n",
              "    </tr>\n",
              "    <tr>\n",
              "      <th>2</th>\n",
              "      <td>강원특별자치도</td>\n",
              "      <td>동해시</td>\n",
              "      <td>0</td>\n",
              "      <td>0</td>\n",
              "      <td>0</td>\n",
              "      <td>0</td>\n",
              "      <td>0</td>\n",
              "      <td>0</td>\n",
              "      <td>0</td>\n",
              "      <td>2</td>\n",
              "      <td>0</td>\n",
              "      <td>0</td>\n",
              "      <td>0</td>\n",
              "      <td>0</td>\n",
              "      <td>0</td>\n",
              "      <td>0</td>\n",
              "    </tr>\n",
              "    <tr>\n",
              "      <th>3</th>\n",
              "      <td>강원특별자치도</td>\n",
              "      <td>삼척시</td>\n",
              "      <td>0</td>\n",
              "      <td>0</td>\n",
              "      <td>0</td>\n",
              "      <td>0</td>\n",
              "      <td>0</td>\n",
              "      <td>0</td>\n",
              "      <td>0</td>\n",
              "      <td>2</td>\n",
              "      <td>0</td>\n",
              "      <td>0</td>\n",
              "      <td>0</td>\n",
              "      <td>1</td>\n",
              "      <td>0</td>\n",
              "      <td>0</td>\n",
              "    </tr>\n",
              "    <tr>\n",
              "      <th>4</th>\n",
              "      <td>강원특별자치도</td>\n",
              "      <td>속초시</td>\n",
              "      <td>0</td>\n",
              "      <td>2</td>\n",
              "      <td>0</td>\n",
              "      <td>1</td>\n",
              "      <td>1</td>\n",
              "      <td>1</td>\n",
              "      <td>0</td>\n",
              "      <td>3</td>\n",
              "      <td>0</td>\n",
              "      <td>0</td>\n",
              "      <td>0</td>\n",
              "      <td>2</td>\n",
              "      <td>0</td>\n",
              "      <td>3</td>\n",
              "    </tr>\n",
              "    <tr>\n",
              "      <th>...</th>\n",
              "      <td>...</td>\n",
              "      <td>...</td>\n",
              "      <td>...</td>\n",
              "      <td>...</td>\n",
              "      <td>...</td>\n",
              "      <td>...</td>\n",
              "      <td>...</td>\n",
              "      <td>...</td>\n",
              "      <td>...</td>\n",
              "      <td>...</td>\n",
              "      <td>...</td>\n",
              "      <td>...</td>\n",
              "      <td>...</td>\n",
              "      <td>...</td>\n",
              "      <td>...</td>\n",
              "      <td>...</td>\n",
              "    </tr>\n",
              "    <tr>\n",
              "      <th>178</th>\n",
              "      <td>충청북도</td>\n",
              "      <td>제천시</td>\n",
              "      <td>2</td>\n",
              "      <td>2</td>\n",
              "      <td>0</td>\n",
              "      <td>0</td>\n",
              "      <td>1</td>\n",
              "      <td>1</td>\n",
              "      <td>1</td>\n",
              "      <td>1</td>\n",
              "      <td>0</td>\n",
              "      <td>0</td>\n",
              "      <td>0</td>\n",
              "      <td>3</td>\n",
              "      <td>0</td>\n",
              "      <td>1</td>\n",
              "    </tr>\n",
              "    <tr>\n",
              "      <th>179</th>\n",
              "      <td>충청북도</td>\n",
              "      <td>증평군</td>\n",
              "      <td>1</td>\n",
              "      <td>0</td>\n",
              "      <td>0</td>\n",
              "      <td>0</td>\n",
              "      <td>0</td>\n",
              "      <td>0</td>\n",
              "      <td>0</td>\n",
              "      <td>0</td>\n",
              "      <td>0</td>\n",
              "      <td>0</td>\n",
              "      <td>0</td>\n",
              "      <td>0</td>\n",
              "      <td>0</td>\n",
              "      <td>0</td>\n",
              "    </tr>\n",
              "    <tr>\n",
              "      <th>180</th>\n",
              "      <td>충청북도</td>\n",
              "      <td>진천군</td>\n",
              "      <td>5</td>\n",
              "      <td>0</td>\n",
              "      <td>0</td>\n",
              "      <td>0</td>\n",
              "      <td>0</td>\n",
              "      <td>0</td>\n",
              "      <td>1</td>\n",
              "      <td>0</td>\n",
              "      <td>0</td>\n",
              "      <td>0</td>\n",
              "      <td>0</td>\n",
              "      <td>0</td>\n",
              "      <td>0</td>\n",
              "      <td>0</td>\n",
              "    </tr>\n",
              "    <tr>\n",
              "      <th>181</th>\n",
              "      <td>충청북도</td>\n",
              "      <td>청주시</td>\n",
              "      <td>4</td>\n",
              "      <td>1</td>\n",
              "      <td>0</td>\n",
              "      <td>2</td>\n",
              "      <td>1</td>\n",
              "      <td>2</td>\n",
              "      <td>1</td>\n",
              "      <td>0</td>\n",
              "      <td>0</td>\n",
              "      <td>1</td>\n",
              "      <td>0</td>\n",
              "      <td>0</td>\n",
              "      <td>1</td>\n",
              "      <td>2</td>\n",
              "    </tr>\n",
              "    <tr>\n",
              "      <th>182</th>\n",
              "      <td>충청북도</td>\n",
              "      <td>충주시</td>\n",
              "      <td>13</td>\n",
              "      <td>0</td>\n",
              "      <td>0</td>\n",
              "      <td>1</td>\n",
              "      <td>1</td>\n",
              "      <td>0</td>\n",
              "      <td>0</td>\n",
              "      <td>0</td>\n",
              "      <td>1</td>\n",
              "      <td>0</td>\n",
              "      <td>0</td>\n",
              "      <td>0</td>\n",
              "      <td>0</td>\n",
              "      <td>0</td>\n",
              "    </tr>\n",
              "  </tbody>\n",
              "</table>\n",
              "<p>183 rows × 16 columns</p>\n",
              "</div>"
            ],
            "text/plain": [
              "대분류      시도명 시군구명  골프장(육상레저스포츠)  기타관광  기타문화관광지  도시공원  복합관광지  시장  역사유적지  \\\n",
              "0    강원특별자치도  강릉시             0     0        0     0      2   2      1   \n",
              "1    강원특별자치도  고성군             1     0        0     0      1   0      0   \n",
              "2    강원특별자치도  동해시             0     0        0     0      0   0      0   \n",
              "3    강원특별자치도  삼척시             0     0        0     0      0   0      0   \n",
              "4    강원특별자치도  속초시             0     2        0     1      1   1      0   \n",
              "..       ...  ...           ...   ...      ...   ...    ...  ..    ...   \n",
              "178     충청북도  제천시             2     2        0     0      1   1      1   \n",
              "179     충청북도  증평군             1     0        0     0      0   0      0   \n",
              "180     충청북도  진천군             5     0        0     0      0   0      1   \n",
              "181     충청북도  청주시             4     1        0     2      1   2      1   \n",
              "182     충청북도  충주시            13     0        0     1      1   0      0   \n",
              "\n",
              "대분류  자연경관(하천/해양)  자연관광지  전시시설  종교성지  콘도미니엄  테마공원  호텔  \n",
              "0              5      0     1     0      2     0   3  \n",
              "1              2      0     0     0      3     0   0  \n",
              "2              2      0     0     0      0     0   0  \n",
              "3              2      0     0     0      1     0   0  \n",
              "4              3      0     0     0      2     0   3  \n",
              "..           ...    ...   ...   ...    ...   ...  ..  \n",
              "178            1      0     0     0      3     0   1  \n",
              "179            0      0     0     0      0     0   0  \n",
              "180            0      0     0     0      0     0   0  \n",
              "181            0      0     1     0      0     1   2  \n",
              "182            0      1     0     0      0     0   0  \n",
              "\n",
              "[183 rows x 16 columns]"
            ]
          },
          "execution_count": 7,
          "metadata": {},
          "output_type": "execute_result"
        }
      ],
      "source": [
        "# 시도-시군구별 외지인 검색 수, 관광지 수 알아보기\n",
        "tour_sigungu = tour_result.groupby(['시도명','시군구명']).sum(numeric_only = True).reset_index()\n",
        "\n",
        "# 대분류별 관광지 수 알아보기\n",
        "tour_general_category = tour_result.groupby(['시도명','시군구명', '대분류']).size().unstack(fill_value = 0).reset_index()\n",
        "\n",
        "# tour_sigungu\n",
        "tour_general_category"
      ],
      "id": "bdd5cf43"
    },
    {
      "cell_type": "markdown",
      "metadata": {
        "id": "4331a8f6"
      },
      "source": [
        "## 2-2) 인구 - 관광 데이터 병합\n",
        "\n",
        "#### general_tour : tour_sigungu - tour_general_category 병합\n",
        "- tour_general_category에 외지인 검색 수와 관광지 수 병합\n",
        "\n",
        "#### general_tour_popu : general_tour - popu 병합\n",
        "- 실질적으로 사용할 데이터!"
      ],
      "id": "4331a8f6"
    },
    {
      "cell_type": "code",
      "execution_count": null,
      "metadata": {
        "scrolled": true,
        "id": "9534f198",
        "outputId": "d5cd4d21-3952-465d-e574-820e4698d018"
      },
      "outputs": [
        {
          "data": {
            "text/html": [
              "<div>\n",
              "<style scoped>\n",
              "    .dataframe tbody tr th:only-of-type {\n",
              "        vertical-align: middle;\n",
              "    }\n",
              "\n",
              "    .dataframe tbody tr th {\n",
              "        vertical-align: top;\n",
              "    }\n",
              "\n",
              "    .dataframe thead th {\n",
              "        text-align: right;\n",
              "    }\n",
              "</style>\n",
              "<table border=\"1\" class=\"dataframe\">\n",
              "  <thead>\n",
              "    <tr style=\"text-align: right;\">\n",
              "      <th></th>\n",
              "      <th>시도명</th>\n",
              "      <th>시군구명</th>\n",
              "      <th>외지인 검색 수</th>\n",
              "      <th>관광지 수</th>\n",
              "      <th>골프장(육상레저스포츠)</th>\n",
              "      <th>기타관광</th>\n",
              "      <th>기타문화관광지</th>\n",
              "      <th>도시공원</th>\n",
              "      <th>복합관광지</th>\n",
              "      <th>시장</th>\n",
              "      <th>...</th>\n",
              "      <th>자연경관(하천/해양)</th>\n",
              "      <th>자연관광지</th>\n",
              "      <th>전시시설</th>\n",
              "      <th>종교성지</th>\n",
              "      <th>콘도미니엄</th>\n",
              "      <th>테마공원</th>\n",
              "      <th>호텔</th>\n",
              "      <th>계</th>\n",
              "      <th>남자</th>\n",
              "      <th>여자</th>\n",
              "    </tr>\n",
              "  </thead>\n",
              "  <tbody>\n",
              "    <tr>\n",
              "      <th>0</th>\n",
              "      <td>강원특별자치도</td>\n",
              "      <td>강릉시</td>\n",
              "      <td>1748289</td>\n",
              "      <td>16</td>\n",
              "      <td>0</td>\n",
              "      <td>0</td>\n",
              "      <td>0</td>\n",
              "      <td>0</td>\n",
              "      <td>2</td>\n",
              "      <td>2</td>\n",
              "      <td>...</td>\n",
              "      <td>5</td>\n",
              "      <td>0</td>\n",
              "      <td>1</td>\n",
              "      <td>0</td>\n",
              "      <td>2</td>\n",
              "      <td>0</td>\n",
              "      <td>3</td>\n",
              "      <td>210456</td>\n",
              "      <td>104324</td>\n",
              "      <td>106132</td>\n",
              "    </tr>\n",
              "    <tr>\n",
              "      <th>1</th>\n",
              "      <td>강원특별자치도</td>\n",
              "      <td>고성군</td>\n",
              "      <td>499691</td>\n",
              "      <td>7</td>\n",
              "      <td>1</td>\n",
              "      <td>0</td>\n",
              "      <td>0</td>\n",
              "      <td>0</td>\n",
              "      <td>1</td>\n",
              "      <td>0</td>\n",
              "      <td>...</td>\n",
              "      <td>2</td>\n",
              "      <td>0</td>\n",
              "      <td>0</td>\n",
              "      <td>0</td>\n",
              "      <td>3</td>\n",
              "      <td>0</td>\n",
              "      <td>0</td>\n",
              "      <td>27311</td>\n",
              "      <td>14064</td>\n",
              "      <td>13247</td>\n",
              "    </tr>\n",
              "    <tr>\n",
              "      <th>2</th>\n",
              "      <td>강원특별자치도</td>\n",
              "      <td>동해시</td>\n",
              "      <td>122524</td>\n",
              "      <td>2</td>\n",
              "      <td>0</td>\n",
              "      <td>0</td>\n",
              "      <td>0</td>\n",
              "      <td>0</td>\n",
              "      <td>0</td>\n",
              "      <td>0</td>\n",
              "      <td>...</td>\n",
              "      <td>2</td>\n",
              "      <td>0</td>\n",
              "      <td>0</td>\n",
              "      <td>0</td>\n",
              "      <td>0</td>\n",
              "      <td>0</td>\n",
              "      <td>0</td>\n",
              "      <td>89058</td>\n",
              "      <td>45253</td>\n",
              "      <td>43805</td>\n",
              "    </tr>\n",
              "    <tr>\n",
              "      <th>3</th>\n",
              "      <td>강원특별자치도</td>\n",
              "      <td>삼척시</td>\n",
              "      <td>758197</td>\n",
              "      <td>3</td>\n",
              "      <td>0</td>\n",
              "      <td>0</td>\n",
              "      <td>0</td>\n",
              "      <td>0</td>\n",
              "      <td>0</td>\n",
              "      <td>0</td>\n",
              "      <td>...</td>\n",
              "      <td>2</td>\n",
              "      <td>0</td>\n",
              "      <td>0</td>\n",
              "      <td>0</td>\n",
              "      <td>1</td>\n",
              "      <td>0</td>\n",
              "      <td>0</td>\n",
              "      <td>63270</td>\n",
              "      <td>32093</td>\n",
              "      <td>31177</td>\n",
              "    </tr>\n",
              "    <tr>\n",
              "      <th>4</th>\n",
              "      <td>강원특별자치도</td>\n",
              "      <td>속초시</td>\n",
              "      <td>2572437</td>\n",
              "      <td>13</td>\n",
              "      <td>0</td>\n",
              "      <td>2</td>\n",
              "      <td>0</td>\n",
              "      <td>1</td>\n",
              "      <td>1</td>\n",
              "      <td>1</td>\n",
              "      <td>...</td>\n",
              "      <td>3</td>\n",
              "      <td>0</td>\n",
              "      <td>0</td>\n",
              "      <td>0</td>\n",
              "      <td>2</td>\n",
              "      <td>0</td>\n",
              "      <td>3</td>\n",
              "      <td>82474</td>\n",
              "      <td>40873</td>\n",
              "      <td>41601</td>\n",
              "    </tr>\n",
              "    <tr>\n",
              "      <th>...</th>\n",
              "      <td>...</td>\n",
              "      <td>...</td>\n",
              "      <td>...</td>\n",
              "      <td>...</td>\n",
              "      <td>...</td>\n",
              "      <td>...</td>\n",
              "      <td>...</td>\n",
              "      <td>...</td>\n",
              "      <td>...</td>\n",
              "      <td>...</td>\n",
              "      <td>...</td>\n",
              "      <td>...</td>\n",
              "      <td>...</td>\n",
              "      <td>...</td>\n",
              "      <td>...</td>\n",
              "      <td>...</td>\n",
              "      <td>...</td>\n",
              "      <td>...</td>\n",
              "      <td>...</td>\n",
              "      <td>...</td>\n",
              "      <td>...</td>\n",
              "    </tr>\n",
              "    <tr>\n",
              "      <th>178</th>\n",
              "      <td>충청북도</td>\n",
              "      <td>제천시</td>\n",
              "      <td>515253</td>\n",
              "      <td>12</td>\n",
              "      <td>2</td>\n",
              "      <td>2</td>\n",
              "      <td>0</td>\n",
              "      <td>0</td>\n",
              "      <td>1</td>\n",
              "      <td>1</td>\n",
              "      <td>...</td>\n",
              "      <td>1</td>\n",
              "      <td>0</td>\n",
              "      <td>0</td>\n",
              "      <td>0</td>\n",
              "      <td>3</td>\n",
              "      <td>0</td>\n",
              "      <td>1</td>\n",
              "      <td>131231</td>\n",
              "      <td>65990</td>\n",
              "      <td>65241</td>\n",
              "    </tr>\n",
              "    <tr>\n",
              "      <th>179</th>\n",
              "      <td>충청북도</td>\n",
              "      <td>증평군</td>\n",
              "      <td>32306</td>\n",
              "      <td>1</td>\n",
              "      <td>1</td>\n",
              "      <td>0</td>\n",
              "      <td>0</td>\n",
              "      <td>0</td>\n",
              "      <td>0</td>\n",
              "      <td>0</td>\n",
              "      <td>...</td>\n",
              "      <td>0</td>\n",
              "      <td>0</td>\n",
              "      <td>0</td>\n",
              "      <td>0</td>\n",
              "      <td>0</td>\n",
              "      <td>0</td>\n",
              "      <td>0</td>\n",
              "      <td>37349</td>\n",
              "      <td>19472</td>\n",
              "      <td>17877</td>\n",
              "    </tr>\n",
              "    <tr>\n",
              "      <th>180</th>\n",
              "      <td>충청북도</td>\n",
              "      <td>진천군</td>\n",
              "      <td>223976</td>\n",
              "      <td>6</td>\n",
              "      <td>5</td>\n",
              "      <td>0</td>\n",
              "      <td>0</td>\n",
              "      <td>0</td>\n",
              "      <td>0</td>\n",
              "      <td>0</td>\n",
              "      <td>...</td>\n",
              "      <td>0</td>\n",
              "      <td>0</td>\n",
              "      <td>0</td>\n",
              "      <td>0</td>\n",
              "      <td>0</td>\n",
              "      <td>0</td>\n",
              "      <td>0</td>\n",
              "      <td>85876</td>\n",
              "      <td>45448</td>\n",
              "      <td>40428</td>\n",
              "    </tr>\n",
              "    <tr>\n",
              "      <th>181</th>\n",
              "      <td>충청북도</td>\n",
              "      <td>청주시</td>\n",
              "      <td>584236</td>\n",
              "      <td>15</td>\n",
              "      <td>4</td>\n",
              "      <td>1</td>\n",
              "      <td>0</td>\n",
              "      <td>2</td>\n",
              "      <td>1</td>\n",
              "      <td>2</td>\n",
              "      <td>...</td>\n",
              "      <td>0</td>\n",
              "      <td>0</td>\n",
              "      <td>1</td>\n",
              "      <td>0</td>\n",
              "      <td>0</td>\n",
              "      <td>1</td>\n",
              "      <td>2</td>\n",
              "      <td>850168</td>\n",
              "      <td>429590</td>\n",
              "      <td>420578</td>\n",
              "    </tr>\n",
              "    <tr>\n",
              "      <th>182</th>\n",
              "      <td>충청북도</td>\n",
              "      <td>충주시</td>\n",
              "      <td>610254</td>\n",
              "      <td>16</td>\n",
              "      <td>13</td>\n",
              "      <td>0</td>\n",
              "      <td>0</td>\n",
              "      <td>1</td>\n",
              "      <td>1</td>\n",
              "      <td>0</td>\n",
              "      <td>...</td>\n",
              "      <td>0</td>\n",
              "      <td>1</td>\n",
              "      <td>0</td>\n",
              "      <td>0</td>\n",
              "      <td>0</td>\n",
              "      <td>0</td>\n",
              "      <td>0</td>\n",
              "      <td>207893</td>\n",
              "      <td>105400</td>\n",
              "      <td>102493</td>\n",
              "    </tr>\n",
              "  </tbody>\n",
              "</table>\n",
              "<p>183 rows × 21 columns</p>\n",
              "</div>"
            ],
            "text/plain": [
              "         시도명 시군구명  외지인 검색 수  관광지 수  골프장(육상레저스포츠)  기타관광  기타문화관광지  도시공원  복합관광지  \\\n",
              "0    강원특별자치도  강릉시   1748289     16             0     0        0     0      2   \n",
              "1    강원특별자치도  고성군    499691      7             1     0        0     0      1   \n",
              "2    강원특별자치도  동해시    122524      2             0     0        0     0      0   \n",
              "3    강원특별자치도  삼척시    758197      3             0     0        0     0      0   \n",
              "4    강원특별자치도  속초시   2572437     13             0     2        0     1      1   \n",
              "..       ...  ...       ...    ...           ...   ...      ...   ...    ...   \n",
              "178     충청북도  제천시    515253     12             2     2        0     0      1   \n",
              "179     충청북도  증평군     32306      1             1     0        0     0      0   \n",
              "180     충청북도  진천군    223976      6             5     0        0     0      0   \n",
              "181     충청북도  청주시    584236     15             4     1        0     2      1   \n",
              "182     충청북도  충주시    610254     16            13     0        0     1      1   \n",
              "\n",
              "     시장  ...  자연경관(하천/해양)  자연관광지  전시시설  종교성지  콘도미니엄  테마공원  호텔       계      남자  \\\n",
              "0     2  ...            5      0     1     0      2     0   3  210456  104324   \n",
              "1     0  ...            2      0     0     0      3     0   0   27311   14064   \n",
              "2     0  ...            2      0     0     0      0     0   0   89058   45253   \n",
              "3     0  ...            2      0     0     0      1     0   0   63270   32093   \n",
              "4     1  ...            3      0     0     0      2     0   3   82474   40873   \n",
              "..   ..  ...          ...    ...   ...   ...    ...   ...  ..     ...     ...   \n",
              "178   1  ...            1      0     0     0      3     0   1  131231   65990   \n",
              "179   0  ...            0      0     0     0      0     0   0   37349   19472   \n",
              "180   0  ...            0      0     0     0      0     0   0   85876   45448   \n",
              "181   2  ...            0      0     1     0      0     1   2  850168  429590   \n",
              "182   0  ...            0      1     0     0      0     0   0  207893  105400   \n",
              "\n",
              "         여자  \n",
              "0    106132  \n",
              "1     13247  \n",
              "2     43805  \n",
              "3     31177  \n",
              "4     41601  \n",
              "..      ...  \n",
              "178   65241  \n",
              "179   17877  \n",
              "180   40428  \n",
              "181  420578  \n",
              "182  102493  \n",
              "\n",
              "[183 rows x 21 columns]"
            ]
          },
          "execution_count": 8,
          "metadata": {},
          "output_type": "execute_result"
        }
      ],
      "source": [
        "general_tour = pd.merge(tour_sigungu, tour_general_category, on = ['시도명', '시군구명'])\n",
        "general_tour_popu = pd.merge(general_tour, popu, on = ['시도명', '시군구명'])\n",
        "\n",
        "# tour_popu\n",
        "general_tour_popu"
      ],
      "id": "9534f198"
    },
    {
      "cell_type": "markdown",
      "metadata": {
        "id": "945fe66b"
      },
      "source": [
        "## 3. 분석\n",
        "\n",
        "### 분석에 사용할 데이터 소개\n",
        "\n",
        "#### 1) tour_result : 관광에 적합하지 않은 것을 제외한 관광데이터(1102개)\n",
        "- 각 행에 관광지에 대한 정보가 담겨있음.\n",
        "\n",
        "#### 2) general_tour_popu : [시도명, 시군구명으로 그룹]\n",
        "- 각 행에 시도(시군구)별 관광지에 대한 정보(관광지 수, 관광지 유형)가 담겨있음."
      ],
      "id": "945fe66b"
    },
    {
      "cell_type": "markdown",
      "metadata": {
        "id": "872fe2a2"
      },
      "source": [
        "## 3-1) 상관관계\n",
        "\n",
        "- 콘도미니엄, 호텔, 복합관광지, 자연경관(하천/해양)의 상관계수가 0.4 이상"
      ],
      "id": "872fe2a2"
    },
    {
      "cell_type": "code",
      "execution_count": null,
      "metadata": {
        "scrolled": true,
        "id": "0bd21694",
        "outputId": "3b179586-cdc8-4bf4-8a31-1a59a10a093e"
      },
      "outputs": [
        {
          "data": {
            "text/html": [
              "<div>\n",
              "<style scoped>\n",
              "    .dataframe tbody tr th:only-of-type {\n",
              "        vertical-align: middle;\n",
              "    }\n",
              "\n",
              "    .dataframe tbody tr th {\n",
              "        vertical-align: top;\n",
              "    }\n",
              "\n",
              "    .dataframe thead th {\n",
              "        text-align: right;\n",
              "    }\n",
              "</style>\n",
              "<table border=\"1\" class=\"dataframe\">\n",
              "  <thead>\n",
              "    <tr style=\"text-align: right;\">\n",
              "      <th></th>\n",
              "      <th>외지인 검색 수</th>\n",
              "      <th>계</th>\n",
              "    </tr>\n",
              "  </thead>\n",
              "  <tbody>\n",
              "    <tr>\n",
              "      <th>외지인 검색 수</th>\n",
              "      <td>1.000000</td>\n",
              "      <td>0.248863</td>\n",
              "    </tr>\n",
              "    <tr>\n",
              "      <th>콘도미니엄</th>\n",
              "      <td>0.639609</td>\n",
              "      <td>-0.113533</td>\n",
              "    </tr>\n",
              "    <tr>\n",
              "      <th>관광지 수</th>\n",
              "      <td>0.585411</td>\n",
              "      <td>0.165649</td>\n",
              "    </tr>\n",
              "    <tr>\n",
              "      <th>호텔</th>\n",
              "      <td>0.519267</td>\n",
              "      <td>0.254320</td>\n",
              "    </tr>\n",
              "    <tr>\n",
              "      <th>복합관광지</th>\n",
              "      <td>0.451071</td>\n",
              "      <td>0.036413</td>\n",
              "    </tr>\n",
              "    <tr>\n",
              "      <th>자연경관(하천/해양)</th>\n",
              "      <td>0.427394</td>\n",
              "      <td>-0.085769</td>\n",
              "    </tr>\n",
              "    <tr>\n",
              "      <th>테마공원</th>\n",
              "      <td>0.302034</td>\n",
              "      <td>0.161260</td>\n",
              "    </tr>\n",
              "    <tr>\n",
              "      <th>자연관광지</th>\n",
              "      <td>0.300479</td>\n",
              "      <td>0.002259</td>\n",
              "    </tr>\n",
              "    <tr>\n",
              "      <th>전시시설</th>\n",
              "      <td>0.295686</td>\n",
              "      <td>0.287414</td>\n",
              "    </tr>\n",
              "    <tr>\n",
              "      <th>시장</th>\n",
              "      <td>0.294155</td>\n",
              "      <td>0.305114</td>\n",
              "    </tr>\n",
              "    <tr>\n",
              "      <th>기타관광</th>\n",
              "      <td>0.290512</td>\n",
              "      <td>-0.060418</td>\n",
              "    </tr>\n",
              "    <tr>\n",
              "      <th>여자</th>\n",
              "      <td>0.251976</td>\n",
              "      <td>0.999490</td>\n",
              "    </tr>\n",
              "    <tr>\n",
              "      <th>역사유적지</th>\n",
              "      <td>0.251349</td>\n",
              "      <td>0.158921</td>\n",
              "    </tr>\n",
              "    <tr>\n",
              "      <th>계</th>\n",
              "      <td>0.248863</td>\n",
              "      <td>1.000000</td>\n",
              "    </tr>\n",
              "    <tr>\n",
              "      <th>남자</th>\n",
              "      <td>0.245480</td>\n",
              "      <td>0.999485</td>\n",
              "    </tr>\n",
              "    <tr>\n",
              "      <th>골프장(육상레저스포츠)</th>\n",
              "      <td>0.218292</td>\n",
              "      <td>0.060963</td>\n",
              "    </tr>\n",
              "    <tr>\n",
              "      <th>도시공원</th>\n",
              "      <td>0.138271</td>\n",
              "      <td>0.237282</td>\n",
              "    </tr>\n",
              "    <tr>\n",
              "      <th>기타문화관광지</th>\n",
              "      <td>0.090936</td>\n",
              "      <td>0.039177</td>\n",
              "    </tr>\n",
              "    <tr>\n",
              "      <th>종교성지</th>\n",
              "      <td>0.054716</td>\n",
              "      <td>-0.148700</td>\n",
              "    </tr>\n",
              "  </tbody>\n",
              "</table>\n",
              "</div>"
            ],
            "text/plain": [
              "              외지인 검색 수         계\n",
              "외지인 검색 수      1.000000  0.248863\n",
              "콘도미니엄         0.639609 -0.113533\n",
              "관광지 수         0.585411  0.165649\n",
              "호텔            0.519267  0.254320\n",
              "복합관광지         0.451071  0.036413\n",
              "자연경관(하천/해양)   0.427394 -0.085769\n",
              "테마공원          0.302034  0.161260\n",
              "자연관광지         0.300479  0.002259\n",
              "전시시설          0.295686  0.287414\n",
              "시장            0.294155  0.305114\n",
              "기타관광          0.290512 -0.060418\n",
              "여자            0.251976  0.999490\n",
              "역사유적지         0.251349  0.158921\n",
              "계             0.248863  1.000000\n",
              "남자            0.245480  0.999485\n",
              "골프장(육상레저스포츠)  0.218292  0.060963\n",
              "도시공원          0.138271  0.237282\n",
              "기타문화관광지       0.090936  0.039177\n",
              "종교성지          0.054716 -0.148700"
            ]
          },
          "execution_count": 9,
          "metadata": {},
          "output_type": "execute_result"
        }
      ],
      "source": [
        "# general_tour_popu\n",
        "general_tour_popu.corr(numeric_only = True)[['외지인 검색 수', '계']].sort_values(by='외지인 검색 수', ascending = False)"
      ],
      "id": "0bd21694"
    },
    {
      "cell_type": "markdown",
      "metadata": {
        "id": "96274c3d"
      },
      "source": [
        "## 3-2) 관광유형 분석\n",
        "### BoxPlot"
      ],
      "id": "96274c3d"
    },
    {
      "cell_type": "code",
      "execution_count": null,
      "metadata": {
        "scrolled": true,
        "id": "e9bf0045"
      },
      "outputs": [],
      "source": [
        "import seaborn as sns\n",
        "import matplotlib.pyplot as plt\n",
        "import scipy.stats as stats\n",
        "import researchpy as rp\n",
        "import pingouin as pg\n",
        "import statsmodels"
      ],
      "id": "e9bf0045"
    },
    {
      "cell_type": "code",
      "execution_count": null,
      "metadata": {
        "scrolled": true,
        "id": "3d30d59a",
        "outputId": "381291a4-a5af-4668-cc33-eb83fc5834cc"
      },
      "outputs": [
        {
          "data": {
            "image/png": "[encoded data removed]",
            "text/plain": [
              "<Figure size 1200x1200 with 1 Axes>"
            ]
          },
          "metadata": {},
          "output_type": "display_data"
        }
      ],
      "source": [
        "# 대분류별로 박스플롯 그리기(공연시설 제외)\n",
        "sorted_data = tour_result.sort_values(by = '외지인 검색 수', ascending = False)\n",
        "categories = sorted_data['대분류'].unique()\n",
        "\n",
        "# 그래프 크기 설정\n",
        "plt.figure(figsize=(12, 12))\n",
        "\n",
        "# 대분류별로 박스플롯 그리기\n",
        "sns.boxplot(data=sorted_data[sorted_data['대분류'].isin(categories)], x='외지인 검색 수', y='대분류', showfliers=False)\n",
        "plt.xticks(rotation=90)\n",
        "plt.xlabel('외지인 검색 수')\n",
        "plt.ylabel('대분류')\n",
        "plt.title('관광지 유형별 외지인 검색 수 Box Plot')\n",
        "plt.xlim(0,200000)\n",
        "plt.grid()\n",
        "plt.savefig('관광지 유형별 외지인 검색 수.png')\n",
        "plt.show()"
      ],
      "id": "3d30d59a"
    },
    {
      "cell_type": "markdown",
      "metadata": {
        "id": "7856772a"
      },
      "source": [
        "## 3-2) 관광유형 분석\n",
        "\n",
        "### T-Test"
      ],
      "id": "7856772a"
    },
    {
      "cell_type": "markdown",
      "metadata": {
        "id": "56af5dd0"
      },
      "source": [
        "### 관광 유형별로 t검정"
      ],
      "id": "56af5dd0"
    },
    {
      "cell_type": "code",
      "execution_count": null,
      "metadata": {
        "scrolled": true,
        "id": "23533fc1",
        "outputId": "0536b002-0d1a-4c2d-9d4a-0058871701a2"
      },
      "outputs": [
        {
          "name": "stdout",
          "output_type": "stream",
          "text": [
            "시장 유형 개수 : 113\n",
            "콘도미니엄 유형 개수 : 64\n",
            "호텔 유형 개수 : 143\n",
            "자연경관(하천/해양) 유형 개수 : 117\n",
            "테마공원 유형 개수 : 60\n",
            "골프장(육상레저스포츠) 유형 개수 : 139\n",
            "기타문화관광지 유형 개수 : 29\n",
            "종교성지 유형 개수 : 56\n",
            "기타관광 유형 개수 : 73\n",
            "복합관광지 유형 개수 : 65\n",
            "역사유적지 유형 개수 : 41\n",
            "자연관광지 유형 개수 : 43\n",
            "전시시설 유형 개수 : 74\n",
            "도시공원 유형 개수 : 85\n"
          ]
        }
      ],
      "source": [
        "# 관광 유형별로 t검정\n",
        "\n",
        "# 관광 유형 개수 세기 - 가장 적은 유형이 29개\n",
        "t_category = []\n",
        "not_category = []\n",
        "category = tour_result['대분류'].unique()\n",
        "for i in category:\n",
        "    print(f'{i} 유형 개수 : {len(tour_result.loc[tour_result[\"대분류\"]==i])}')\n",
        "    if len(tour_result.loc[tour_result[\"대분류\"]==i]) > 25:\n",
        "        t_category.append(i)\n",
        "    else:\n",
        "        not_category.append(i)\n",
        "        not_category.append(len(tour_result.loc[tour_result[\"대분류\"]==i]))"
      ],
      "id": "23533fc1"
    },
    {
      "cell_type": "code",
      "execution_count": null,
      "metadata": {
        "scrolled": true,
        "id": "fa659a01",
        "outputId": "4e41a666-1cff-43fe-9159-1d10c48c225a"
      },
      "outputs": [
        {
          "name": "stdout",
          "output_type": "stream",
          "text": [
            "정규분포를 따르는 관광 유형 : [] \n",
            " 0 개\n",
            "정규분포를 따르지 않는 관광 유형 : ['시장', '콘도미니엄', '호텔', '자연경관(하천/해양)', '테마공원', '골프장(육상레저스포츠)', '기타문화관광지', '종교성지', '기타관광', '복합관광지', '역사유적지', '자연관광지', '전시시설', '도시공원'] \n",
            " 14 개\n"
          ]
        }
      ],
      "source": [
        "# 정규성 검정\n",
        "n_list = []\n",
        "t_list = []\n",
        "for i in category:\n",
        "    #print(i)\n",
        "    result = stats.shapiro(tour_result.loc[tour_result['대분류']== i, '외지인 검색 수'])\n",
        "    if result.pvalue < 0.05: # 유의수준 0.05 # 귀무가설 : 정규분포를 따른다. 대립가설 : 정규분포를 따르지 않는다.\n",
        "        #print(f'{i}는 정규분포를 따르지 않습니다.')\n",
        "        t_list.append(i)\n",
        "    else:\n",
        "        #print(f'{i}는 정규분포를 따릅니다.')\n",
        "        n_list.append(i)\n",
        "    #print()\n",
        "\n",
        "print(f'정규분포를 따르는 관광 유형 : {n_list}', '\\n',len(n_list), '개')\n",
        "print(f'정규분포를 따르지 않는 관광 유형 : {t_list}', '\\n', len(t_list), '개')"
      ],
      "id": "fa659a01"
    },
    {
      "cell_type": "markdown",
      "metadata": {
        "id": "53498ffc"
      },
      "source": [
        "### 양측검정"
      ],
      "id": "53498ffc"
    },
    {
      "cell_type": "code",
      "execution_count": null,
      "metadata": {
        "scrolled": true,
        "id": "f77ebd7d",
        "outputId": "4dd0b19f-a0e1-4a6f-ecda-4fc4cfc13234"
      },
      "outputs": [
        {
          "name": "stdout",
          "output_type": "stream",
          "text": [
            "<시장>\n",
            "시장 != 호텔 p값 : 0.016131720858414657\n",
            "시장 != 골프장(육상레저스포츠) p값 : 0.003950125310557715\n",
            "시장 != 기타문화관광지 p값 : 0.01910859094087986\n",
            "시장 != 기타관광 p값 : 0.03365843132186239\n",
            "시장 != 복합관광지 p값 : 0.01643624341501741\n",
            "시장 != 자연관광지 p값 : 0.0007411017325192008\n",
            "-----------------------------------------------\n",
            "<콘도미니엄>\n",
            "콘도미니엄 != 호텔 p값 : 0.015141112255686512\n",
            "콘도미니엄 != 골프장(육상레저스포츠) p값 : 0.004320630505564653\n",
            "콘도미니엄 != 기타문화관광지 p값 : 0.0035625904546696483\n",
            "콘도미니엄 != 종교성지 p값 : 0.04161943223569417\n",
            "콘도미니엄 != 기타관광 p값 : 0.021718164630885873\n",
            "콘도미니엄 != 복합관광지 p값 : 0.013975546462704384\n",
            "콘도미니엄 != 자연관광지 p값 : 0.0009795478094551642\n",
            "콘도미니엄 != 도시공원 p값 : 0.04399655169623631\n",
            "-----------------------------------------------\n",
            "<호텔>\n",
            "호텔 != 시장 p값 : 0.016131720858414657\n",
            "호텔 != 콘도미니엄 p값 : 0.015141112255686512\n",
            "호텔 != 자연경관(하천/해양) p값 : 0.04478307878513641\n",
            "호텔 != 기타문화관광지 p값 : 0.01522744705051794\n",
            "-----------------------------------------------\n",
            "<자연경관(하천/해양)>\n",
            "자연경관(하천/해양) != 호텔 p값 : 0.04478307878513641\n",
            "자연경관(하천/해양) != 골프장(육상레저스포츠) p값 : 0.003503375378683525\n",
            "자연경관(하천/해양) != 기타문화관광지 p값 : 0.0006780633212001519\n",
            "자연경관(하천/해양) != 자연관광지 p값 : 0.00019302324844975031\n",
            "-----------------------------------------------\n",
            "<테마공원>\n",
            "테마공원 != 기타문화관광지 p값 : 0.040993927352866014\n",
            "테마공원 != 자연관광지 p값 : 0.028029761066502023\n",
            "-----------------------------------------------\n",
            "<골프장(육상레저스포츠)>\n",
            "골프장(육상레저스포츠) != 시장 p값 : 0.003950125310557715\n",
            "골프장(육상레저스포츠) != 콘도미니엄 p값 : 0.004320630505564653\n",
            "골프장(육상레저스포츠) != 자연경관(하천/해양) p값 : 0.003503375378683525\n",
            "골프장(육상레저스포츠) != 기타문화관광지 p값 : 0.04132719924970156\n",
            "골프장(육상레저스포츠) != 역사유적지 p값 : 0.04715743526842633\n",
            "-----------------------------------------------\n",
            "<기타문화관광지>\n",
            "기타문화관광지 != 시장 p값 : 0.01910859094087986\n",
            "기타문화관광지 != 콘도미니엄 p값 : 0.0035625904546696483\n",
            "기타문화관광지 != 호텔 p값 : 0.01522744705051794\n",
            "기타문화관광지 != 자연경관(하천/해양) p값 : 0.0006780633212001519\n",
            "기타문화관광지 != 테마공원 p값 : 0.040993927352866014\n",
            "기타문화관광지 != 골프장(육상레저스포츠) p값 : 0.04132719924970156\n",
            "기타문화관광지 != 종교성지 p값 : 0.004919644920792543\n",
            "기타문화관광지 != 기타관광 p값 : 0.002197963194077473\n",
            "기타문화관광지 != 복합관광지 p값 : 0.01759173271936315\n",
            "기타문화관광지 != 역사유적지 p값 : 0.0012887417105398556\n",
            "기타문화관광지 != 전시시설 p값 : 0.04507708985771969\n",
            "기타문화관광지 != 도시공원 p값 : 0.030207078074451187\n",
            "-----------------------------------------------\n",
            "<종교성지>\n",
            "종교성지 != 콘도미니엄 p값 : 0.04161943223569417\n",
            "종교성지 != 기타문화관광지 p값 : 0.004919644920792543\n",
            "종교성지 != 자연관광지 p값 : 0.04529164075397964\n",
            "-----------------------------------------------\n",
            "<기타관광>\n",
            "기타관광 != 시장 p값 : 0.03365843132186239\n",
            "기타관광 != 콘도미니엄 p값 : 0.021718164630885873\n",
            "기타관광 != 기타문화관광지 p값 : 0.002197963194077473\n",
            "기타관광 != 자연관광지 p값 : 0.029408695035128943\n",
            "-----------------------------------------------\n",
            "<복합관광지>\n",
            "복합관광지 != 시장 p값 : 0.01643624341501741\n",
            "복합관광지 != 콘도미니엄 p값 : 0.013975546462704384\n",
            "복합관광지 != 기타문화관광지 p값 : 0.01759173271936315\n",
            "-----------------------------------------------\n",
            "<역사유적지>\n",
            "역사유적지 != 골프장(육상레저스포츠) p값 : 0.04715743526842633\n",
            "역사유적지 != 기타문화관광지 p값 : 0.0012887417105398556\n",
            "역사유적지 != 자연관광지 p값 : 0.010503183385836074\n",
            "-----------------------------------------------\n",
            "<자연관광지>\n",
            "자연관광지 != 시장 p값 : 0.0007411017325192008\n",
            "자연관광지 != 콘도미니엄 p값 : 0.0009795478094551642\n",
            "자연관광지 != 자연경관(하천/해양) p값 : 0.00019302324844975031\n",
            "자연관광지 != 테마공원 p값 : 0.028029761066502023\n",
            "자연관광지 != 종교성지 p값 : 0.04529164075397964\n",
            "자연관광지 != 기타관광 p값 : 0.029408695035128943\n",
            "자연관광지 != 역사유적지 p값 : 0.010503183385836074\n",
            "자연관광지 != 전시시설 p값 : 0.039811457783680546\n",
            "자연관광지 != 도시공원 p값 : 0.04698149881708636\n",
            "-----------------------------------------------\n",
            "<전시시설>\n",
            "전시시설 != 기타문화관광지 p값 : 0.04507708985771969\n",
            "전시시설 != 자연관광지 p값 : 0.039811457783680546\n",
            "-----------------------------------------------\n",
            "<도시공원>\n",
            "도시공원 != 콘도미니엄 p값 : 0.04399655169623631\n",
            "도시공원 != 기타문화관광지 p값 : 0.030207078074451187\n",
            "도시공원 != 자연관광지 p값 : 0.04698149881708636\n",
            "-----------------------------------------------\n"
          ]
        }
      ],
      "source": [
        "from scipy import stats\n",
        "\n",
        "for i in t_category:\n",
        "    print(f'<{i}>')\n",
        "    group1 = tour_result.loc[tour_result[\"대분류\"]==i, '외지인 검색 수']\n",
        "    for j in t_category:\n",
        "        group2 = tour_result.loc[tour_result[\"대분류\"]==j, '외지인 검색 수']\n",
        "        # 등분산 검정\n",
        "        statistic, p_value = stats.levene(group1, group2)\n",
        "\n",
        "        # 유의수준 0.05로 검정\n",
        "        if p_value < 0.05:\n",
        "#             print(\"두 집단은 이분산을 가정할 수 있습니다.\")\n",
        "            t_stat, p_value_t = stats.ttest_ind(group1, group2, equal_var=False, alternative='two-sided')\n",
        "        else:\n",
        "#             print(\"두 집단은 등분산을 가정할 수 있습니다.\")\n",
        "            t_stat, p_value_t = stats.ttest_ind(group1, group2, equal_var=True, alternative='two-sided')\n",
        "\n",
        "        if p_value_t < 0.05:\n",
        "            print(f'{i} != {j}', end = ' ')\n",
        "            print(f'p값 : {p_value_t}')\n",
        "#         else:\n",
        "#             print(f'{i} == {j}')\n",
        "    print('-----------------------------------------------')"
      ],
      "id": "f77ebd7d"
    },
    {
      "cell_type": "markdown",
      "metadata": {
        "id": "792b090a"
      },
      "source": [
        "### 단측검정"
      ],
      "id": "792b090a"
    },
    {
      "cell_type": "code",
      "execution_count": null,
      "metadata": {
        "scrolled": true,
        "id": "319f57bf",
        "outputId": "2174ec7f-28c1-4b76-8bcc-8bfde71c43be"
      },
      "outputs": [
        {
          "name": "stdout",
          "output_type": "stream",
          "text": [
            "<시장>\n",
            "시장 >> 호텔 p값 : 0.008065860429207329\n",
            "시장 >> 골프장(육상레저스포츠) p값 : 0.0019750626552788573\n",
            "시장 >> 기타문화관광지 p값 : 0.00955429547043993\n",
            "시장 >> 기타관광 p값 : 0.016829215660931197\n",
            "시장 >> 복합관광지 p값 : 0.008218121707508705\n",
            "시장 >> 자연관광지 p값 : 0.0003705508662596004\n",
            "시장 >> 도시공원 p값 : 0.045054792452584896\n",
            "-----------------------------------------------\n",
            "<콘도미니엄>\n",
            "콘도미니엄 >> 호텔 p값 : 0.007570556127843256\n",
            "콘도미니엄 >> 자연경관(하천/해양) p값 : 0.047778293287985996\n",
            "콘도미니엄 >> 골프장(육상레저스포츠) p값 : 0.0021603152527823266\n",
            "콘도미니엄 >> 기타문화관광지 p값 : 0.0017812952273348242\n",
            "콘도미니엄 >> 종교성지 p값 : 0.020809716117847085\n",
            "콘도미니엄 >> 기타관광 p값 : 0.010859082315442936\n",
            "콘도미니엄 >> 복합관광지 p값 : 0.006987773231352192\n",
            "콘도미니엄 >> 자연관광지 p값 : 0.0004897739047275821\n",
            "콘도미니엄 >> 도시공원 p값 : 0.021998275848118157\n",
            "-----------------------------------------------\n",
            "<호텔>\n",
            "호텔 >> 기타문화관광지 p값 : 0.00761372352525897\n",
            "-----------------------------------------------\n",
            "<자연경관(하천/해양)>\n",
            "자연경관(하천/해양) >> 호텔 p값 : 0.022391539392568206\n",
            "자연경관(하천/해양) >> 골프장(육상레저스포츠) p값 : 0.0017516876893417625\n",
            "자연경관(하천/해양) >> 기타문화관광지 p값 : 0.00033903166060007594\n",
            "자연경관(하천/해양) >> 복합관광지 p값 : 0.03654157320478738\n",
            "자연경관(하천/해양) >> 자연관광지 p값 : 9.651162422487516e-05\n",
            "-----------------------------------------------\n",
            "<테마공원>\n",
            "테마공원 >> 골프장(육상레저스포츠) p값 : 0.0338971260684324\n",
            "테마공원 >> 기타문화관광지 p값 : 0.020496963676433007\n",
            "테마공원 >> 자연관광지 p값 : 0.014014880533251011\n",
            "-----------------------------------------------\n",
            "<골프장(육상레저스포츠)>\n",
            "골프장(육상레저스포츠) >> 기타문화관광지 p값 : 0.02066359962485078\n",
            "-----------------------------------------------\n",
            "<기타문화관광지>\n",
            "-----------------------------------------------\n",
            "<종교성지>\n",
            "종교성지 >> 기타문화관광지 p값 : 0.0024598224603962714\n",
            "종교성지 >> 자연관광지 p값 : 0.02264582037698982\n",
            "-----------------------------------------------\n",
            "<기타관광>\n",
            "기타관광 >> 기타문화관광지 p값 : 0.0010989815970387366\n",
            "기타관광 >> 자연관광지 p값 : 0.014704347517564472\n",
            "-----------------------------------------------\n",
            "<복합관광지>\n",
            "복합관광지 >> 기타문화관광지 p값 : 0.008795866359681576\n",
            "-----------------------------------------------\n",
            "<역사유적지>\n",
            "역사유적지 >> 골프장(육상레저스포츠) p값 : 0.023578717634213164\n",
            "역사유적지 >> 기타문화관광지 p값 : 0.0006443708552699278\n",
            "역사유적지 >> 자연관광지 p값 : 0.005251591692918037\n",
            "-----------------------------------------------\n",
            "<자연관광지>\n",
            "-----------------------------------------------\n",
            "<전시시설>\n",
            "전시시설 >> 기타문화관광지 p값 : 0.022538544928859844\n",
            "전시시설 >> 자연관광지 p값 : 0.019905728891840273\n",
            "-----------------------------------------------\n",
            "<도시공원>\n",
            "도시공원 >> 기타문화관광지 p값 : 0.015103539037225593\n",
            "도시공원 >> 자연관광지 p값 : 0.02349074940854318\n",
            "-----------------------------------------------\n"
          ]
        }
      ],
      "source": [
        "# greater\n",
        "from scipy import stats\n",
        "\n",
        "for i in t_category:\n",
        "    print(f'<{i}>')\n",
        "    group1 = tour_result.loc[tour_result[\"대분류\"]==i, '외지인 검색 수']\n",
        "    for j in t_category:\n",
        "        group2 = tour_result.loc[tour_result[\"대분류\"]==j, '외지인 검색 수']\n",
        "        # 등분산 검정\n",
        "        statistic, p_value = stats.levene(group1, group2)\n",
        "\n",
        "        # 유의수준 0.05로 검정\n",
        "        if p_value < 0.05:\n",
        "#             print(\"두 집단은 이분산을 가정할 수 있습니다.\")\n",
        "            t_stat, p_value_t = stats.ttest_ind(group1, group2, equal_var=False, alternative='greater')\n",
        "        else:\n",
        "#             print(\"두 집단은 등분산을 가정할 수 있습니다.\")\n",
        "            t_stat, p_value_t = stats.ttest_ind(group1, group2, equal_var=True, alternative='greater')\n",
        "\n",
        "        if p_value_t < 0.05:\n",
        "            print(f'{i} >> {j}', end = ' ')\n",
        "            print(f'p값 : {p_value_t}')\n",
        "#         else:\n",
        "#             print(f'{i} == {j}')\n",
        "    print('-----------------------------------------------')"
      ],
      "id": "319f57bf"
    },
    {
      "cell_type": "markdown",
      "metadata": {
        "id": "0ffadf03"
      },
      "source": [
        "## 3-3) 관광지 수 분석\n",
        "\n",
        "### t-test"
      ],
      "id": "0ffadf03"
    },
    {
      "cell_type": "code",
      "execution_count": null,
      "metadata": {
        "scrolled": true,
        "id": "0beb8784",
        "outputId": "125c673e-ebc6-4f21-9e91-39687b9bfad9"
      },
      "outputs": [
        {
          "name": "stdout",
          "output_type": "stream",
          "text": [
            "group1의 행 개수 : 35\n",
            "group2의 행 개수 : 32\n",
            "group3의 행 개수 : 42\n",
            "group4의 행 개수 : 40\n",
            "group5의 행 개수 : 34\n",
            "등분산\n",
            "등분산\n",
            "등분산\n",
            "이분산\n"
          ]
        }
      ],
      "source": [
        "# 표본 수가 30이상이 되도록 설정\n",
        "# 1) 1개/2개/3-4개 => 1개 = 2개\n",
        "# 2) 2개/3-4개/5-7개/8~18개 => <<<\n",
        "group1 = general_tour_popu.loc[(general_tour_popu['관광지 수'] >= 1) & (general_tour_popu['관광지 수'] <= 1), '외지인 검색 수']\n",
        "group2 = general_tour_popu.loc[(general_tour_popu['관광지 수'] >= 2) & (general_tour_popu['관광지 수'] <= 2), '외지인 검색 수']\n",
        "group3 = general_tour_popu.loc[(general_tour_popu['관광지 수'] >= 3) & (general_tour_popu['관광지 수'] <= 4), '외지인 검색 수']\n",
        "group4 = general_tour_popu.loc[(general_tour_popu['관광지 수'] >= 5) & (general_tour_popu['관광지 수'] <= 8), '외지인 검색 수']\n",
        "group5 = general_tour_popu.loc[(general_tour_popu['관광지 수'] >= 9), '외지인 검색 수']\n",
        "\n",
        "\n",
        "print(f'group1의 행 개수 : {len(group1)}\\ngroup2의 행 개수 : {len(group2)}\\ngroup3의 행 개수 : {len(group3)}')\n",
        "print(f'group4의 행 개수 : {len(group4)}\\ngroup5의 행 개수 : {len(group5)}')\n",
        "# 등분산/이분산 검정\n",
        "def equal_var(group1, group2):\n",
        "    statistic, p_value = stats.levene(group1, group2)\n",
        "    if p_value < 0.05:\n",
        "        print('이분산')\n",
        "    else:\n",
        "        print('등분산')\n",
        "\n",
        "equal_var(group1,group2)\n",
        "equal_var(group2,group3)\n",
        "equal_var(group3,group4)\n",
        "equal_var(group4,group5)"
      ],
      "id": "0beb8784"
    },
    {
      "cell_type": "code",
      "execution_count": null,
      "metadata": {
        "scrolled": true,
        "id": "6f8cc692",
        "outputId": "dd4694bc-95c7-4f0f-ee58-3b257c11f1e5"
      },
      "outputs": [
        {
          "name": "stdout",
          "output_type": "stream",
          "text": [
            "p값 : 0.06686929486344197\n",
            "@@group1과 group2의 외지인 검색 수는 유의미한 차이가 없다\n",
            "p값 : 0.013438616472535426\n",
            "group2의 외지인 검색 수가 group3의 외지인 검색 수보다 작다.\n",
            "p값 : 0.04550106850217111\n",
            "group3의 외지인 검색 수가 group4의 외지인 검색 수보다 작다.\n",
            "p값 : 0.00013619088546697842\n",
            "group4의 외지인 검색 수가 group5의 외지인 검색 수보다 작다.\n"
          ]
        }
      ],
      "source": [
        "# 관광지 수에 따른 t검정\n",
        "# group1, group2\n",
        "t_stat, p_value = stats.ttest_ind(group1, group2, equal_var=True, alternative='less')\n",
        "print(f'p값 : {p_value}')\n",
        "if p_value < 0.05:\n",
        "    print('group1의 외지인 검색 수가 group2의 외지인 검색 수보다 작다.')\n",
        "else:\n",
        "    print('@@group1과 group2의 외지인 검색 수는 유의미한 차이가 없다')\n",
        "\n",
        "# group2, group3\n",
        "t_stat, p_value = stats.ttest_ind(group2, group3, equal_var=True, alternative='less')\n",
        "print(f'p값 : {p_value}')\n",
        "if p_value < 0.05:\n",
        "    print('group2의 외지인 검색 수가 group3의 외지인 검색 수보다 작다.')\n",
        "else:\n",
        "    print('@@group1과 group3의 외지인 검색 수는 유의미한 차이가 없다')\n",
        "\n",
        "# group3, group4\n",
        "t_stat, p_value = stats.ttest_ind(group3, group4, equal_var=True, alternative='less')\n",
        "print(f'p값 : {p_value}')\n",
        "if p_value < 0.05:\n",
        "    print('group3의 외지인 검색 수가 group4의 외지인 검색 수보다 작다.')\n",
        "else:\n",
        "    print('@@group3과 group4의 외지인 검색 수는 유의미한 차이가 없다')\n",
        "\n",
        "# group4, group5\n",
        "t_stat, p_value = stats.ttest_ind(group4, group5, equal_var=False, alternative='less')\n",
        "print(f'p값 : {p_value}')\n",
        "if p_value < 0.05:\n",
        "    print('group4의 외지인 검색 수가 group5의 외지인 검색 수보다 작다.')\n",
        "else:\n",
        "    print('@@group2과 group3의 외지인 검색 수는 유의미한 차이가 없다')"
      ],
      "id": "6f8cc692"
    },
    {
      "cell_type": "markdown",
      "metadata": {
        "id": "96c65898"
      },
      "source": [
        "### BoxPlot"
      ],
      "id": "96c65898"
    },
    {
      "cell_type": "code",
      "execution_count": null,
      "metadata": {
        "scrolled": true,
        "id": "c69300b6",
        "outputId": "142a093e-15eb-4f83-f757-e8b0fcc552a9"
      },
      "outputs": [
        {
          "data": {
            "image/png": "[encoded data removed]",
            "text/plain": [
              "<Figure size 1000x600 with 1 Axes>"
            ]
          },
          "metadata": {},
          "output_type": "display_data"
        }
      ],
      "source": [
        "# 관광지 수 group별로 박스플롯 그리기\n",
        "\n",
        "# 그래프 크기 설정\n",
        "plt.figure(figsize=(10, 6))\n",
        "\n",
        "# 5개 그룹의 데이터로 박스플롯 그리기\n",
        "sns.boxplot(data=[group1, group2, group3, group4, group5],\n",
        "            showfliers=False,  # 이상치 제외\n",
        "            notch=False,        # 신뢰구간 표시\n",
        "            palette='Set3')\n",
        "\n",
        "# 그래프 설정\n",
        "plt.xlabel('관광지 수')\n",
        "plt.ylabel('외지인 검색 수')\n",
        "plt.title('관광지 수에 따른 외지인 검색 수 Box Plot')\n",
        "plt.xticks([0, 1, 2, 3, 4], ['1', '2', '3-4', '5-8', '9+'])\n",
        "plt.grid(axis='y')\n",
        "\n",
        "# 그래프 출력\n",
        "plt.savefig('관광지 수에 따른 외지인 검색 수.png')\n",
        "plt.show()\n"
      ],
      "id": "c69300b6"
    },
    {
      "cell_type": "code",
      "execution_count": null,
      "metadata": {
        "scrolled": true,
        "id": "1cb388dc",
        "outputId": "6ac5002c-b8c3-4d95-c597-943aee9c2f80"
      },
      "outputs": [
        {
          "name": "stdout",
          "output_type": "stream",
          "text": [
            "관광지 유형 : 테마공원\n",
            "관광지 유형 : 시장\n",
            "관광지 유형 : 전시시설\n",
            "관광지 유형 : 콘도미니엄\n",
            "관광지 유형 : 골프장(육상레저스포츠)\n",
            "관광지 유형 : 호텔\n",
            "관광지 유형 : 도시공원\n",
            "관광지 유형 : 자연경관(하천/해양)\n",
            "관광지 유형 : 역사유적지\n",
            "관광지 유형 : 복합관광지\n",
            "관광지 유형 : 기타관광\n",
            "관광지 유형 : 기타문화관광지\n",
            "관광지 유형 : 종교성지\n",
            "관광지 유형 : 자연관광지\n"
          ]
        },
        {
          "data": {
            "text/plain": [
              "{'테마공원': 77347.55,\n",
              " '시장': 81502.77876106194,\n",
              " '전시시설': 63061.90540540541,\n",
              " '콘도미니엄': 84590.5,\n",
              " '골프장(육상레저스포츠)': 44726.74820143885,\n",
              " '호텔': 50653.66433566433,\n",
              " '도시공원': 55570.24705882353,\n",
              " '자연경관(하천/해양)': 64540.05128205128,\n",
              " '역사유적지': 66389.60975609756,\n",
              " '복합관광지': 49413.56923076923,\n",
              " '기타관광': 53908.57534246575,\n",
              " '기타문화관광지': 25143.103448275862,\n",
              " '종교성지': 53827.142857142855,\n",
              " '자연관광지': 37627.6976744186}"
            ]
          },
          "execution_count": 19,
          "metadata": {},
          "output_type": "execute_result"
        }
      ],
      "source": [
        "# categories #'테마공원', '시장', '전시시설', '콘도미니엄', '골프장(육상레저스포츠)', '호텔', '도시공원',\n",
        "#        '자연경관(하천/해양)', '역사유적지', '복합관광지', '기타관광', '기타문화관광지', '종교성지',\n",
        "#        '자연관광지'\n",
        "mean_dict = {}\n",
        "for k in categories:\n",
        "    print(f'관광지 유형 : {k}')\n",
        "    mean = tour_result.loc[tour_result['대분류'] == k,'외지인 검색 수'].mean()\n",
        "    mean_dict[k] = mean\n",
        "mean_dict"
      ],
      "id": "1cb388dc"
    },
    {
      "cell_type": "code",
      "execution_count": null,
      "metadata": {
        "scrolled": true,
        "id": "dc6f83e4",
        "outputId": "ed12e154-abd0-4a0f-e358-b07b8002c02e"
      },
      "outputs": [
        {
          "name": "stdout",
          "output_type": "stream",
          "text": [
            "{'콘도미니엄': 84590.5, '시장': 81502.77876106194, '테마공원': 77347.55, '역사유적지': 66389.60975609756, '자연경관(하천/해양)': 64540.05128205128, '전시시설': 63061.90540540541, '도시공원': 55570.24705882353, '기타관광': 53908.57534246575, '종교성지': 53827.142857142855, '호텔': 50653.66433566433, '복합관광지': 49413.56923076923, '골프장(육상레저스포츠)': 44726.74820143885, '자연관광지': 37627.6976744186, '기타문화관광지': 25143.103448275862}\n"
          ]
        }
      ],
      "source": [
        "# value 값을 기준으로 내림차순으로 정렬\n",
        "sorted_data = {k: v for k, v in sorted(mean_dict.items(), key=lambda item: item[1], reverse=True)}\n",
        "\n",
        "print(sorted_data)\n",
        "# mean 기준\n",
        "# 콘도미니엄 > 시장 > 테마공원 > 역사유적지 > 자연경관(하천/해양) > 전시시설 > 도시공원 > 기타관광 > 종교성지 > 호텔 > 복합관광지 > 골프장 > 자연관광지 > 기타문화관광지"
      ],
      "id": "dc6f83e4"
    },
    {
      "cell_type": "code",
      "execution_count": null,
      "metadata": {
        "scrolled": true,
        "id": "13e88ce6",
        "outputId": "97f73bea-1d72-4cc9-d33c-41e76ed3afef"
      },
      "outputs": [
        {
          "name": "stdout",
          "output_type": "stream",
          "text": [
            "관광지 유형 : 테마공원\n",
            "관광지 유형 : 시장\n",
            "관광지 유형 : 전시시설\n",
            "관광지 유형 : 콘도미니엄\n",
            "관광지 유형 : 골프장(육상레저스포츠)\n",
            "관광지 유형 : 호텔\n",
            "관광지 유형 : 도시공원\n",
            "관광지 유형 : 자연경관(하천/해양)\n",
            "관광지 유형 : 역사유적지\n",
            "관광지 유형 : 복합관광지\n",
            "관광지 유형 : 기타관광\n",
            "관광지 유형 : 기타문화관광지\n",
            "관광지 유형 : 종교성지\n",
            "관광지 유형 : 자연관광지\n"
          ]
        },
        {
          "data": {
            "text/plain": [
              "{'테마공원': 36771.5,\n",
              " '시장': 40438.0,\n",
              " '전시시설': 28754.0,\n",
              " '콘도미니엄': 52750.0,\n",
              " '골프장(육상레저스포츠)': 31786.0,\n",
              " '호텔': 34404.0,\n",
              " '도시공원': 31293.0,\n",
              " '자연경관(하천/해양)': 47243.0,\n",
              " '역사유적지': 40007.0,\n",
              " '복합관광지': 34037.0,\n",
              " '기타관광': 42204.0,\n",
              " '기타문화관광지': 16538.0,\n",
              " '종교성지': 37910.5,\n",
              " '자연관광지': 28363.0}"
            ]
          },
          "execution_count": 21,
          "metadata": {},
          "output_type": "execute_result"
        }
      ],
      "source": [
        "# categories #'테마공원', '시장', '전시시설', '콘도미니엄', '골프장(육상레저스포츠)', '호텔', '도시공원',\n",
        "#        '자연경관(하천/해양)', '역사유적지', '복합관광지', '기타관광', '기타문화관광지', '종교성지',\n",
        "#        '자연관광지'\n",
        "median_dict = {}\n",
        "for k in categories:\n",
        "    print(f'관광지 유형 : {k}')\n",
        "    median = tour_result.loc[tour_result['대분류'] == k,'외지인 검색 수'].median()\n",
        "    median_dict[k] = median\n",
        "median_dict"
      ],
      "id": "13e88ce6"
    },
    {
      "cell_type": "code",
      "execution_count": null,
      "metadata": {
        "scrolled": true,
        "id": "8b589216",
        "outputId": "80b890bb-a94c-4479-e2fb-c8ed69951c5e"
      },
      "outputs": [
        {
          "name": "stdout",
          "output_type": "stream",
          "text": [
            "{'콘도미니엄': 52750.0, '자연경관(하천/해양)': 47243.0, '기타관광': 42204.0, '시장': 40438.0, '역사유적지': 40007.0, '종교성지': 37910.5, '테마공원': 36771.5, '호텔': 34404.0, '복합관광지': 34037.0, '골프장(육상레저스포츠)': 31786.0, '도시공원': 31293.0, '전시시설': 28754.0, '자연관광지': 28363.0, '기타문화관광지': 16538.0}\n"
          ]
        }
      ],
      "source": [
        "# value 값을 기준으로 내림차순으로 정렬\n",
        "sorted_data = {k: v for k, v in sorted(median_dict.items(), key=lambda item: item[1], reverse=True)}\n",
        "\n",
        "print(sorted_data)\n",
        "# median 기준\n",
        "# 콘도미니엄 > 자연경관(하천/해양) > 기타관광 > 시장 > 역사유적지 > 종교성지 > 테마공원 > 호텔 > 복합관광지 > 골프장(육상레저스포츠) > 도시공원 > 전시시설 > 자연관광지 > 기타문화관광지"
      ],
      "id": "8b589216"
    },
    {
      "cell_type": "code",
      "execution_count": null,
      "metadata": {
        "scrolled": true,
        "id": "1c18ad8c",
        "outputId": "1bc13dc5-1d4c-45de-f64a-f46729d5fef3"
      },
      "outputs": [
        {
          "name": "stdout",
          "output_type": "stream",
          "text": [
            "<관광유형과 외지인 검색 수의 피어슨상관분석>\n",
            "\n",
            "테마공원과/와 외지인 검색 수의 상관계수: 0.30203377690907496\n",
            "p-value: 3.248554024619313e-05 \n",
            "\n",
            "시장과/와 외지인 검색 수의 상관계수: 0.2941550230760564\n",
            "p-value: 5.3047913279712505e-05 \n",
            "\n",
            "전시시설과/와 외지인 검색 수의 상관계수: 0.29568568246187593\n",
            "p-value: 4.828074525889111e-05 \n",
            "\n",
            "콘도미니엄과/와 외지인 검색 수의 상관계수: 0.6396090373606891\n",
            "p-value: 1.9286682639422215e-22 \n",
            "\n",
            "골프장(육상레저스포츠)과/와 외지인 검색 수의 상관계수: 0.21829239350773486\n",
            "p-value: 0.0029910473490436886 \n",
            "\n",
            "호텔과/와 외지인 검색 수의 상관계수: 0.5192666963606911\n",
            "p-value: 5.0247144767568884e-14 \n",
            "\n",
            "도시공원과/와 외지인 검색 수의 상관계수: 0.13827143518344456\n",
            "p-value: 0.06194896291643563 \n",
            "\n",
            "자연경관(하천/해양)과/와 외지인 검색 수의 상관계수: 0.42739414731705105\n",
            "p-value: 1.5988276794084697e-09 \n",
            "\n",
            "역사유적지과/와 외지인 검색 수의 상관계수: 0.25134907176929155\n",
            "p-value: 0.000598803348844395 \n",
            "\n",
            "복합관광지과/와 외지인 검색 수의 상관계수: 0.4510710901665847\n",
            "p-value: 1.4738228088524283e-10 \n",
            "\n",
            "기타관광과/와 외지인 검색 수의 상관계수: 0.2905123770232322\n",
            "p-value: 6.623082582962576e-05 \n",
            "\n",
            "기타문화관광지과/와 외지인 검색 수의 상관계수: 0.09093588441116837\n",
            "p-value: 0.22085158022488277 \n",
            "\n",
            "종교성지과/와 외지인 검색 수의 상관계수: 0.054715800948645525\n",
            "p-value: 0.4619369571135696 \n",
            "\n",
            "자연관광지과/와 외지인 검색 수의 상관계수: 0.30047895663025515\n",
            "p-value: 3.582694170247503e-05 \n",
            "\n"
          ]
        },
        {
          "data": {
            "text/plain": [
              "['도시공원', '기타문화관광지', '종교성지']"
            ]
          },
          "execution_count": 23,
          "metadata": {},
          "output_type": "execute_result"
        }
      ],
      "source": [
        "from scipy.stats import pearsonr\n",
        "not_p_list = []\n",
        "\n",
        "print('<관광유형과 외지인 검색 수의 피어슨상관분석>\\n')\n",
        "for k in categories:\n",
        "    # 상관계수 & p-value 계산\n",
        "    corr_coef, p_value = pearsonr(general_tour_popu[k], general_tour_popu['외지인 검색 수'])\n",
        "\n",
        "    print(f\"{k}과/와 외지인 검색 수의 상관계수:\", corr_coef)\n",
        "    print(\"p-value:\", p_value, \"\\n\")\n",
        "    if p_value > 0.05:\n",
        "        not_p_list.append(k)\n",
        "not_p_list"
      ],
      "id": "1c18ad8c"
    },
    {
      "cell_type": "code",
      "execution_count": null,
      "metadata": {
        "scrolled": true,
        "id": "1f24d4e8",
        "outputId": "0f47208c-508e-4a12-d17a-cc26cf9e99b9"
      },
      "outputs": [
        {
          "data": {
            "text/html": [
              "<div>\n",
              "<style scoped>\n",
              "    .dataframe tbody tr th:only-of-type {\n",
              "        vertical-align: middle;\n",
              "    }\n",
              "\n",
              "    .dataframe tbody tr th {\n",
              "        vertical-align: top;\n",
              "    }\n",
              "\n",
              "    .dataframe thead th {\n",
              "        text-align: right;\n",
              "    }\n",
              "</style>\n",
              "<table border=\"1\" class=\"dataframe\">\n",
              "  <thead>\n",
              "    <tr style=\"text-align: right;\">\n",
              "      <th></th>\n",
              "      <th>시도명</th>\n",
              "      <th>시군구명</th>\n",
              "      <th>외지인 검색 수</th>\n",
              "      <th>관광지 수</th>\n",
              "      <th>골프장(육상레저스포츠)</th>\n",
              "      <th>기타관광</th>\n",
              "      <th>기타문화관광지</th>\n",
              "      <th>도시공원</th>\n",
              "      <th>복합관광지</th>\n",
              "      <th>시장</th>\n",
              "      <th>역사유적지</th>\n",
              "      <th>자연경관(하천/해양)</th>\n",
              "      <th>자연관광지</th>\n",
              "      <th>전시시설</th>\n",
              "      <th>종교성지</th>\n",
              "      <th>콘도미니엄</th>\n",
              "      <th>테마공원</th>\n",
              "      <th>호텔</th>\n",
              "      <th>계</th>\n",
              "    </tr>\n",
              "  </thead>\n",
              "  <tbody>\n",
              "    <tr>\n",
              "      <th>0</th>\n",
              "      <td>강원특별자치도</td>\n",
              "      <td>강릉시</td>\n",
              "      <td>1748289</td>\n",
              "      <td>16</td>\n",
              "      <td>0</td>\n",
              "      <td>0</td>\n",
              "      <td>0</td>\n",
              "      <td>0</td>\n",
              "      <td>2</td>\n",
              "      <td>2</td>\n",
              "      <td>1</td>\n",
              "      <td>5</td>\n",
              "      <td>0</td>\n",
              "      <td>1</td>\n",
              "      <td>0</td>\n",
              "      <td>2</td>\n",
              "      <td>0</td>\n",
              "      <td>3</td>\n",
              "      <td>210456</td>\n",
              "    </tr>\n",
              "    <tr>\n",
              "      <th>1</th>\n",
              "      <td>강원특별자치도</td>\n",
              "      <td>고성군</td>\n",
              "      <td>499691</td>\n",
              "      <td>7</td>\n",
              "      <td>1</td>\n",
              "      <td>0</td>\n",
              "      <td>0</td>\n",
              "      <td>0</td>\n",
              "      <td>1</td>\n",
              "      <td>0</td>\n",
              "      <td>0</td>\n",
              "      <td>2</td>\n",
              "      <td>0</td>\n",
              "      <td>0</td>\n",
              "      <td>0</td>\n",
              "      <td>3</td>\n",
              "      <td>0</td>\n",
              "      <td>0</td>\n",
              "      <td>27311</td>\n",
              "    </tr>\n",
              "    <tr>\n",
              "      <th>2</th>\n",
              "      <td>강원특별자치도</td>\n",
              "      <td>동해시</td>\n",
              "      <td>122524</td>\n",
              "      <td>2</td>\n",
              "      <td>0</td>\n",
              "      <td>0</td>\n",
              "      <td>0</td>\n",
              "      <td>0</td>\n",
              "      <td>0</td>\n",
              "      <td>0</td>\n",
              "      <td>0</td>\n",
              "      <td>2</td>\n",
              "      <td>0</td>\n",
              "      <td>0</td>\n",
              "      <td>0</td>\n",
              "      <td>0</td>\n",
              "      <td>0</td>\n",
              "      <td>0</td>\n",
              "      <td>89058</td>\n",
              "    </tr>\n",
              "    <tr>\n",
              "      <th>3</th>\n",
              "      <td>강원특별자치도</td>\n",
              "      <td>삼척시</td>\n",
              "      <td>758197</td>\n",
              "      <td>3</td>\n",
              "      <td>0</td>\n",
              "      <td>0</td>\n",
              "      <td>0</td>\n",
              "      <td>0</td>\n",
              "      <td>0</td>\n",
              "      <td>0</td>\n",
              "      <td>0</td>\n",
              "      <td>2</td>\n",
              "      <td>0</td>\n",
              "      <td>0</td>\n",
              "      <td>0</td>\n",
              "      <td>1</td>\n",
              "      <td>0</td>\n",
              "      <td>0</td>\n",
              "      <td>63270</td>\n",
              "    </tr>\n",
              "    <tr>\n",
              "      <th>4</th>\n",
              "      <td>강원특별자치도</td>\n",
              "      <td>속초시</td>\n",
              "      <td>2572437</td>\n",
              "      <td>13</td>\n",
              "      <td>0</td>\n",
              "      <td>2</td>\n",
              "      <td>0</td>\n",
              "      <td>1</td>\n",
              "      <td>1</td>\n",
              "      <td>1</td>\n",
              "      <td>0</td>\n",
              "      <td>3</td>\n",
              "      <td>0</td>\n",
              "      <td>0</td>\n",
              "      <td>0</td>\n",
              "      <td>2</td>\n",
              "      <td>0</td>\n",
              "      <td>3</td>\n",
              "      <td>82474</td>\n",
              "    </tr>\n",
              "    <tr>\n",
              "      <th>...</th>\n",
              "      <td>...</td>\n",
              "      <td>...</td>\n",
              "      <td>...</td>\n",
              "      <td>...</td>\n",
              "      <td>...</td>\n",
              "      <td>...</td>\n",
              "      <td>...</td>\n",
              "      <td>...</td>\n",
              "      <td>...</td>\n",
              "      <td>...</td>\n",
              "      <td>...</td>\n",
              "      <td>...</td>\n",
              "      <td>...</td>\n",
              "      <td>...</td>\n",
              "      <td>...</td>\n",
              "      <td>...</td>\n",
              "      <td>...</td>\n",
              "      <td>...</td>\n",
              "      <td>...</td>\n",
              "    </tr>\n",
              "    <tr>\n",
              "      <th>178</th>\n",
              "      <td>충청북도</td>\n",
              "      <td>제천시</td>\n",
              "      <td>515253</td>\n",
              "      <td>12</td>\n",
              "      <td>2</td>\n",
              "      <td>2</td>\n",
              "      <td>0</td>\n",
              "      <td>0</td>\n",
              "      <td>1</td>\n",
              "      <td>1</td>\n",
              "      <td>1</td>\n",
              "      <td>1</td>\n",
              "      <td>0</td>\n",
              "      <td>0</td>\n",
              "      <td>0</td>\n",
              "      <td>3</td>\n",
              "      <td>0</td>\n",
              "      <td>1</td>\n",
              "      <td>131231</td>\n",
              "    </tr>\n",
              "    <tr>\n",
              "      <th>179</th>\n",
              "      <td>충청북도</td>\n",
              "      <td>증평군</td>\n",
              "      <td>32306</td>\n",
              "      <td>1</td>\n",
              "      <td>1</td>\n",
              "      <td>0</td>\n",
              "      <td>0</td>\n",
              "      <td>0</td>\n",
              "      <td>0</td>\n",
              "      <td>0</td>\n",
              "      <td>0</td>\n",
              "      <td>0</td>\n",
              "      <td>0</td>\n",
              "      <td>0</td>\n",
              "      <td>0</td>\n",
              "      <td>0</td>\n",
              "      <td>0</td>\n",
              "      <td>0</td>\n",
              "      <td>37349</td>\n",
              "    </tr>\n",
              "    <tr>\n",
              "      <th>180</th>\n",
              "      <td>충청북도</td>\n",
              "      <td>진천군</td>\n",
              "      <td>223976</td>\n",
              "      <td>6</td>\n",
              "      <td>5</td>\n",
              "      <td>0</td>\n",
              "      <td>0</td>\n",
              "      <td>0</td>\n",
              "      <td>0</td>\n",
              "      <td>0</td>\n",
              "      <td>1</td>\n",
              "      <td>0</td>\n",
              "      <td>0</td>\n",
              "      <td>0</td>\n",
              "      <td>0</td>\n",
              "      <td>0</td>\n",
              "      <td>0</td>\n",
              "      <td>0</td>\n",
              "      <td>85876</td>\n",
              "    </tr>\n",
              "    <tr>\n",
              "      <th>181</th>\n",
              "      <td>충청북도</td>\n",
              "      <td>청주시</td>\n",
              "      <td>584236</td>\n",
              "      <td>15</td>\n",
              "      <td>4</td>\n",
              "      <td>1</td>\n",
              "      <td>0</td>\n",
              "      <td>2</td>\n",
              "      <td>1</td>\n",
              "      <td>2</td>\n",
              "      <td>1</td>\n",
              "      <td>0</td>\n",
              "      <td>0</td>\n",
              "      <td>1</td>\n",
              "      <td>0</td>\n",
              "      <td>0</td>\n",
              "      <td>1</td>\n",
              "      <td>2</td>\n",
              "      <td>850168</td>\n",
              "    </tr>\n",
              "    <tr>\n",
              "      <th>182</th>\n",
              "      <td>충청북도</td>\n",
              "      <td>충주시</td>\n",
              "      <td>610254</td>\n",
              "      <td>16</td>\n",
              "      <td>13</td>\n",
              "      <td>0</td>\n",
              "      <td>0</td>\n",
              "      <td>1</td>\n",
              "      <td>1</td>\n",
              "      <td>0</td>\n",
              "      <td>0</td>\n",
              "      <td>0</td>\n",
              "      <td>1</td>\n",
              "      <td>0</td>\n",
              "      <td>0</td>\n",
              "      <td>0</td>\n",
              "      <td>0</td>\n",
              "      <td>0</td>\n",
              "      <td>207893</td>\n",
              "    </tr>\n",
              "  </tbody>\n",
              "</table>\n",
              "<p>183 rows × 19 columns</p>\n",
              "</div>"
            ],
            "text/plain": [
              "         시도명 시군구명  외지인 검색 수  관광지 수  골프장(육상레저스포츠)  기타관광  기타문화관광지  도시공원  복합관광지  \\\n",
              "0    강원특별자치도  강릉시   1748289     16             0     0        0     0      2   \n",
              "1    강원특별자치도  고성군    499691      7             1     0        0     0      1   \n",
              "2    강원특별자치도  동해시    122524      2             0     0        0     0      0   \n",
              "3    강원특별자치도  삼척시    758197      3             0     0        0     0      0   \n",
              "4    강원특별자치도  속초시   2572437     13             0     2        0     1      1   \n",
              "..       ...  ...       ...    ...           ...   ...      ...   ...    ...   \n",
              "178     충청북도  제천시    515253     12             2     2        0     0      1   \n",
              "179     충청북도  증평군     32306      1             1     0        0     0      0   \n",
              "180     충청북도  진천군    223976      6             5     0        0     0      0   \n",
              "181     충청북도  청주시    584236     15             4     1        0     2      1   \n",
              "182     충청북도  충주시    610254     16            13     0        0     1      1   \n",
              "\n",
              "     시장  역사유적지  자연경관(하천/해양)  자연관광지  전시시설  종교성지  콘도미니엄  테마공원  호텔       계  \n",
              "0     2      1            5      0     1     0      2     0   3  210456  \n",
              "1     0      0            2      0     0     0      3     0   0   27311  \n",
              "2     0      0            2      0     0     0      0     0   0   89058  \n",
              "3     0      0            2      0     0     0      1     0   0   63270  \n",
              "4     1      0            3      0     0     0      2     0   3   82474  \n",
              "..   ..    ...          ...    ...   ...   ...    ...   ...  ..     ...  \n",
              "178   1      1            1      0     0     0      3     0   1  131231  \n",
              "179   0      0            0      0     0     0      0     0   0   37349  \n",
              "180   0      1            0      0     0     0      0     0   0   85876  \n",
              "181   2      1            0      0     1     0      0     1   2  850168  \n",
              "182   0      0            0      1     0     0      0     0   0  207893  \n",
              "\n",
              "[183 rows x 19 columns]"
            ]
          },
          "execution_count": 24,
          "metadata": {},
          "output_type": "execute_result"
        }
      ],
      "source": [
        "general_tour_popu.iloc[:,:-2]"
      ],
      "id": "1f24d4e8"
    },
    {
      "cell_type": "markdown",
      "metadata": {
        "id": "656a9d7c"
      },
      "source": [
        "## 4. 외지인 검색 수와 총 방문자수 상관관계 및 t검정"
      ],
      "id": "656a9d7c"
    },
    {
      "cell_type": "code",
      "execution_count": null,
      "metadata": {
        "scrolled": true,
        "id": "62631694"
      },
      "outputs": [],
      "source": [
        "df = pd.read_csv('/Users/bagtaejeong/Desktop/DSL/EDA/관광/데이터/CB_merged_df.csv')\n",
        "\n",
        "search_group = df['외지인 검색 수'] #209\n",
        "visit_group = df['총계'] #209"
      ],
      "id": "62631694"
    },
    {
      "cell_type": "code",
      "execution_count": null,
      "metadata": {
        "scrolled": true,
        "id": "0226a672",
        "outputId": "bd457c86-a3e2-42f4-d5e1-74ad4e8fe465"
      },
      "outputs": [
        {
          "name": "stdout",
          "output_type": "stream",
          "text": [
            "총 방문자 수와 외지인 검색 수의 상관계수: 0.6443457510604329\n",
            "p-value: 6.578393568855331e-26\n"
          ]
        }
      ],
      "source": [
        "corr_coef, p_value = pearsonr(search_group, visit_group)\n",
        "\n",
        "print(f\"총 방문자 수와 외지인 검색 수의 상관계수:\", corr_coef)\n",
        "print(\"p-value:\", p_value)"
      ],
      "id": "0226a672"
    },
    {
      "cell_type": "code",
      "execution_count": null,
      "metadata": {
        "scrolled": true,
        "id": "bd6430e4",
        "outputId": "9e2b4d50-5c01-4939-851b-369f98b2d0cb"
      },
      "outputs": [
        {
          "name": "stdout",
          "output_type": "stream",
          "text": [
            "외지인 검색 수와 총 방문자 수의 평균은 같다.\n",
            "p값 : 0.1364135996927888\n"
          ]
        }
      ],
      "source": [
        "# t-test\n",
        "\n",
        "# 등분산 검정\n",
        "statistic, p_value = stats.levene(search_group, visit_group)\n",
        "\n",
        "# 유의수준 0.05로 검정\n",
        "if p_value < 0.05:\n",
        "    t_stat, p_value_t = stats.ttest_ind(group1, group2, equal_var=False, alternative='two-sided')\n",
        "else:\n",
        "    t_stat, p_value_t = stats.ttest_ind(group1, group2, equal_var=True, alternative='two-sided')\n",
        "\n",
        "if p_value_t < 0.05:\n",
        "    print('외지인 검색 수와 총 방문자 수의 평균은 다르다.')\n",
        "    print(f'p값 : {p_value_t}')\n",
        "\n",
        "else:\n",
        "    print('외지인 검색 수와 총 방문자 수의 평균은 같다.')\n",
        "    print(f'p값 : {p_value_t}')"
      ],
      "id": "bd6430e4"
    }
  ],
  "metadata": {
    "kernelspec": {
      "display_name": "Python 3 (ipykernel)",
      "language": "python",
      "name": "python3"
    },
    "language_info": {
      "codemirror_mode": {
        "name": "ipython",
        "version": 3
      },
      "file_extension": ".py",
      "mimetype": "text/x-python",
      "name": "python",
      "nbconvert_exporter": "python",
      "pygments_lexer": "ipython3",
      "version": "3.9.16"
    },
    "colab": {
      "provenance": [],
      "toc_visible": true
    }
  },
  "nbformat": 4,
  "nbformat_minor": 5
}