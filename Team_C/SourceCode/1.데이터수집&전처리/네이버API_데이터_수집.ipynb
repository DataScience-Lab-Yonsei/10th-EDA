{
  "nbformat": 4,
  "nbformat_minor": 0,
  "metadata": {
    "colab": {
      "provenance": []
    },
    "kernelspec": {
      "name": "python3",
      "display_name": "Python 3"
    },
    "language_info": {
      "name": "python"
    }
  },
  "cells": [
    {
      "cell_type": "markdown",
      "metadata": {
        "id": "mVv89TqSVQHT"
      },
      "source": [
        "# 라이브러리"
      ]
    },
    {
      "cell_type": "code",
      "execution_count": null,
      "metadata": {
        "id": "XMtYYLQGgPvs"
      },
      "outputs": [],
      "source": [
        "import numpy as np\n",
        "import pandas as pd\n",
        "import matplotlib.pyplot as plt\n",
        "import json\n",
        "import os\n",
        "import sys\n",
        "import urllib.request\n",
        "from datetime import datetime, time, timedelta\n",
        "import string\n",
        "from tqdm import tqdm\n",
        "import time as t\n",
        "import seaborn as sns\n",
        "from scipy.stats import pearsonr, shapiro, levene, spearmanr, ranksums, ttest_ind\n",
        "import ast\n",
        "client_id = \"\"          # 네이버 API id와 비밀번호를 입력하여야함.\n",
        "client_secret = \"\"\n"
      ]
    },
    {
      "cell_type": "markdown",
      "source": [
        "# 검색량 찾기 함수\n",
        "def df_search(keyword, details, stardate, enddate, ages, gender, device = 'mo', timeunit = 'date'):  \n",
        "keyword = ['멜로가체질', '천우희', '패션'] # keyword list  \n",
        "details = [['멜로가체질'], ['천우희'], ['패션', '옷', '블라우스']] # 세부검색  \n",
        "startdate = '2019-01-01' # 시작날짜 형식:2022-01-03  \n",
        "enddate = '2020-01-01' # 종료날짜  \n",
        "ages = ['1','2','3'] # 연령대 1:0-12, 2:13-18, 3:19-24, 4:25-29, 5:30-34, 6:35-39, 7:40-44, 8:45-49, 9:50-54, 10:55-59, 11:60- 미입력시 전체  \n",
        "gender = 'f' # 성별 m:남, f:여 미입력시 전체  \n",
        "device = 'pc' # 검색도구 pc:pc, mo:모바일 미입력시 전체  \n",
        "timeunit = 'date' # 시간단위 date:일간, week:주간, month:월간  "
      ],
      "metadata": {
        "id": "8qLhAFkE0HpX"
      }
    },
    {
      "cell_type": "code",
      "source": [
        "def df_search(keyword, details, startdate, enddate, ages, gender, device = 'mo', timeunit = 'date'):\n",
        "  url = \"https://openapi.naver.com/v1/datalab/search\";\n",
        "  body = \"{\\\"startDate\\\":\\\"2017-01-01\\\",\\\"endDate\\\":\\\"2017-04-30\\\",\\\"timeUnit\\\":\\\"month\\\",\\\"keywordGroups\\\":[{\\\"groupName\\\":\\\"한글\\\",\\\"keywords\\\":[\\\"한글\\\",\\\"korean\\\"]},{\\\"groupName\\\":\\\"영어\\\",\\\"keywords\\\":[\\\"영어\\\",\\\"english\\\"]}],\\\"device\\\":\\\"pc\\\",\\\"ages\\\":[\\\"1\\\",\\\"2\\\"],\\\"gender\\\":\\\"f\\\"}\";\n",
        "  body_json = json.loads(body)\n",
        "  body_json['startDate'] = startdate\n",
        "  body_json['endDate'] = enddate\n",
        "  body_json['timeUnit'] = timeunit\n",
        "  body_json['device'] = device\n",
        "  if ages != '':\n",
        "    body_json['ages'] = ages\n",
        "  else:\n",
        "    body_json['ages'] = ['1','2','3', '4','5','6','7', '8', '9', '10', '11']\n",
        "  body_json['gender'] = gender\n",
        "\n",
        "  body_json['keywordGroups'] = []\n",
        "  for i in range(len(keyword)):\n",
        "    body_json['keywordGroups'].append( {'groupName': f'{keyword[i]}', 'keywords': details[i]} )\n",
        "  body = json.dumps(body_json, ensure_ascii=False)\n",
        "\n",
        "\n",
        "  request = urllib.request.Request(url)\n",
        "  request.add_header(\"X-Naver-Client-Id\",client_id)\n",
        "  request.add_header(\"X-Naver-Client-Secret\",client_secret)\n",
        "  request.add_header(\"Content-Type\",\"application/json\")\n",
        "  response = urllib.request.urlopen(request, data=body.encode(\"utf-8\"))\n",
        "  rescode = response.getcode()\n",
        "  if(rescode==200):\n",
        "      response_body = response.read()\n",
        "      response_data = response_body.decode('utf-8')\n",
        "  else:\n",
        "      print(\"Error Code:\" + rescode)\n",
        "\n",
        "  result = json.loads(response_data)\n",
        "  df = pd.DataFrame()\n",
        "\n",
        "  # Iterate through each item in the 'results' list\n",
        "  for item in result['results']:\n",
        "      item_df = pd.DataFrame(item['data']).set_index('period')\n",
        "      item_df.columns = [item['title']]\n",
        "\n",
        "      # Append this DataFrame to the main DataFrame\n",
        "      df = pd.concat([df, item_df], axis=1)\n",
        "\n",
        "  df.fillna(0, inplace = True)\n",
        "  df.reset_index(inplace=True)\n",
        "\n",
        "  df['period'] = pd.to_datetime(df['period'])\n",
        "  df.sort_values('period', inplace=True)\n",
        "  df = df.reset_index(drop = True)\n",
        "\n",
        "  return df"
      ],
      "metadata": {
        "id": "PZZbcGu9z5Zf"
      },
      "execution_count": null,
      "outputs": []
    },
    {
      "cell_type": "markdown",
      "source": [
        "## 함수(search)"
      ],
      "metadata": {
        "id": "QRvlfGJ4bp7c"
      }
    },
    {
      "cell_type": "code",
      "source": [
        "def modify_detail(search_word, add_word, add = True):\n",
        "  if add == True:\n",
        "    for sub_list in detail_list:\n",
        "      if search_word in sub_list:\n",
        "        index2change = detail_list.index(sub_list)\n",
        "        print(index2change, detail_list[index2change])\n",
        "        detail_list[index2change].append(add_word)\n",
        "        print(detail_list[index2change])\n",
        "  else:\n",
        "     for sub_list in detail_list:\n",
        "      if search_word in sub_list:\n",
        "        index2change = detail_list.index(sub_list)\n",
        "        print(index2change, detail_list[index2change])\n"
      ],
      "metadata": {
        "id": "hPCdp6Iqc4_-"
      },
      "execution_count": null,
      "outputs": []
    },
    {
      "cell_type": "code",
      "source": [
        "def return_search_info(title):\n",
        "  k = meta.loc[meta['작품명'] == title]\n",
        "  keyword = [title, '기준']\n",
        "  startdate = k.iloc[0, 5][:10]\n",
        "  enddate = k.iloc[0, 6][:10]\n",
        "  return keyword, startdate, enddate"
      ],
      "metadata": {
        "id": "FIqlPRZn5puA"
      },
      "execution_count": null,
      "outputs": []
    },
    {
      "cell_type": "markdown",
      "source": [
        "## 검색 코드"
      ],
      "metadata": {
        "id": "K43dO7JhcR5K"
      }
    },
    {
      "cell_type": "code",
      "source": [
        "# 비교 기준과 병합용 table\n",
        "standard = df_search(['기준'], [['구글']], '2019-01-01', '2023-07-01', ages = '', gender = '')\n",
        "whole_join = standard.copy().set_index('period')\n",
        "\n",
        "\n",
        "# night_list, detail_list 는 야간의 작품명들과 그것들의 세부 검색어 집합\n",
        "for a in tqdm(range(len(night_list))):\n",
        "  # df_search의 인자\n",
        "  title = night_list[a]\n",
        "  details = [detail_list[a], ['구글']]\n",
        "  ages = ''\n",
        "  gender = ''\n",
        "  keyword, startdate, enddate = return_search_info(title)\n",
        "  # 7월까지로 데이터 제한\n",
        "  if enddate < '2023-07-01':\n",
        "    pass\n",
        "  else:\n",
        "    enddate = '2023-07-01'\n",
        "\n",
        "  # 비교가 가능하도록 조정\n",
        "  t.sleep(0.1)\n",
        "  k = df_search(keyword, details, startdate, enddate, ages, gender)\n",
        "  value = standard.loc[standard['period'] == k.iloc[0,0], '기준'] / k.iloc[0,2]\n",
        "  value = value.values[0]\n",
        "\n",
        "  k.iloc[:, 1] = k.iloc[:, 1]*value\n",
        "\n",
        "  whole_join = whole_join.join(k.iloc[:, :2].set_index('period'))\n"
      ],
      "metadata": {
        "colab": {
          "base_uri": "https://localhost:8080/"
        },
        "outputId": "65739f53-f8bc-48fe-a1ec-63ca2a6d3632",
        "id": "BQato0BLcR5L"
      },
      "execution_count": null,
      "outputs": [
        {
          "output_type": "stream",
          "name": "stderr",
          "text": [
            "100%|██████████| 313/313 [05:46<00:00,  1.11s/it]\n"
          ]
        }
      ]
    },
    {
      "cell_type": "code",
      "source": [
        "# whole_join.to_csv('/content/whole_join.csv', encoding = 'utf-8-sig')\n",
        "whole_join = pd.read_csv('/content/whole_join.csv', parse_dates = ['period'])"
      ],
      "metadata": {
        "id": "bNEWUsprC9w9"
      },
      "execution_count": null,
      "outputs": []
    },
    {
      "cell_type": "code",
      "source": [
        "whole_join['sum_search'] = whole_join.iloc[:, 2:].sum(axis=1)\n",
        "drama_search= whole_join[['period', '기준', 'sum_search']]"
      ],
      "metadata": {
        "id": "1aL7nBPBcR5M"
      },
      "execution_count": null,
      "outputs": []
    },
    {
      "cell_type": "code",
      "source": [
        "plt.figure(figsize = (13, 6))\n",
        "plt.plot(drama_search['period'], drama_search['기준'], label = 'standard')\n",
        "plt.plot(drama_search['period'], drama_search['sum_search'], label = 'sum of search')\n",
        "plt.legend()\n",
        "plt.show()"
      ],
      "metadata": {
        "colab": {
          "base_uri": "https://localhost:8080/",
          "height": 522
        },
        "outputId": "c8cb3eb5-cb83-4f34-fd1c-fbaba0c9be09",
        "id": "Kh6T12sgcR5M"
      },
      "execution_count": null,
      "outputs": [
        {
          "output_type": "display_data",
          "data": {
            "text/plain": [
              "<Figure size 1300x600 with 1 Axes>"
            ],
            "image/png": "[encoded data removed]"
          },
          "metadata": {}
        }
      ]
    },
    {
      "cell_type": "markdown",
      "source": [
        "# 쇼핑 검색량"
      ],
      "metadata": {
        "id": "7onrprHrnYBu"
      }
    },
    {
      "cell_type": "markdown",
      "metadata": {
        "id": "2vgCA8Lt-nAK"
      },
      "source": [
        "## 함수\n",
        "비교기준 : 유니클로  \n",
        "shopping_keyword(startdate, enddate, keyword, catergory = \"50000000\")  # 50000000은 패션/의류 카테고리   \n",
        "shopping_gender(startdate, enddate, keyword, category = \"50000000\")  \n",
        "shopping_age(startdate, enddate, keyword, category = \"50000000\")  \n",
        "plt_df(df)"
      ]
    },
    {
      "cell_type": "code",
      "execution_count": null,
      "metadata": {
        "id": "0_BoekrR5A4J"
      },
      "outputs": [],
      "source": [
        "### 키워드 총량(기준 : 유니클로) ###\n",
        "def shopping_keyword(startdate, enddate, keyword, catergory = \"50000000\"):\n",
        "\n",
        "  url = \"https://openapi.naver.com/v1/datalab/shopping/category/keywords\"\n",
        "  data = {\n",
        "      \"startDate\": startdate,\n",
        "      \"endDate\": enddate,\n",
        "      \"timeUnit\": \"date\",\n",
        "      \"category\": catergory,\n",
        "      \"keyword\": [\n",
        "          {\"name\": \"유니클로\", \"param\": [ \"유니클로\"]},\n",
        "          {\"name\": keyword, \"param\": [keyword]}\n",
        "      ],\n",
        "      \"device\": \"mo\",\n",
        "      \"gender\": \"\",\n",
        "      \"ages\": []\n",
        "  }\n",
        "\n",
        "  body = json.dumps(data)\n",
        "\n",
        "  request = urllib.request.Request(url)\n",
        "  request.add_header(\"X-Naver-Client-Id\", client_id)\n",
        "  request.add_header(\"X-Naver-Client-Secret\", client_secret)\n",
        "  request.add_header(\"Content-Type\",\"application/json\")\n",
        "  response = urllib.request.urlopen(request, data=body.encode(\"utf-8\"))\n",
        "  rescode = response.getcode()\n",
        "  if(rescode==200):\n",
        "      response_body = response.read()\n",
        "      response_dict = json.loads(response_body.decode('utf-8'))\n",
        "      print(response_dict)\n",
        "  else:\n",
        "      print(\"Error Code:\" + str(rescode))\n",
        "\n",
        "  result = json.loads(response_body.decode('utf-8'))\n",
        "  df = pd.DataFrame()\n",
        "\n",
        "  # Iterate through each item in the 'results' list\n",
        "  for item in result['results']:\n",
        "      item_df = pd.DataFrame(item['data']).set_index('period')\n",
        "      item_df.columns = [item['title']]\n",
        "\n",
        "      # Append this DataFrame to the main DataFrame\n",
        "      df = pd.concat([df, item_df], axis=1)\n",
        "\n",
        "  df.fillna(0, inplace = True)\n",
        "  df.reset_index(inplace=True)\n",
        "\n",
        "  df['period'] = pd.to_datetime(df['period'])\n",
        "  df.sort_values('period', inplace=True)\n",
        "  df = df.reset_index(drop = True)\n",
        "\n",
        "\n",
        "  return df\n",
        "\n"
      ]
    },
    {
      "cell_type": "code",
      "execution_count": null,
      "metadata": {
        "id": "53r-9oSf6oQx"
      },
      "outputs": [],
      "source": [
        "### 키워드의 성별 비교 ###\n",
        "def shopping_gender(startdate, enddate, keyword, category = \"50000000\"):\n",
        "  url = \"https://openapi.naver.com/v1/datalab/shopping/category/keyword/gender\"\n",
        "  data = {\n",
        "      \"startDate\": startdate,\n",
        "      \"endDate\": enddate,\n",
        "      \"timeUnit\": \"date\",\n",
        "      \"category\": \"50000000\",\n",
        "      \"keyword\": keyword,\n",
        "      \"device\": \"mo\",\n",
        "      \"gender\": \"\",\n",
        "      \"ages\": []\n",
        "  }\n",
        "\n",
        "  body = json.dumps(data)\n",
        "\n",
        "  request = urllib.request.Request(url)\n",
        "  request.add_header(\"X-Naver-Client-Id\", client_id)\n",
        "  request.add_header(\"X-Naver-Client-Secret\", client_secret)\n",
        "  request.add_header(\"Content-Type\",\"application/json\")\n",
        "  response = urllib.request.urlopen(request, data=body.encode(\"utf-8\"))\n",
        "  rescode = response.getcode()\n",
        "  if(rescode==200):\n",
        "      response_body = response.read()\n",
        "      response_dict = json.loads(response_body.decode('utf-8'))\n",
        "      print(response_dict)\n",
        "  else:\n",
        "      print(\"Error Code:\" + str(rescode))\n",
        "\n",
        "\n",
        "  result = json.loads(response_body.decode('utf-8'))\n",
        "  df_data = []\n",
        "\n",
        "  # 결과를 반복하여 각 행에 대한 데이터를 생성합니다.\n",
        "  for res in result['results']:\n",
        "      for item in res['data']:\n",
        "          df_data.append({\n",
        "              'period': item['period'],\n",
        "              'ratio': item['ratio'],\n",
        "              'group': item['group'],\n",
        "          })\n",
        "\n",
        "  # 데이터프레임을 생성합니다.\n",
        "  df = pd.DataFrame(df_data)\n",
        "\n",
        "  # \"group\" 열을 이용해서 피벗하여 \"male\"과 \"female\"열을 만듭니다.\n",
        "  df = df.pivot(index='period', columns='group', values='ratio').reset_index()\n",
        "\n",
        "  # \"m\"과 \"f\" 대신에 \"male\"과 \"female\"로 열 이름을 변경합니다.\n",
        "  df.rename(columns={'m': 'male', 'f': 'female'}, inplace=True)\n",
        "\n",
        "  df.fillna(0, inplace = True)\n",
        "  df['period'] = pd.to_datetime(df['period'])\n",
        "  df.sort_values('period', inplace = True)\n",
        "  df = df.reset_index(drop = True)\n",
        "\n",
        "  return df\n",
        "\n"
      ]
    },
    {
      "cell_type": "code",
      "execution_count": null,
      "metadata": {
        "id": "G873rjc37eyI"
      },
      "outputs": [],
      "source": [
        "### 키워드의 연령 비교 ###\n",
        "def shopping_age(startdate, enddate, keyword, category = \"50000000\"):\n",
        "  url = \"https://openapi.naver.com/v1/datalab/shopping/category/keyword/age\"\n",
        "  data = {\n",
        "      \"startDate\": startdate,\n",
        "      \"endDate\": enddate,\n",
        "      \"timeUnit\": \"date\",\n",
        "      \"category\": category,\n",
        "      \"keyword\": keyword,\n",
        "      \"device\": \"\",\n",
        "      \"gender\": \"\",\n",
        "      \"ages\": []\n",
        "  }\n",
        "\n",
        "  body = json.dumps(data)\n",
        "\n",
        "  request = urllib.request.Request(url)\n",
        "  request.add_header(\"X-Naver-Client-Id\", client_id)\n",
        "  request.add_header(\"X-Naver-Client-Secret\", client_secret)\n",
        "  request.add_header(\"Content-Type\",\"application/json\")\n",
        "  response = urllib.request.urlopen(request, data=body.encode(\"utf-8\"))\n",
        "  rescode = response.getcode()\n",
        "  if(rescode==200):\n",
        "      response_body = response.read()\n",
        "      response_dict = json.loads(response_body.decode('utf-8'))\n",
        "      print(response_dict)\n",
        "  else:\n",
        "      print(\"Error Code:\" + str(rescode))\n",
        "\n",
        "  # json 풀기\n",
        "  result = json.loads(response_body.decode('utf-8'))\n",
        "  df_data = []\n",
        "\n",
        "  # 각 행 데이터 생성\n",
        "  for res in result['results']:\n",
        "      for item in res['data']:\n",
        "          df_data.append({\n",
        "              'period': item['period'],\n",
        "              'ratio': item['ratio'],\n",
        "              'group': item['group'],\n",
        "          })\n",
        "\n",
        "  # 데이터프레임 생성\n",
        "  df = pd.DataFrame(df_data)\n",
        "\n",
        "  # \"group\" 열을 이용해서 피벗하여 연령대별 그룹 만들기\n",
        "  df = df.pivot(index='period', columns='group', values='ratio').reset_index()\n",
        "  df.fillna(0, inplace = True)\n",
        "  df['period'] = pd.to_datetime(df['period'])\n",
        "  df.sort_values('period', inplace = True)\n",
        "  df = df.reset_index(drop = True)\n",
        "\n",
        "  return df\n",
        "\n",
        "\n"
      ]
    },
    {
      "cell_type": "code",
      "execution_count": null,
      "metadata": {
        "id": "o6WHAxVj8GZV"
      },
      "outputs": [],
      "source": [
        "def plt_df(df):\n",
        "  for a in df.columns[1:]:\n",
        "    x = df['period']\n",
        "    plt.plot(x, df[a], label = a)\n",
        "  plt.legend()\n",
        "  plt.show()"
      ]
    },
    {
      "cell_type": "markdown",
      "metadata": {
        "id": "DM84u026_Ma5"
      },
      "source": [
        "## 패션의류 카테고리에서의 검색량 확인"
      ]
    },
    {
      "cell_type": "code",
      "execution_count": null,
      "metadata": {
        "id": "ek6DTX-s_MwB"
      },
      "outputs": [],
      "source": [
        "# a = shopping_keyword(\"2019-01-01\", \"2020-01-01\", \"유니클로\")\n",
        "# b = shopping_keyword(\"2020-01-01\", \"2021-01-01\", \"유니클로\")\n",
        "# c = shopping_keyword(\"2021-01-01\", \"2022-01-01\", \"유니클로\")\n",
        "# d = shopping_keyword(\"2022-01-01\", \"2023-01-01\", \"유니클로\")\n",
        "# e = shopping_keyword(\"2023-01-01\", \"2023-07-21\", \"유니클로\")\n",
        "\n",
        "# k = [a, b, c, d, e]"
      ]
    },
    {
      "cell_type": "code",
      "execution_count": null,
      "metadata": {
        "id": "IGxILZtzd-Kt"
      },
      "outputs": [],
      "source": [
        "# # 유니클로로 기준\n",
        "# for argu in range(5):\n",
        "#   if argu != 0:\n",
        "#     now = k[argu].copy()\n",
        "#     x = before.iloc[-1, 1] / now.iloc[0, 1]\n",
        "#     now.iloc[:,1] = now.iloc[:, 1] * x\n",
        "#     shop_standard = pd.concat([before.iloc[:-1, :], now])\n",
        "#     before = shop_standard\n",
        "#   else:\n",
        "#     before = k[argu]\n",
        "\n",
        "# shop_standard = shop_standard.reset_index(drop = True)"
      ]
    },
    {
      "cell_type": "code",
      "execution_count": null,
      "metadata": {
        "id": "QxpBmZ30vEpi"
      },
      "outputs": [],
      "source": [
        "# error_list = []\n",
        "# for name in dramalist:\n",
        "#   try:\n",
        "#     target = meta.loc[meta['작품명'] == name, ['시작일', '종료일']]\n",
        "#     if target.iloc[0, 1] <= '2023-07-21':\n",
        "#       table = shopping_keyword(str(target.iloc[0,0])[:10], str(target.iloc[0,1])[:10], name)\n",
        "#     else:\n",
        "#       table = shopping_keyword(str(target.iloc[0,0])[:10], '2023-07-21', name)\n",
        "\n",
        "#     x = float(shop_standard.loc[shop_standard['period'] == table.iloc[0,0], '유니클로'] / table.iloc[0, 1]) # 유니클로가 기준\n",
        "#     table.iloc[:,[1,2]] = table.iloc[:, [1,2]] * x  # 기준에 따라 정렬\n",
        "#     table = table.drop('유니클로', axis =1)\n",
        "\n",
        "#     shop_standard = shop_standard.merge(table, on = 'period', how = 'left')\n",
        "\n",
        "#   except Exception as e:\n",
        "#     error_list.append(name)\n",
        "#     print(name)"
      ]
    },
    {
      "cell_type": "code",
      "execution_count": null,
      "metadata": {
        "id": "X20EPARhLRAg"
      },
      "outputs": [],
      "source": [
        "# print(len(error_list), error_list)"
      ]
    },
    {
      "cell_type": "code",
      "execution_count": null,
      "metadata": {
        "id": "suyEo4Uh0hwP"
      },
      "outputs": [],
      "source": [
        "# modifies = ['최고의치킨', '해치', '국민여러분', '에이틴', '녹두꽃', '이몽', '보이스3', '아스달연대기', '조선생존기', '레벨업', '신입사관구해령', '꽃파당',\n",
        "#             '녹두전', '나의 나라', '레버리지', '간택', '터치', '바람과구름과비', '낮과밤', '바람피면 죽는다', '암행어사 조선비밀수사단', '루카', '달이 뜨는 강', '시지프스', '괴물',\n",
        "#             '마우스', '어쩌다가족', '나빌레라', '보쌈', '마인', '멀리서보면푸른봄', '보이스4', '홍천기', '연모', '아이돌 더 쿠데타', '옷소매붉은 끝동', '태종이방원', '꽃피면달생각하고',\n",
        "#             '기상청 사람들', '킬힐', '돼지의왕', '별똥별', '지금부터 쇼타임', '구필수는 없다', '이브','왜 오수재인가', '클리닝업', '아다마스', '조선정신과의사유세풍', '블라인드', '디엠파이어',\n",
        "#             '금혼령', '트롤리', '미씽', '조선 정신과의사 유세풍', '청춘월담', '오아시스', '판도라', '조선변호사', '스틸러',  '넘버스',\n",
        "#             '악귀','가슴이 뛴다']\n",
        "# len(modifies)"
      ]
    },
    {
      "cell_type": "code",
      "execution_count": null,
      "metadata": {
        "id": "eEBEpk0Qorsd"
      },
      "outputs": [],
      "source": [
        "# error_list_2 = []\n",
        "# for i in range(len(error_list)):\n",
        "#   try:\n",
        "#     target = meta.loc[meta['작품명'] == error_list[i], ['시작일', '종료일']]                          # 시간지정에는 error_list\n",
        "#     if target.iloc[0, 1] <= '2023-07-21':\n",
        "#       table = shopping_keyword(str(target.iloc[0,0])[:10], str(target.iloc[0,1])[:10], modifies[i])   # 검색에는 modifies\n",
        "#     else:\n",
        "#       table = shopping_keyword(str(target.iloc[0,0])[:10], '2023-07-21', modifies[i])\n",
        "\n",
        "#     # 이전의 for문과의 차이 : col 이름 바꿔주기\n",
        "#     table = table.rename(columns = {modifies[i] : error_list[i]})\n",
        "#     x = float(shop_standard.loc[shop_standard['period'] == table.iloc[0,0], '유니클로'] / table.iloc[0, 1]) # 유니클로가 기준\n",
        "#     table.iloc[:,[1,2]] = table.iloc[:, [1,2]] * x  # 기준에 따라 정렬\n",
        "#     table = table.drop('유니클로', axis =1)\n",
        "\n",
        "#     shop_standard = shop_standard.merge(table, on = 'period', how = 'left')\n",
        "\n",
        "#   except Exception as e:\n",
        "#     error_list_2.append(error_list[i])\n",
        "#     print(error_list[i])"
      ]
    },
    {
      "cell_type": "code",
      "execution_count": null,
      "metadata": {
        "id": "ianCoDWrodb7"
      },
      "outputs": [],
      "source": [
        "# shop_standard.to_csv('shops.csv', index= False, encoding = 'utf-8-sig')\n",
        "shops = pd.read_csv('/content/shops.csv')"
      ]
    },
    {
      "cell_type": "code",
      "execution_count": null,
      "metadata": {
        "id": "HQw0MzBXqGSU"
      },
      "outputs": [],
      "source": [
        "error_list_2 = ['최고의 치킨',\n",
        " '해치',\n",
        " '녹두꽃',\n",
        " '이몽',\n",
        " '아스달 연대기',\n",
        " '조선생존기',\n",
        " '레벨업',\n",
        " '신입사관 구해령',\n",
        " '꽃파당: 조선혼담공작소',\n",
        " '조선로코-녹두전',\n",
        " '나의 나라',\n",
        " '간택 - 여인들의 전쟁',\n",
        " '터치',\n",
        " '바람과 구름과 비',\n",
        " '낮과 밤',\n",
        " '바람피면 죽는다',\n",
        " '암행어사: 조선비밀수사단',\n",
        " '루카: 더 비기닝',\n",
        " '달이 뜨는 강',\n",
        " '괴물',\n",
        " '마우스',\n",
        " '어쩌다 가족',\n",
        " '나빌레라',\n",
        " '보쌈 - 운명을 훔치다',\n",
        " '멀리서 보면 푸른 봄',\n",
        " '보이스 4',\n",
        " '홍천기',\n",
        " '연모',\n",
        " '옷소매 붉은 끝동',\n",
        " '태종 이방원',\n",
        " '꽃 피면 달 생각하고',\n",
        " '킬힐',\n",
        " '돼지의 왕',\n",
        " '별똥별',\n",
        " '구필수는 없다',\n",
        " '이브',\n",
        " '클리닝 업',\n",
        " '아다마스',\n",
        " '조선 정신과 의사 유세풍',\n",
        " '블라인드',\n",
        " '트롤리',\n",
        " '미씽: 그들이 있었다 2',\n",
        " '조선 정신과 의사 유세풍 2',\n",
        " '청춘월담',\n",
        " '오아시스',\n",
        " '조선변호사',\n",
        " '악귀',\n",
        " '가슴이 뛴다']"
      ]
    },
    {
      "cell_type": "code",
      "execution_count": null,
      "metadata": {
        "id": "QXLMPLKDeIeH"
      },
      "outputs": [],
      "source": [
        "errors = pd.DataFrame(error_list_2, columns = ['index'])"
      ]
    },
    {
      "cell_type": "code",
      "execution_count": null,
      "metadata": {
        "id": "UlTFb67_fEgs"
      },
      "outputs": [],
      "source": [
        "mean_shops = shops.iloc[:, 2:].mean()\n",
        "mean_shops = pd.DataFrame(mean_shops, columns = ['mean of shops']).reset_index()\n",
        "mean_shops = pd.concat([mean_shops, errors]).reset_index(drop = True).fillna(0)"
      ]
    }
  ]
}