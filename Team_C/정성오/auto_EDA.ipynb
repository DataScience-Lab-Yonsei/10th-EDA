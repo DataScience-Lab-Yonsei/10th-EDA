{
 "cells": [
  {
   "cell_type": "code",
   "execution_count": 1,
   "metadata": {},
   "outputs": [
    {
     "ename": "ModuleNotFoundError",
     "evalue": "No module named 'sweetvis'",
     "output_type": "error",
     "traceback": [
      "\u001b[1;31m---------------------------------------------------------------------------\u001b[0m",
      "\u001b[1;31mModuleNotFoundError\u001b[0m                       Traceback (most recent call last)",
      "Cell \u001b[1;32mIn[1], line 3\u001b[0m\n\u001b[0;32m      1\u001b[0m \u001b[39mimport\u001b[39;00m \u001b[39mnumpy\u001b[39;00m \u001b[39mas\u001b[39;00m \u001b[39mnp\u001b[39;00m\n\u001b[0;32m      2\u001b[0m \u001b[39mimport\u001b[39;00m \u001b[39mpandas\u001b[39;00m \u001b[39mas\u001b[39;00m \u001b[39mpd\u001b[39;00m\n\u001b[1;32m----> 3\u001b[0m \u001b[39mimport\u001b[39;00m \u001b[39msweetvis\u001b[39;00m \u001b[39mas\u001b[39;00m \u001b[39msv\u001b[39;00m\n",
      "\u001b[1;31mModuleNotFoundError\u001b[0m: No module named 'sweetvis'"
     ]
    }
   ],
   "source": [
    "import numpy as np\n",
    "import pandas as pd\n",
    "import sweetvis as sv\n"
   ]
  },
  {
   "cell_type": "markdown",
   "metadata": {},
   "source": [
    "## data preparation"
   ]
  },
  {
   "cell_type": "markdown",
   "metadata": {},
   "source": [
    "### google colab 사용시"
   ]
  },
  {
   "cell_type": "code",
   "execution_count": null,
   "metadata": {},
   "outputs": [],
   "source": [
    "# from google.colab import files\n",
    "# import io"
   ]
  },
  {
   "cell_type": "code",
   "execution_count": null,
   "metadata": {},
   "outputs": [],
   "source": [
    "#미니시리즈_메타데이터.csv파일 업로드\n",
    "\n",
    "# uploaded = files.upload()\n",
    "# mini_meta_df = pd.read_csv(io.BytesIO(uploaded['미니시리즈_메타데이터.csv']))\n",
    "\n"
   ]
  },
  {
   "cell_type": "code",
   "execution_count": null,
   "metadata": {},
   "outputs": [],
   "source": [
    "#미니시리즈 전처리1.csv파일 업로드\n",
    "\n",
    "# uploaded = files.upload()\n",
    "# mini_preprocessed_df = pd.read_csv(io.BytesIO(uploaded['미니시리즈 전처리1.csv']))\n"
   ]
  },
  {
   "cell_type": "code",
   "execution_count": null,
   "metadata": {},
   "outputs": [],
   "source": [
    "#드라마_시청률_데이터.csv파일 업로드\n",
    "\n",
    "# uploaded = files.upload()\n",
    "# rating_df = pd.read_csv(io.BytesIO(uploaded['드라마_시청률_데이터.csv']))\n"
   ]
  },
  {
   "cell_type": "markdown",
   "metadata": {},
   "source": [
    "### 로컬에서 불러올시"
   ]
  },
  {
   "cell_type": "code",
   "execution_count": null,
   "metadata": {},
   "outputs": [
    {
     "data": {
      "text/html": [
       "<div>\n",
       "<style scoped>\n",
       "    .dataframe tbody tr th:only-of-type {\n",
       "        vertical-align: middle;\n",
       "    }\n",
       "\n",
       "    .dataframe tbody tr th {\n",
       "        vertical-align: top;\n",
       "    }\n",
       "\n",
       "    .dataframe thead th {\n",
       "        text-align: right;\n",
       "    }\n",
       "</style>\n",
       "<table border=\"1\" class=\"dataframe\">\n",
       "  <thead>\n",
       "    <tr style=\"text-align: right;\">\n",
       "      <th></th>\n",
       "      <th>작품명</th>\n",
       "      <th>방송일자</th>\n",
       "      <th>시청률</th>\n",
       "      <th>방영연도</th>\n",
       "      <th>월</th>\n",
       "      <th>일</th>\n",
       "      <th>회차</th>\n",
       "      <th>연속방송</th>\n",
       "    </tr>\n",
       "  </thead>\n",
       "  <tbody>\n",
       "    <tr>\n",
       "      <th>0</th>\n",
       "      <td>(아는 건 별로 없지만) 가족입니다</td>\n",
       "      <td>2020-06-01</td>\n",
       "      <td>3.122</td>\n",
       "      <td>2020</td>\n",
       "      <td>6</td>\n",
       "      <td>1</td>\n",
       "      <td>1</td>\n",
       "      <td>1</td>\n",
       "    </tr>\n",
       "    <tr>\n",
       "      <th>1</th>\n",
       "      <td>(아는 건 별로 없지만) 가족입니다</td>\n",
       "      <td>2020-06-02</td>\n",
       "      <td>3.930</td>\n",
       "      <td>2020</td>\n",
       "      <td>6</td>\n",
       "      <td>2</td>\n",
       "      <td>2</td>\n",
       "      <td>1</td>\n",
       "    </tr>\n",
       "    <tr>\n",
       "      <th>2</th>\n",
       "      <td>(아는 건 별로 없지만) 가족입니다</td>\n",
       "      <td>2020-06-08</td>\n",
       "      <td>3.345</td>\n",
       "      <td>2020</td>\n",
       "      <td>6</td>\n",
       "      <td>8</td>\n",
       "      <td>3</td>\n",
       "      <td>1</td>\n",
       "    </tr>\n",
       "    <tr>\n",
       "      <th>3</th>\n",
       "      <td>(아는 건 별로 없지만) 가족입니다</td>\n",
       "      <td>2020-06-09</td>\n",
       "      <td>3.862</td>\n",
       "      <td>2020</td>\n",
       "      <td>6</td>\n",
       "      <td>9</td>\n",
       "      <td>4</td>\n",
       "      <td>1</td>\n",
       "    </tr>\n",
       "    <tr>\n",
       "      <th>4</th>\n",
       "      <td>(아는 건 별로 없지만) 가족입니다</td>\n",
       "      <td>2020-06-15</td>\n",
       "      <td>3.188</td>\n",
       "      <td>2020</td>\n",
       "      <td>6</td>\n",
       "      <td>15</td>\n",
       "      <td>5</td>\n",
       "      <td>1</td>\n",
       "    </tr>\n",
       "    <tr>\n",
       "      <th>...</th>\n",
       "      <td>...</td>\n",
       "      <td>...</td>\n",
       "      <td>...</td>\n",
       "      <td>...</td>\n",
       "      <td>...</td>\n",
       "      <td>...</td>\n",
       "      <td>...</td>\n",
       "      <td>...</td>\n",
       "    </tr>\n",
       "    <tr>\n",
       "      <th>8709</th>\n",
       "      <td>힙합왕 - 나스나길</td>\n",
       "      <td>2019-08-16</td>\n",
       "      <td>1.200</td>\n",
       "      <td>2019</td>\n",
       "      <td>8</td>\n",
       "      <td>16</td>\n",
       "      <td>2</td>\n",
       "      <td>2</td>\n",
       "    </tr>\n",
       "    <tr>\n",
       "      <th>8710</th>\n",
       "      <td>힙합왕 - 나스나길</td>\n",
       "      <td>2019-08-23</td>\n",
       "      <td>1.300</td>\n",
       "      <td>2019</td>\n",
       "      <td>8</td>\n",
       "      <td>23</td>\n",
       "      <td>3</td>\n",
       "      <td>2</td>\n",
       "    </tr>\n",
       "    <tr>\n",
       "      <th>8711</th>\n",
       "      <td>힙합왕 - 나스나길</td>\n",
       "      <td>2019-08-30</td>\n",
       "      <td>1.350</td>\n",
       "      <td>2019</td>\n",
       "      <td>8</td>\n",
       "      <td>30</td>\n",
       "      <td>4</td>\n",
       "      <td>2</td>\n",
       "    </tr>\n",
       "    <tr>\n",
       "      <th>8712</th>\n",
       "      <td>힙합왕 - 나스나길</td>\n",
       "      <td>2019-09-06</td>\n",
       "      <td>0.600</td>\n",
       "      <td>2019</td>\n",
       "      <td>9</td>\n",
       "      <td>6</td>\n",
       "      <td>5</td>\n",
       "      <td>2</td>\n",
       "    </tr>\n",
       "    <tr>\n",
       "      <th>8713</th>\n",
       "      <td>힙합왕 - 나스나길</td>\n",
       "      <td>2019-09-13</td>\n",
       "      <td>0.750</td>\n",
       "      <td>2019</td>\n",
       "      <td>9</td>\n",
       "      <td>13</td>\n",
       "      <td>6</td>\n",
       "      <td>2</td>\n",
       "    </tr>\n",
       "  </tbody>\n",
       "</table>\n",
       "<p>8714 rows × 8 columns</p>\n",
       "</div>"
      ],
      "text/plain": [
       "                      작품명        방송일자    시청률  방영연도  월   일  회차  연속방송\n",
       "0     (아는 건 별로 없지만) 가족입니다  2020-06-01  3.122  2020  6   1   1     1\n",
       "1     (아는 건 별로 없지만) 가족입니다  2020-06-02  3.930  2020  6   2   2     1\n",
       "2     (아는 건 별로 없지만) 가족입니다  2020-06-08  3.345  2020  6   8   3     1\n",
       "3     (아는 건 별로 없지만) 가족입니다  2020-06-09  3.862  2020  6   9   4     1\n",
       "4     (아는 건 별로 없지만) 가족입니다  2020-06-15  3.188  2020  6  15   5     1\n",
       "...                   ...         ...    ...   ... ..  ..  ..   ...\n",
       "8709           힙합왕 - 나스나길  2019-08-16  1.200  2019  8  16   2     2\n",
       "8710           힙합왕 - 나스나길  2019-08-23  1.300  2019  8  23   3     2\n",
       "8711           힙합왕 - 나스나길  2019-08-30  1.350  2019  8  30   4     2\n",
       "8712           힙합왕 - 나스나길  2019-09-06  0.600  2019  9   6   5     2\n",
       "8713           힙합왕 - 나스나길  2019-09-13  0.750  2019  9  13   6     2\n",
       "\n",
       "[8714 rows x 8 columns]"
      ]
     },
     "metadata": {},
     "output_type": "display_data"
    }
   ],
   "source": [
    "file_path = r\"C:\\Users\\sjung\\Desktop\\Data_Science_Lab\\EDA_project\\10th-EDA\\Team_C\\정제데이터\\\\\"\n",
    "rating_d= pd.read_csv(file_path+'전체시청률.csv')\n",
    "rating_d"
   ]
  },
  {
   "cell_type": "code",
   "execution_count": null,
   "metadata": {},
   "outputs": [],
   "source": []
  },
  {
   "cell_type": "code",
   "execution_count": null,
   "metadata": {},
   "outputs": [],
   "source": []
  },
  {
   "cell_type": "code",
   "execution_count": null,
   "metadata": {},
   "outputs": [],
   "source": []
  },
  {
   "cell_type": "code",
   "execution_count": null,
   "metadata": {},
   "outputs": [],
   "source": []
  }
 ],
 "metadata": {
  "kernelspec": {
   "display_name": "base",
   "language": "python",
   "name": "python3"
  },
  "language_info": {
   "codemirror_mode": {
    "name": "ipython",
    "version": 3
   },
   "file_extension": ".py",
   "mimetype": "text/x-python",
   "name": "python",
   "nbconvert_exporter": "python",
   "pygments_lexer": "ipython3",
   "version": "3.11.3"
  },
  "orig_nbformat": 4
 },
 "nbformat": 4,
 "nbformat_minor": 2
}
