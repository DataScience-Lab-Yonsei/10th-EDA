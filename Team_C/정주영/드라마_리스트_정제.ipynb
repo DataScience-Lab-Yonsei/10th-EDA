{
  "nbformat": 4,
  "nbformat_minor": 0,
  "metadata": {
    "colab": {
      "provenance": []
    },
    "kernelspec": {
      "name": "python3",
      "display_name": "Python 3"
    },
    "language_info": {
      "name": "python"
    }
  },
  "cells": [
    {
      "cell_type": "code",
      "source": [
        "from google.colab import drive\n",
        "drive.mount('/content/drive')"
      ],
      "metadata": {
        "colab": {
          "base_uri": "https://localhost:8080/"
        },
        "id": "KYxSsM5rE2sn",
        "outputId": "e9498d83-dc96-4cfc-d6ed-bdd52601df96"
      },
      "execution_count": 3,
      "outputs": [
        {
          "output_type": "stream",
          "name": "stdout",
          "text": [
            "Mounted at /content/drive\n"
          ]
        }
      ]
    },
    {
      "cell_type": "code",
      "source": [
        "import pandas as pd\n",
        "import numpy as np\n",
        "import glob"
      ],
      "metadata": {
        "id": "O5FF7ZHJFTSN"
      },
      "execution_count": 1,
      "outputs": []
    },
    {
      "cell_type": "code",
      "source": [
        "\n",
        "# csv 파일명 리스트\n",
        "csv_files = glob.glob('/content/drive/MyDrive/데싸랩/EDA 2023_여름/드라마 데이터/*.csv')\n",
        "\n",
        "# 각 파일의 첫번째 행은 제거, df 다 읽어오기\n",
        "df_list = [pd.read_csv(file).iloc[1:] for file in csv_files]\n",
        "\n",
        "# df 하나로 묶기\n",
        "df = pd.concat(df_list)"
      ],
      "metadata": {
        "id": "KyHMohN8GBbp"
      },
      "execution_count": 4,
      "outputs": []
    },
    {
      "cell_type": "code",
      "source": [
        "# 전처리\n",
        "## Nan 지우기\n",
        "df = df.fillna(method = 'ffill')\n",
        "\n",
        "## 리스트에 사용할 수 있도록 불필요한 글자 지우기\n",
        "df = df.replace('《', '', regex=True)\n",
        "df = df.replace('》', '', regex=True)\n",
        "df = df.replace(\"\\xa0\", \" \", regex=True)\n",
        "\n",
        "## groupby로 묶었다가 풀어서 nan 행의 데이터를 위 행의 데이터 쉼표(,)를 기준으로 추가\n",
        "df = df.groupby('작품명').agg(lambda x: ', '.join(set(x.astype(str))))\n",
        "df = df.reset_index()\n",
        "\n",
        "## 방송기간 기준으로 정렬하고 index 정리\n",
        "df = df.sort_values('방송 기간').reset_index(drop = True)"
      ],
      "metadata": {
        "id": "cgKApftQHe12"
      },
      "execution_count": 5,
      "outputs": []
    },
    {
      "cell_type": "code",
      "source": [
        "# sample data에 저장\n",
        "# df.to_csv('/content/sample_data/1923_drama_list.csv', index=False)"
      ],
      "metadata": {
        "id": "g-brxvZoHrqT"
      },
      "execution_count": 7,
      "outputs": []
    }
  ]
}