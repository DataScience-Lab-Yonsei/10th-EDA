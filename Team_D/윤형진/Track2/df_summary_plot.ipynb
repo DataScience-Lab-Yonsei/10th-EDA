{
 "cells": [
  {
   "cell_type": "markdown",
   "metadata": {},
   "source": [
    "## 필요 라이브러리 및 데이터셋 로드"
   ]
  },
  {
   "cell_type": "code",
   "execution_count": 1,
   "metadata": {},
   "outputs": [],
   "source": [
    "import pandas as pd\n",
    "import numpy as np\n",
    "import matplotlib.pyplot as plt"
   ]
  },
  {
   "cell_type": "code",
   "execution_count": 11,
   "metadata": {},
   "outputs": [],
   "source": [
    "plt.rcParams['font.family'] = 'AppleGothic'"
   ]
  },
  {
   "cell_type": "code",
   "execution_count": 2,
   "metadata": {},
   "outputs": [],
   "source": [
    "path = \"/Users/younyung.gene/__DSL__/EDA/_pc5_16clusters_/df_summary.csv\"\n",
    "df = pd.read_csv(path, encoding = \"utf-8\")"
   ]
  },
  {
   "cell_type": "code",
   "execution_count": null,
   "metadata": {},
   "outputs": [],
   "source": [
    "#인덱스 칼럼 지정\n",
    "df.set_index('Unnamed: 0', inplace=True)"
   ]
  },
  {
   "cell_type": "code",
   "execution_count": 7,
   "metadata": {},
   "outputs": [
    {
     "name": "stdout",
     "output_type": "stream",
     "text": [
      "<class 'pandas.core.frame.DataFrame'>\n",
      "Index: 7 entries, 요양일수 to 총처방일수\n",
      "Data columns (total 16 columns):\n",
      " #   Column  Non-Null Count  Dtype  \n",
      "---  ------  --------------  -----  \n",
      " 0   0       7 non-null      float64\n",
      " 1   1       7 non-null      float64\n",
      " 2   2       7 non-null      float64\n",
      " 3   3       7 non-null      float64\n",
      " 4   4       7 non-null      float64\n",
      " 5   5       7 non-null      float64\n",
      " 6   6       7 non-null      float64\n",
      " 7   7       7 non-null      float64\n",
      " 8   8       7 non-null      float64\n",
      " 9   9       7 non-null      float64\n",
      " 10  10      7 non-null      float64\n",
      " 11  11      7 non-null      float64\n",
      " 12  12      7 non-null      float64\n",
      " 13  13      7 non-null      float64\n",
      " 14  14      7 non-null      float64\n",
      " 15  15      7 non-null      float64\n",
      "dtypes: float64(16)\n",
      "memory usage: 952.0+ bytes\n"
     ]
    }
   ],
   "source": [
    "#데이터셋 확인\n",
    "df.info()"
   ]
  },
  {
   "cell_type": "code",
   "execution_count": 8,
   "metadata": {},
   "outputs": [
    {
     "data": {
      "text/plain": [
       "Index(['요양일수', '입내원일수', '심결가산율', '심결요양급여비용총액', '심결본인부담금', '심결보험자부담금', '총처방일수'], dtype='object', name='Unnamed: 0')"
      ]
     },
     "execution_count": 8,
     "metadata": {},
     "output_type": "execute_result"
    }
   ],
   "source": [
    "df.index"
   ]
  },
  {
   "cell_type": "markdown",
   "metadata": {},
   "source": [
    "## pie chart"
   ]
  },
  {
   "cell_type": "code",
   "execution_count": 42,
   "metadata": {},
   "outputs": [],
   "source": [
    "#인덱스 저장 리스트 선언\n",
    "index = ['요양일수', '입내원일수', '심결가산율', '심결요양급여비용총액', '심결본인부담금', '심결보험자부담금', '총처방일수']\n",
    "\n",
    "#pie chart\n",
    "for idx, medical_record in enumerate(index):\n",
    "    data = df.iloc[idx]\n",
    "    data = data.sort_values(by=[\"\"])\n",
    "    cmap = plt.cm.get_cmap(\"Spectral\")\n",
    "    colors = cmap(np.linspace(0, 1, len(data)))\n",
    "    data.plot(kind=\"pie\", colors=colors, autopct='%1.1f%%')\n",
    "\n",
    "    plt.savefig(f\"/Users/younyung.gene/__DSL__/EDA/_pc5_16clusters_/df_summary_plots/{medical_record} distribution.png\")\n",
    "    plt.close()"
   ]
  },
  {
   "cell_type": "markdown",
   "metadata": {},
   "source": [
    "## head 3, tail 3 정리"
   ]
  },
  {
   "cell_type": "code",
   "execution_count": 37,
   "metadata": {},
   "outputs": [],
   "source": [
    "def getHeadTails(idx, df):\n",
    "    data = df.iloc[idx]\n",
    "    temp = pd.DataFrame()\n",
    "    data = data.T\n",
    "    column  = ['요양일수', '입내원일수', '심결가산율', '심결요양급여비용총액', '심결본인부담금', '심결보험자부담금', '총처방일수'][idx]\n",
    "    data = pd.DataFrame(data, columns=[\"평균 \"+column])\n",
    "    data = data.reset_index()\n",
    "    data.sort_values(by='index', inplace=True)\n",
    "    temp = pd.concat([temp, data.head(3)], axis=0)\n",
    "    temp = pd.concat([temp, data.tail(3)], axis=0)\n",
    "    return temp\n"
   ]
  },
  {
   "cell_type": "code",
   "execution_count": 38,
   "metadata": {},
   "outputs": [],
   "source": [
    "a = getHeadTails(1, df)"
   ]
  },
  {
   "cell_type": "code",
   "execution_count": 39,
   "metadata": {},
   "outputs": [
    {
     "name": "stdout",
     "output_type": "stream",
     "text": [
      "   index     입내원일수\n",
      "0      0  2.563129\n",
      "1      1  2.370130\n",
      "10    10  1.238246\n",
      "7      7  1.496032\n",
      "8      8  1.101163\n",
      "9      9  1.443889\n"
     ]
    }
   ],
   "source": [
    "print(a)"
   ]
  },
  {
   "cell_type": "code",
   "execution_count": null,
   "metadata": {},
   "outputs": [],
   "source": []
  }
 ],
 "metadata": {
  "kernelspec": {
   "display_name": "base",
   "language": "python",
   "name": "python3"
  },
  "language_info": {
   "codemirror_mode": {
    "name": "ipython",
    "version": 3
   },
   "file_extension": ".py",
   "mimetype": "text/x-python",
   "name": "python",
   "nbconvert_exporter": "python",
   "pygments_lexer": "ipython3",
   "version": "3.9.13"
  },
  "orig_nbformat": 4
 },
 "nbformat": 4,
 "nbformat_minor": 2
}
